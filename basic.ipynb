{
 "cells": [
  {
   "cell_type": "markdown",
   "metadata": {},
   "source": [
    "# Python语法基础 — 课程概要\n",
    "***\n",
    "本节预览：\n",
    "#Python常量与变量\n",
    "#Python数与字符串\n",
    "#Python数据类型\n",
    "#认识Python标识符\n",
    "#Pyhon对象\n",
    "#Python行与缩进"
   ]
  },
  {
   "cell_type": "markdown",
   "metadata": {},
   "source": [
    "# 体验Python"
   ]
  },
  {
   "cell_type": "code",
   "execution_count": 22,
   "metadata": {},
   "outputs": [
    {
     "name": "stdout",
     "output_type": "stream",
     "text": [
      "hello,world!\n"
     ]
    }
   ],
   "source": [
    "print('hello,world!')"
   ]
  },
  {
   "cell_type": "code",
   "execution_count": 21,
   "metadata": {},
   "outputs": [],
   "source": [
    "a=10"
   ]
  },
  {
   "cell_type": "code",
   "execution_count": 6,
   "metadata": {},
   "outputs": [],
   "source": [
    "a=100"
   ]
  },
  {
   "cell_type": "code",
   "execution_count": 7,
   "metadata": {},
   "outputs": [
    {
     "name": "stdout",
     "output_type": "stream",
     "text": [
      "100\n"
     ]
    }
   ],
   "source": [
    "print (a)"
   ]
  },
  {
   "cell_type": "code",
   "execution_count": 9,
   "metadata": {
    "scrolled": true
   },
   "outputs": [
    {
     "data": {
      "text/plain": [
       "3.0"
      ]
     },
     "execution_count": 9,
     "metadata": {},
     "output_type": "execute_result"
    }
   ],
   "source": [
    "9**(1/2)"
   ]
  },
  {
   "cell_type": "code",
   "execution_count": 5,
   "metadata": {
    "scrolled": true
   },
   "outputs": [
    {
     "name": "stdout",
     "output_type": "stream",
     "text": [
      "10\n",
      "test\n",
      "王老师真帅\n",
      "300\n",
      "abc\n"
     ]
    },
    {
     "data": {
      "text/plain": [
       "600"
      ]
     },
     "execution_count": 5,
     "metadata": {},
     "output_type": "execute_result"
    }
   ],
   "source": [
    "a=100\n",
    "a=10\n",
    "print (a)\n",
    "b='test'\n",
    "print (b)\n",
    "c='王老师真帅'\n",
    "print(c)\n",
    "print(100+200)\n",
    "print('abc')\n",
    "300*2"
   ]
  },
  {
   "cell_type": "code",
   "execution_count": 24,
   "metadata": {},
   "outputs": [
    {
     "data": {
      "text/plain": [
       "2874487358.639336"
      ]
     },
     "execution_count": 24,
     "metadata": {},
     "output_type": "execute_result"
    }
   ],
   "source": [
    "121214124+32323*321323**2/1212121"
   ]
  },
  {
   "cell_type": "markdown",
   "metadata": {},
   "source": [
    "# 1、Python常量与变量"
   ]
  },
  {
   "cell_type": "code",
   "execution_count": 25,
   "metadata": {},
   "outputs": [
    {
     "name": "stdout",
     "output_type": "stream",
     "text": [
      "7\n",
      "100\n"
     ]
    }
   ],
   "source": [
    "i=7\n",
    "print (i)\n",
    "i=100\n",
    "print(i)"
   ]
  },
  {
   "cell_type": "code",
   "execution_count": 7,
   "metadata": {},
   "outputs": [],
   "source": [
    "a=178  # a为小明身高\n",
    "xm_height=178\n",
    "xm_height+=xm_height"
   ]
  },
  {
   "cell_type": "markdown",
   "metadata": {},
   "source": [
    "## 2、Python数与字符串"
   ]
  },
  {
   "cell_type": "code",
   "execution_count": 8,
   "metadata": {},
   "outputs": [
    {
     "name": "stdout",
     "output_type": "stream",
     "text": [
      "2ght\n",
      "2ght It is a \"dog\"!\n"
     ]
    }
   ],
   "source": [
    "#单引号\n",
    "c1='2ght'\n",
    "print (c1)\n",
    "c2='It is a \"dog\"!'\n",
    "print (c1,c2)"
   ]
  },
  {
   "cell_type": "code",
   "execution_count": 9,
   "metadata": {},
   "outputs": [
    {
     "name": "stdout",
     "output_type": "stream",
     "text": [
      "z\n",
      "n zh ongqing gqi g gq zhongqingz\n",
      "gq\n"
     ]
    }
   ],
   "source": [
    "#子字符串\n",
    "#索引运算符从0开始索引\n",
    "#切片运算符[a:b]是指从第a下标开始到第b-1下标。同样第一位的下标为0.\n",
    "c1=\"zhongqing\"\n",
    "c2=c1[0]\n",
    "c3=c1[7]\n",
    "c4=c1[:2]  # 包前不包后\n",
    "c5=c1[2:]\n",
    "c6=c1[4:7]\n",
    "c7=c1[-1] \n",
    "c8=c1[-5:-3]\n",
    "c9=c1+c2\n",
    "\n",
    "print (c2)\n",
    "print (c3, c4, c5, c6,c7,c8,c9)\n",
    "print(c8)"
   ]
  },
  {
   "cell_type": "markdown",
   "metadata": {},
   "source": [
    "# Python的数据类型"
   ]
  },
  {
   "cell_type": "markdown",
   "metadata": {},
   "source": [
    "·基本数据类型\n",
    "·列表\n",
    "·元组\n",
    "·集合\n",
    "·字典"
   ]
  },
  {
   "cell_type": "markdown",
   "metadata": {},
   "source": [
    "在Python中没有数组的概念，Python中跟数组最接近的概念就是列表和元组，我们先说列表。列表就是用来存储一连串元素的容器。列表用[]来表示，比如说，一个班里面有30个学生，我们需要将30个学生安排到一间教室里面上课，如果把30个学生分别比作元素，那么这个教室就是数组。30个学生是按座位坐好，有序排列的，在数组中的元素也是有序排列的。那么下面我们来进行实例讲解。"
   ]
  },
  {
   "cell_type": "code",
   "execution_count": 26,
   "metadata": {},
   "outputs": [
    {
     "name": "stdout",
     "output_type": "stream",
     "text": [
      "3\n",
      "3\n",
      "['小李', '小娟']\n"
     ]
    }
   ],
   "source": [
    "#列表\n",
    "students=[\"小明\",\"小华\",\"小李\",\"小娟\",\"小云\",3]\n",
    "print (students[len(students)-1])\n",
    "print (students[-1])\n",
    "print (students[2:4])"
   ]
  },
  {
   "cell_type": "code",
   "execution_count": 11,
   "metadata": {},
   "outputs": [
    {
     "name": "stdout",
     "output_type": "stream",
     "text": [
      "小娟\n",
      "小月\n",
      "小楠\n",
      "19978\n"
     ]
    },
    {
     "data": {
      "text/plain": [
       "['小明', '小华', '小李', '小月', '小云', 19978]"
      ]
     },
     "execution_count": 11,
     "metadata": {},
     "output_type": "execute_result"
    }
   ],
   "source": [
    "#列表2\n",
    "students=[\"小明\",\"小华\",\"小李\",\"小娟\",\"小云\",3]\n",
    "print (students[3])\n",
    "\n",
    "students[3]=\"小月\"\n",
    "print (students[3])\n",
    "\n",
    "students[5]=\"小楠\"\n",
    "print (students[5])\n",
    "\n",
    "students[5]=19978\n",
    "print (students[5])\n",
    "\n",
    "students"
   ]
  },
  {
   "cell_type": "markdown",
   "metadata": {},
   "source": [
    "Python中跟数组类似的除了列表之外还有元组。元组里面的元素也是进行索引计算。但是列表跟元组有什么区别呢？一是列表里面的元素的值可以修改，而元组里面的元素的值不能修改，只能读取。区别二是列表的符号是[],而元组的符号是（）。下面我们进行实例演示。"
   ]
  },
  {
   "cell_type": "code",
   "execution_count": 12,
   "metadata": {},
   "outputs": [
    {
     "name": "stdout",
     "output_type": "stream",
     "text": [
      "小军\n"
     ]
    }
   ],
   "source": [
    "#元组\n",
    "students=(\"小明\",\"小军\",\"小强\",\"小武\",\"小龙\",100)\n",
    "print (students[1])"
   ]
  },
  {
   "cell_type": "code",
   "execution_count": 27,
   "metadata": {},
   "outputs": [
    {
     "ename": "TypeError",
     "evalue": "'tuple' object does not support item assignment",
     "output_type": "error",
     "traceback": [
      "\u001b[1;31m---------------------------------------------------------------------------\u001b[0m",
      "\u001b[1;31mTypeError\u001b[0m                                 Traceback (most recent call last)",
      "\u001b[1;32m<ipython-input-27-567976b4b50a>\u001b[0m in \u001b[0;36m<module>\u001b[1;34m\u001b[0m\n\u001b[0;32m      2\u001b[0m \u001b[0mstudents\u001b[0m\u001b[1;33m=\u001b[0m\u001b[1;33m(\u001b[0m\u001b[1;34m\"小明\"\u001b[0m\u001b[1;33m,\u001b[0m\u001b[1;34m\"小军\"\u001b[0m\u001b[1;33m,\u001b[0m\u001b[1;34m\"小强\"\u001b[0m\u001b[1;33m,\u001b[0m\u001b[1;34m\"小武\"\u001b[0m\u001b[1;33m,\u001b[0m\u001b[1;34m\"小龙\"\u001b[0m\u001b[1;33m)\u001b[0m\u001b[1;33m\u001b[0m\u001b[1;33m\u001b[0m\u001b[0m\n\u001b[0;32m      3\u001b[0m \u001b[1;33m\u001b[0m\u001b[0m\n\u001b[1;32m----> 4\u001b[1;33m \u001b[0mstudents\u001b[0m\u001b[1;33m[\u001b[0m\u001b[1;36m1\u001b[0m\u001b[1;33m]\u001b[0m\u001b[1;33m=\u001b[0m\u001b[1;34m\"小云\"\u001b[0m\u001b[1;33m\u001b[0m\u001b[1;33m\u001b[0m\u001b[0m\n\u001b[0m\u001b[0;32m      5\u001b[0m \u001b[0mprint\u001b[0m \u001b[1;33m(\u001b[0m\u001b[0mstudents\u001b[0m\u001b[1;33m[\u001b[0m\u001b[1;36m1\u001b[0m\u001b[1;33m]\u001b[0m\u001b[1;33m)\u001b[0m\u001b[1;33m\u001b[0m\u001b[1;33m\u001b[0m\u001b[0m\n",
      "\u001b[1;31mTypeError\u001b[0m: 'tuple' object does not support item assignment"
     ]
    }
   ],
   "source": [
    "#元组\n",
    "students=(\"小明\",\"小军\",\"小强\",\"小武\",\"小龙\")\n",
    "\n",
    "students[1]=\"小云\"\n",
    "print (students[1])"
   ]
  },
  {
   "cell_type": "markdown",
   "metadata": {},
   "source": [
    "Python中集合主要有两个功能，一个功能是进行集合操作，另一个功能是消除重复元素。\n",
    "集合的格式是：set(元素)"
   ]
  },
  {
   "cell_type": "code",
   "execution_count": 15,
   "metadata": {},
   "outputs": [
    {
     "data": {
      "text/plain": [
       "{1, 2, 3, 4, 5}"
      ]
     },
     "execution_count": 15,
     "metadata": {},
     "output_type": "execute_result"
    }
   ],
   "source": [
    "a=[1,2,3,4,5,4,2]\n",
    "set(a)"
   ]
  },
  {
   "cell_type": "code",
   "execution_count": 16,
   "metadata": {},
   "outputs": [
    {
     "name": "stdout",
     "output_type": "stream",
     "text": [
      "{'g', 'n', 'b', 's', 'c', 'a', 'm'}\n",
      "{'c', 'm'}\n",
      "{'g', 'n', 'b', 's', 'c', 'a', 'm'}\n",
      "{'g', 'd', 'f', 'b', 'n', 's', 'c', 'a', 'm'}\n",
      "{'f', 'd'}\n",
      "{'g', 'b', 's', 'c', 'a', 'm', 'n'}\n"
     ]
    }
   ],
   "source": [
    "a=set(\"abcnmaaaaggsng\")\n",
    "print (a)\n",
    "b=set(\"cdfm\")\n",
    "#交集\n",
    "x=a&b \n",
    "print (x)\n",
    "print (a) \n",
    "#并集\n",
    "y=a|b\n",
    "print (y) \n",
    "#差集\n",
    "z=b-a\n",
    "print (z) \n",
    "#去除重复元素\n",
    "new=set(a)\n",
    "print (new)"
   ]
  },
  {
   "cell_type": "markdown",
   "metadata": {},
   "source": [
    "Python中的字典也叫做关联数组，用大括号{}括起来。格式是这样的：zidian={'name':'weiwei','home':'guilin','like':'music'}我们可以这样理解：字典里面其实包含的是一整个事情，这个事情里面分别包括各种方面的具体信息。比如我们刚才这个，包含了name方面、home方面、like方面的具体信息，其中name方面的值为weiwei，home方面的值为guilin，以及like方面的值为music。下面我们进行实例讲解。\n"
   ]
  },
  {
   "cell_type": "code",
   "execution_count": 17,
   "metadata": {},
   "outputs": [
    {
     "name": "stdout",
     "output_type": "stream",
     "text": [
      "桂林\n",
      "韦玮\n",
      "音乐\n",
      "{'姓名': '韦玮', '籍贯': '桂林', '爱好': '音乐'}\n"
     ]
    }
   ],
   "source": [
    "#字典\n",
    "k={\"姓名\":\"韦玮\",\"籍贯\":\"桂林\"}\n",
    "print (k[\"籍贯\"])\n",
    "\n",
    "#添加字典里面的项目\n",
    "k[\"爱好\"]=\"音乐\"\n",
    "print (k[\"姓名\"])\n",
    "print (k[\"爱好\"])\n",
    "print (k)"
   ]
  },
  {
   "cell_type": "markdown",
   "metadata": {},
   "source": [
    "# Python关键字"
   ]
  },
  {
   "cell_type": "code",
   "execution_count": 28,
   "metadata": {},
   "outputs": [
    {
     "name": "stdout",
     "output_type": "stream",
     "text": [
      "['False', 'None', 'True', 'and', 'as', 'assert', 'async', 'await', 'break', 'class', 'continue', 'def', 'del', 'elif', 'else', 'except', 'finally', 'for', 'from', 'global', 'if', 'import', 'in', 'is', 'lambda', 'nonlocal', 'not', 'or', 'pass', 'raise', 'return', 'try', 'while', 'with', 'yield']\n",
      "<function main at 0x000001ECEB771EA0>\n"
     ]
    }
   ],
   "source": [
    "#常用关键字\n",
    "#查看一下关键字有哪些\n",
    "import keyword\n",
    "print (keyword.kwlist)\n",
    "print (keyword.main )        # 体会jupter自动完成功能"
   ]
  },
  {
   "cell_type": "markdown",
   "metadata": {},
   "source": [
    "# Python的运算符与表达式"
   ]
  },
  {
   "cell_type": "code",
   "execution_count": 21,
   "metadata": {},
   "outputs": [
    {
     "name": "stdout",
     "output_type": "stream",
     "text": [
      "15\n"
     ]
    }
   ],
   "source": [
    "#\"+\":两个对象相加\n",
    "#两个数字相加\n",
    "a=7+8\n",
    "print (a)"
   ]
  },
  {
   "cell_type": "code",
   "execution_count": 22,
   "metadata": {},
   "outputs": [
    {
     "name": "stdout",
     "output_type": "stream",
     "text": [
      "GOOD JOB!\n"
     ]
    }
   ],
   "source": [
    "#两个字符串相加\n",
    "b=\"GOOD\"+\" JOB!\"\n",
    "print (b)"
   ]
  },
  {
   "cell_type": "code",
   "execution_count": 23,
   "metadata": {},
   "outputs": [
    {
     "name": "stdout",
     "output_type": "stream",
     "text": [
      "-7\n",
      "8\n",
      "18\n"
     ]
    }
   ],
   "source": [
    "#\"-\":取一个数字的相反数或者实现两个数字相减\n",
    "a=-7\n",
    "print (a)\n",
    "b=-(-8)\n",
    "print (b)\n",
    "\n",
    "c=19-1\n",
    "print (c)"
   ]
  },
  {
   "cell_type": "code",
   "execution_count": 24,
   "metadata": {},
   "outputs": [
    {
     "name": "stdout",
     "output_type": "stream",
     "text": [
      "28\n",
      "hellohellohellohellohellohellohello\n",
      "hello\n",
      "hello\n",
      "hello\n",
      "hello\n",
      "hello\n",
      "hello\n",
      "hello\n",
      "\n"
     ]
    }
   ],
   "source": [
    "#\"*\":两个数相乘或者字符串重复\n",
    "a=4*7\n",
    "print (a)\n",
    "\n",
    "b=\"hello\"*7\n",
    "print (b)\n",
    "b=\"hello\\n\"*7\n",
    "print (b)"
   ]
  },
  {
   "cell_type": "code",
   "execution_count": 25,
   "metadata": {},
   "outputs": [
    {
     "name": "stdout",
     "output_type": "stream",
     "text": [
      "3.5\n",
      "3.5\n",
      "3.5\n",
      "3.5\n"
     ]
    }
   ],
   "source": [
    "#\"/\":两个数字相除\n",
    "a=7/2\n",
    "print (a)\n",
    "\n",
    "b=7.0/2\n",
    "c=7/2.0\n",
    "print (b)\n",
    "print (c)\n",
    "\n",
    "from __future__ import division  \n",
    "a=7/2\n",
    "print (a)"
   ]
  },
  {
   "cell_type": "code",
   "execution_count": 26,
   "metadata": {},
   "outputs": [
    {
     "name": "stdout",
     "output_type": "stream",
     "text": [
      "8\n"
     ]
    }
   ],
   "source": [
    "#\"**\":求幂运算\n",
    "a=2**3   #相当于2的3次幂，就是2*2*2   2^3\n",
    "print (a)"
   ]
  },
  {
   "cell_type": "code",
   "execution_count": 27,
   "metadata": {},
   "outputs": [
    {
     "name": "stdout",
     "output_type": "stream",
     "text": [
      "3\n"
     ]
    }
   ],
   "source": [
    "#\"//\":除法运算，然后返回其商的整数部分，舍掉余数\n",
    "a=10//3\n",
    "print (a)"
   ]
  },
  {
   "cell_type": "code",
   "execution_count": 28,
   "metadata": {},
   "outputs": [
    {
     "data": {
      "text/plain": [
       "3"
      ]
     },
     "execution_count": 28,
     "metadata": {},
     "output_type": "execute_result"
    }
   ],
   "source": [
    "round(10/3)"
   ]
  },
  {
   "cell_type": "code",
   "execution_count": 29,
   "metadata": {},
   "outputs": [
    {
     "data": {
      "text/plain": [
       "3"
      ]
     },
     "execution_count": 29,
     "metadata": {},
     "output_type": "execute_result"
    }
   ],
   "source": [
    "int(10/3+0.5)"
   ]
  },
  {
   "cell_type": "code",
   "execution_count": 30,
   "metadata": {},
   "outputs": [
    {
     "name": "stdout",
     "output_type": "stream",
     "text": [
      "1\n",
      "0\n"
     ]
    }
   ],
   "source": [
    "#\"%\":除法运算，然后返回其商的余数部分，舍掉商\n",
    "a=10%3\n",
    "print (a)\n",
    "\n",
    "b=10%1  #没有余数的时候返回什么？\n",
    "print (b)"
   ]
  },
  {
   "cell_type": "code",
   "execution_count": 31,
   "metadata": {},
   "outputs": [
    {
     "name": "stdout",
     "output_type": "stream",
     "text": [
      "3 1 10\n"
     ]
    }
   ],
   "source": [
    "a=10//3  #a为商的整数部分\n",
    "b=10%3   #b为\n",
    "c=3*a+b  #c为除数乘以商的整数部分加上余数，应该c的值就是被除数\n",
    "print (a,b, c)"
   ]
  },
  {
   "cell_type": "code",
   "execution_count": 32,
   "metadata": {},
   "outputs": [
    {
     "name": "stdout",
     "output_type": "stream",
     "text": [
      "True\n",
      "False\n"
     ]
    }
   ],
   "source": [
    "#\"<\"：小于符号，返回一个bool值\n",
    "a=3<7\n",
    "print (a)\n",
    "\n",
    "b=3<3\n",
    "print (b)"
   ]
  },
  {
   "cell_type": "code",
   "execution_count": 33,
   "metadata": {},
   "outputs": [
    {
     "data": {
      "text/plain": [
       "bool"
      ]
     },
     "execution_count": 33,
     "metadata": {},
     "output_type": "execute_result"
    }
   ],
   "source": [
    "type(a)"
   ]
  },
  {
   "cell_type": "code",
   "execution_count": 34,
   "metadata": {},
   "outputs": [
    {
     "name": "stdout",
     "output_type": "stream",
     "text": [
      "False\n",
      "True\n"
     ]
    }
   ],
   "source": [
    "#\">\":大于符号，返回一个bool值\n",
    "a=3>7\n",
    "print (a)\n",
    "\n",
    "b=3>1\n",
    "print (b)"
   ]
  },
  {
   "cell_type": "code",
   "execution_count": 35,
   "metadata": {},
   "outputs": [
    {
     "name": "stdout",
     "output_type": "stream",
     "text": [
      "True\n",
      "False\n"
     ]
    }
   ],
   "source": [
    "#\"!=\":不等于符号，同样返回一个bool值\n",
    "a=2!=3\n",
    "print (a)\n",
    "\n",
    "b=2!=2\n",
    "print (b)"
   ]
  },
  {
   "cell_type": "code",
   "execution_count": 36,
   "metadata": {},
   "outputs": [
    {
     "name": "stdout",
     "output_type": "stream",
     "text": [
      "True\n",
      "False\n",
      "False\n",
      "True\n"
     ]
    }
   ],
   "source": [
    "#\"<=\":小于等于符号，比较运算，小于或等于，返回一个bool值\n",
    "a=3<=3\n",
    "print (a)\n",
    "\n",
    "b=4<=3\n",
    "print (b)\n",
    "\n",
    "#\">=\"\n",
    "a=1>=3\n",
    "print (a)\n",
    "\n",
    "b=4>=3\n",
    "print (b)"
   ]
  },
  {
   "cell_type": "code",
   "execution_count": 37,
   "metadata": {},
   "outputs": [
    {
     "name": "stdout",
     "output_type": "stream",
     "text": [
      "False\n",
      "True\n"
     ]
    }
   ],
   "source": [
    "#\"==\":比较两个对象是否相等\n",
    "a=12==13\n",
    "print (a)\n",
    "b=\"hello\"==\"hello\"\n",
    "print (b)"
   ]
  },
  {
   "cell_type": "code",
   "execution_count": 38,
   "metadata": {},
   "outputs": [
    {
     "data": {
      "text/plain": [
       "True"
      ]
     },
     "execution_count": 38,
     "metadata": {},
     "output_type": "execute_result"
    }
   ],
   "source": [
    "a=''\n",
    "not a"
   ]
  },
  {
   "cell_type": "code",
   "execution_count": 39,
   "metadata": {},
   "outputs": [
    {
     "name": "stdout",
     "output_type": "stream",
     "text": [
      "False\n",
      "True\n"
     ]
    }
   ],
   "source": [
    "#not:逻辑非\n",
    "a=True\n",
    "b=not a\n",
    "print (b)\n",
    "\n",
    "c=False\n",
    "print (not c)\n"
   ]
  },
  {
   "cell_type": "code",
   "execution_count": 40,
   "metadata": {},
   "outputs": [
    {
     "name": "stdout",
     "output_type": "stream",
     "text": [
      "True\n"
     ]
    }
   ],
   "source": [
    "#and:逻辑与\n",
    "'''\n",
    "True and True等于True\n",
    "True and False等于False\n",
    "False and True等于False\n",
    "'''\n",
    "print (True and True)"
   ]
  },
  {
   "cell_type": "code",
   "execution_count": 41,
   "metadata": {},
   "outputs": [
    {
     "name": "stdout",
     "output_type": "stream",
     "text": [
      "True\n"
     ]
    }
   ],
   "source": [
    "#or:逻辑或\n",
    "'''\n",
    "True and True等于True\n",
    "True and False等于True\n",
    "False and False等于False\n",
    "'''\n",
    "print (True or False)"
   ]
  },
  {
   "cell_type": "markdown",
   "metadata": {},
   "source": [
    "# Python控制流"
   ]
  },
  {
   "cell_type": "code",
   "execution_count": 43,
   "metadata": {},
   "outputs": [
    {
     "name": "stdout",
     "output_type": "stream",
     "text": [
      "0\n",
      "1\n",
      "0\n",
      "1\n",
      "0\n",
      "1\n"
     ]
    }
   ],
   "source": [
    "#控制流\n",
    "\n",
    "#控制流功能\n",
    "#要实现：重复执行3段同样的程序\n",
    "\n",
    "#方式一：\n",
    "i=0\n",
    "print (i)\n",
    "i=i+1\n",
    "print (i)\n",
    "\n",
    "i=0\n",
    "print (i)\n",
    "i=i+1\n",
    "print (i)\n",
    "\n",
    "i=0\n",
    "print (i)\n",
    "i=i+1\n",
    "print (i)"
   ]
  },
  {
   "cell_type": "code",
   "execution_count": 40,
   "metadata": {},
   "outputs": [
    {
     "name": "stdout",
     "output_type": "stream",
     "text": [
      "18\n",
      "19\n",
      "20\n"
     ]
    }
   ],
   "source": [
    "for k in (18,19,20):\n",
    "    print(k)"
   ]
  },
  {
   "cell_type": "code",
   "execution_count": 37,
   "metadata": {},
   "outputs": [
    {
     "name": "stdout",
     "output_type": "stream",
     "text": [
      "0\n",
      "1\n",
      "0\n",
      "1\n",
      "0\n",
      "1\n",
      "0\n",
      "1\n",
      "123\n"
     ]
    }
   ],
   "source": [
    "\n",
    "#方式二：\n",
    "for k in (0,0,0,0):     #range(0,3):\n",
    "    i=0\n",
    "    print (i)\n",
    "    i=i+1\n",
    "    print (i)\n",
    "print('123')"
   ]
  },
  {
   "cell_type": "code",
   "execution_count": 41,
   "metadata": {},
   "outputs": [
    {
     "data": {
      "text/plain": [
       "[0, 1, 2, 3, 4, 5, 6, 7, 8, 9]"
      ]
     },
     "execution_count": 41,
     "metadata": {},
     "output_type": "execute_result"
    }
   ],
   "source": [
    "list(range(10))"
   ]
  },
  {
   "cell_type": "code",
   "execution_count": 45,
   "metadata": {},
   "outputs": [
    {
     "data": {
      "text/plain": [
       "5050"
      ]
     },
     "execution_count": 45,
     "metadata": {},
     "output_type": "execute_result"
    }
   ],
   "source": [
    "# 1+2+3+4+5+....+100\n",
    "s=0\n",
    "for k in range(1,101):\n",
    "    s=s+k\n",
    "s"
   ]
  },
  {
   "cell_type": "raw",
   "metadata": {},
   "source": [
    "#if语句\n",
    "#if语句的格式用法：\n",
    "'''\n",
    "if 是这样:\n",
    "    执行该部分语句\n",
    "    执行该部分语句\n",
    "    执行该部分语句\n",
    "    执行该部分语句\n",
    "    执行该部分语句\n",
    "elif 或者是这样：\n",
    "    执行elif部分语句\n",
    "    执行elif部分语句\n",
    "    执行elif部分语句\n",
    "    执行elif部分语句\n",
    "    执行elif部分语句\n",
    "else 或者以上情况都不是：\n",
    "    执行该部分语句\n",
    "    执行该部分语句\n",
    "'''"
   ]
  },
  {
   "cell_type": "code",
   "execution_count": 48,
   "metadata": {},
   "outputs": [
    {
     "name": "stdout",
     "output_type": "stream",
     "text": [
      "hello\n"
     ]
    }
   ],
   "source": [
    "#一种情况的if用法\n",
    "a=8\n",
    "if a==8:                         #这里的等号注意是==\n",
    "    print (\"hello\")\n",
    "\n",
    "\n",
    "if a!=8:\n",
    "    print (\"hehe\")"
   ]
  },
  {
   "cell_type": "code",
   "execution_count": 49,
   "metadata": {},
   "outputs": [
    {
     "name": "stdout",
     "output_type": "stream",
     "text": [
      "She\n"
     ]
    }
   ],
   "source": [
    "#两种选择情况下的if用法\n",
    "a=8\n",
    "if a==8:\n",
    "    print (\"She\")\n",
    "else:\n",
    "    print (\"He\")"
   ]
  },
  {
   "cell_type": "code",
   "execution_count": 42,
   "metadata": {},
   "outputs": [
    {
     "name": "stdout",
     "output_type": "stream",
     "text": [
      "she\n"
     ]
    }
   ],
   "source": [
    "#三种选择情况下的if用法\n",
    "a=15\n",
    "if a==7:\n",
    "    print (\"I\")\n",
    "elif a<7:\n",
    "    print (\"he\")\n",
    "elif a<6:\n",
    "    print (\"hello\")\n",
    "else:\n",
    "    print (\"she\")"
   ]
  },
  {
   "cell_type": "code",
   "execution_count": 51,
   "metadata": {},
   "outputs": [
    {
     "name": "stdout",
     "output_type": "stream",
     "text": [
      "10\n",
      "11\n",
      "12\n",
      "13\n",
      "14\n",
      "16\n",
      "17\n",
      "18\n"
     ]
    }
   ],
   "source": [
    "#程序c\n",
    "for i in range(10,19):\n",
    "    if i==15:\n",
    "        continue\n",
    "    print (i)"
   ]
  },
  {
   "cell_type": "code",
   "execution_count": 52,
   "metadata": {},
   "outputs": [
    {
     "name": "stdout",
     "output_type": "stream",
     "text": [
      "10\n",
      "11\n",
      "12\n",
      "13\n",
      "14\n"
     ]
    }
   ],
   "source": [
    "#程序c\n",
    "for i in range(10,19):\n",
    "    if i==15:\n",
    "        break\n",
    "    print (i)"
   ]
  },
  {
   "cell_type": "markdown",
   "metadata": {},
   "source": [
    "# Python的函数"
   ]
  },
  {
   "cell_type": "code",
   "execution_count": 44,
   "metadata": {},
   "outputs": [],
   "source": [
    "a='I am a boy'"
   ]
  },
  {
   "cell_type": "code",
   "execution_count": 58,
   "metadata": {},
   "outputs": [],
   "source": [
    "a=[1,2,3,4]"
   ]
  },
  {
   "cell_type": "code",
   "execution_count": 59,
   "metadata": {},
   "outputs": [
    {
     "data": {
      "text/plain": [
       "[1, 2, 3, 4, 5]"
      ]
     },
     "execution_count": 59,
     "metadata": {},
     "output_type": "execute_result"
    }
   ],
   "source": [
    "a.append(5)\n",
    "a"
   ]
  },
  {
   "cell_type": "code",
   "execution_count": 50,
   "metadata": {},
   "outputs": [
    {
     "data": {
      "text/plain": [
       "-1"
      ]
     },
     "execution_count": 50,
     "metadata": {},
     "output_type": "execute_result"
    }
   ],
   "source": [
    "a.find"
   ]
  },
  {
   "cell_type": "code",
   "execution_count": 51,
   "metadata": {},
   "outputs": [],
   "source": [
    "a=100"
   ]
  },
  {
   "cell_type": "code",
   "execution_count": null,
   "metadata": {},
   "outputs": [],
   "source": [
    "a."
   ]
  },
  {
   "cell_type": "code",
   "execution_count": 56,
   "metadata": {},
   "outputs": [
    {
     "data": {
      "text/plain": [
       "'i am a boy'"
      ]
     },
     "execution_count": 56,
     "metadata": {},
     "output_type": "execute_result"
    }
   ],
   "source": [
    "a.lower()"
   ]
  },
  {
   "cell_type": "code",
   "execution_count": 57,
   "metadata": {},
   "outputs": [
    {
     "name": "stdout",
     "output_type": "stream",
     "text": [
      "['student', 'my xxxx']\n"
     ]
    }
   ],
   "source": [
    "#实现字符串的切割\n",
    "a=\"student,my xxxx\"\n",
    "b=a.split(\",\")\n",
    "print (b)"
   ]
  },
  {
   "cell_type": "code",
   "execution_count": 52,
   "metadata": {},
   "outputs": [],
   "source": [
    "#实例\n",
    "def function1(a,b):\n",
    "    a+=8# a=a+8\n",
    "     \n",
    "    return [a+b ,a**2]"
   ]
  },
  {
   "cell_type": "code",
   "execution_count": 59,
   "metadata": {},
   "outputs": [
    {
     "name": "stdout",
     "output_type": "stream",
     "text": [
      "28\n",
      "324\n"
     ]
    }
   ],
   "source": [
    "aa,bb=function1(10,10)\n",
    "print(aa)\n",
    "print(bb)"
   ]
  },
  {
   "cell_type": "markdown",
   "metadata": {},
   "source": [
    "# Python模块"
   ]
  },
  {
   "cell_type": "code",
   "execution_count": null,
   "metadata": {},
   "outputs": [],
   "source": [
    "# pip install jieba  conda prompt"
   ]
  },
  {
   "cell_type": "code",
   "execution_count": 53,
   "metadata": {},
   "outputs": [],
   "source": [
    "import jieba"
   ]
  },
  {
   "cell_type": "code",
   "execution_count": 60,
   "metadata": {},
   "outputs": [
    {
     "name": "stdout",
     "output_type": "stream",
     "text": [
      "Default Mode: 长春市/ 长春/ 药店\n"
     ]
    }
   ],
   "source": [
    "seg_list = jieba.cut(\"长春市长春药店\", cut_all=False)\n",
    "print(\"Default Mode: \" + \"/ \".join(seg_list))  # 精确模式"
   ]
  },
  {
   "cell_type": "code",
   "execution_count": 57,
   "metadata": {},
   "outputs": [
    {
     "name": "stdout",
     "output_type": "stream",
     "text": [
      "我 r\n",
      "爱 v\n",
      "北京 ns\n",
      "天安门 ns\n"
     ]
    }
   ],
   "source": [
    "import jieba.posseg as pseg\n",
    "words = jieba.posseg.cut(\"我爱北京天安门\")\n",
    "words\n",
    "for word, flag in words:\n",
    "    print( word, flag)"
   ]
  },
  {
   "cell_type": "code",
   "execution_count": 68,
   "metadata": {},
   "outputs": [
    {
     "data": {
      "text/html": [
       "<div>\n",
       "<style scoped>\n",
       "    .dataframe tbody tr th:only-of-type {\n",
       "        vertical-align: middle;\n",
       "    }\n",
       "\n",
       "    .dataframe tbody tr th {\n",
       "        vertical-align: top;\n",
       "    }\n",
       "\n",
       "    .dataframe thead th {\n",
       "        text-align: right;\n",
       "    }\n",
       "</style>\n",
       "<table border=\"1\" class=\"dataframe\">\n",
       "  <thead>\n",
       "    <tr style=\"text-align: right;\">\n",
       "      <th></th>\n",
       "      <th>key</th>\n",
       "      <th>data1</th>\n",
       "    </tr>\n",
       "  </thead>\n",
       "  <tbody>\n",
       "    <tr>\n",
       "      <th>0</th>\n",
       "      <td>b</td>\n",
       "      <td>0</td>\n",
       "    </tr>\n",
       "    <tr>\n",
       "      <th>1</th>\n",
       "      <td>b</td>\n",
       "      <td>1</td>\n",
       "    </tr>\n",
       "    <tr>\n",
       "      <th>2</th>\n",
       "      <td>a</td>\n",
       "      <td>2</td>\n",
       "    </tr>\n",
       "    <tr>\n",
       "      <th>3</th>\n",
       "      <td>c</td>\n",
       "      <td>3</td>\n",
       "    </tr>\n",
       "    <tr>\n",
       "      <th>4</th>\n",
       "      <td>a</td>\n",
       "      <td>4</td>\n",
       "    </tr>\n",
       "  </tbody>\n",
       "</table>\n",
       "</div>"
      ],
      "text/plain": [
       "  key  data1\n",
       "0   b      0\n",
       "1   b      1\n",
       "2   a      2\n",
       "3   c      3\n",
       "4   a      4"
      ]
     },
     "execution_count": 68,
     "metadata": {},
     "output_type": "execute_result"
    }
   ],
   "source": [
    "# pandas这个模块将在后续课程中使用\n",
    "import pandas as pd\n",
    "import numpy as np\n",
    "df = pd.DataFrame({'key': ['b', 'b', 'a', 'c', 'a', 'a', 'b'], 'data1': range(7)})\n",
    "df.head(5)"
   ]
  },
  {
   "cell_type": "code",
   "execution_count": 69,
   "metadata": {},
   "outputs": [
    {
     "data": {
      "text/html": [
       "<div>\n",
       "<style scoped>\n",
       "    .dataframe tbody tr th:only-of-type {\n",
       "        vertical-align: middle;\n",
       "    }\n",
       "\n",
       "    .dataframe tbody tr th {\n",
       "        vertical-align: top;\n",
       "    }\n",
       "\n",
       "    .dataframe thead th {\n",
       "        text-align: right;\n",
       "    }\n",
       "</style>\n",
       "<table border=\"1\" class=\"dataframe\">\n",
       "  <thead>\n",
       "    <tr style=\"text-align: right;\">\n",
       "      <th></th>\n",
       "      <th>key</th>\n",
       "      <th>data1</th>\n",
       "    </tr>\n",
       "  </thead>\n",
       "  <tbody>\n",
       "    <tr>\n",
       "      <th>0</th>\n",
       "      <td>b</td>\n",
       "      <td>0</td>\n",
       "    </tr>\n",
       "    <tr>\n",
       "      <th>1</th>\n",
       "      <td>b</td>\n",
       "      <td>1</td>\n",
       "    </tr>\n",
       "  </tbody>\n",
       "</table>\n",
       "</div>"
      ],
      "text/plain": [
       "  key  data1\n",
       "0   b      0\n",
       "1   b      1"
      ]
     },
     "execution_count": 69,
     "metadata": {},
     "output_type": "execute_result"
    }
   ],
   "source": [
    "from pandas import DataFrame\n",
    "df1 = DataFrame({'key': ['b', 'b', 'a', 'c', 'a', 'a', 'b'], 'data1': range(7)})\n",
    "df1.head(2)"
   ]
  },
  {
   "cell_type": "markdown",
   "metadata": {},
   "source": [
    "# Numpy"
   ]
  },
  {
   "cell_type": "code",
   "execution_count": 70,
   "metadata": {},
   "outputs": [
    {
     "data": {
      "text/plain": [
       "numpy.ndarray"
      ]
     },
     "execution_count": 70,
     "metadata": {},
     "output_type": "execute_result"
    }
   ],
   "source": [
    "import numpy as np\n",
    "a=np.array([1,2,3,4])\n",
    "type(a)"
   ]
  },
  {
   "cell_type": "code",
   "execution_count": 71,
   "metadata": {},
   "outputs": [
    {
     "data": {
      "text/plain": [
       "array([0. , 0.1, 0.2, 0.3, 0.4, 0.5, 0.6, 0.7, 0.8, 0.9, 1. ])"
      ]
     },
     "execution_count": 71,
     "metadata": {},
     "output_type": "execute_result"
    }
   ],
   "source": [
    "np.array(range(0,11))/10"
   ]
  },
  {
   "cell_type": "code",
   "execution_count": 72,
   "metadata": {},
   "outputs": [
    {
     "data": {
      "text/plain": [
       "4"
      ]
     },
     "execution_count": 72,
     "metadata": {},
     "output_type": "execute_result"
    }
   ],
   "source": [
    "a.max()"
   ]
  },
  {
   "cell_type": "code",
   "execution_count": 75,
   "metadata": {},
   "outputs": [
    {
     "data": {
      "text/plain": [
       "4"
      ]
     },
     "execution_count": 75,
     "metadata": {},
     "output_type": "execute_result"
    }
   ],
   "source": [
    "a.shape[0]"
   ]
  },
  {
   "cell_type": "code",
   "execution_count": 76,
   "metadata": {},
   "outputs": [
    {
     "data": {
      "text/plain": [
       "array(['王', '3.14'], dtype='<U4')"
      ]
     },
     "execution_count": 76,
     "metadata": {},
     "output_type": "execute_result"
    }
   ],
   "source": [
    "b=['王',3.14]\n",
    "b=np.array(b)\n",
    "b"
   ]
  },
  {
   "cell_type": "code",
   "execution_count": 77,
   "metadata": {},
   "outputs": [
    {
     "data": {
      "text/plain": [
       "[0, 1, 2, 3, 4, 5, 6, 7, 8, 9]"
      ]
     },
     "execution_count": 77,
     "metadata": {},
     "output_type": "execute_result"
    }
   ],
   "source": [
    "s=[]\n",
    "for i in range(10):\n",
    "    s.append(i)\n",
    "s"
   ]
  },
  {
   "cell_type": "code",
   "execution_count": 79,
   "metadata": {},
   "outputs": [
    {
     "data": {
      "text/plain": [
       "[0, 10, 20, 30, 40, 50, 60, 70, 80, 90]"
      ]
     },
     "execution_count": 79,
     "metadata": {},
     "output_type": "execute_result"
    }
   ],
   "source": [
    "[i*10 for i in range(10)]  # 列表生成器"
   ]
  },
  {
   "cell_type": "code",
   "execution_count": 80,
   "metadata": {},
   "outputs": [
    {
     "name": "stdout",
     "output_type": "stream",
     "text": [
      "0.29605746269226074\n"
     ]
    }
   ],
   "source": [
    "#比较ufunc和其他python方式的计算时间\n",
    "from time import time \n",
    "import math\n",
    "x=[i*0.001 for i in range(1000000)]\n",
    "start=time()\n",
    "for i,t in enumerate(x):\n",
    "    x[i]=math.sin(t)\n",
    "print (time()-start)"
   ]
  },
  {
   "cell_type": "code",
   "execution_count": 81,
   "metadata": {},
   "outputs": [
    {
     "name": "stdout",
     "output_type": "stream",
     "text": [
      "0.012896299362182617\n"
     ]
    }
   ],
   "source": [
    "x=[i*0.001 for i in range(1000000)]\n",
    "x=np.array(x)\n",
    "start=time()\n",
    "np.sin(x)\n",
    "print (time()-start)"
   ]
  },
  {
   "cell_type": "code",
   "execution_count": 83,
   "metadata": {
    "scrolled": true
   },
   "outputs": [
    {
     "data": {
      "text/plain": [
       "array([4.012     , 0.17163636])"
      ]
     },
     "execution_count": 83,
     "metadata": {},
     "output_type": "execute_result"
    }
   ],
   "source": [
    "# 计算回归系数\n",
    "import numpy as np\n",
    "#定义变量\n",
    "x = np.array([1.0,2.0,3.0,4.0,5.0,6.0,7.0,8.0,9.0,10.0,11.0])\n",
    "y=np.array([2.10,3.90,8.20,1.96,6.30,4.40,7.70,4.30,5.40,8.70,2.50])\n",
    "\n",
    "#进行转置，因为计量经济学中的向量均为列向量\n",
    "X = np.vstack([np.ones(len(x)),x ]).T#带截距地回归\n",
    "Y = y.T\n",
    "\n",
    "#按步骤计算回归系数beta\n",
    "XX = np.dot(X.T,X)#点乘\n",
    "XX_inv = np.linalg.inv(XX)#取逆\n",
    "XY=np.dot(X.T,Y)\n",
    "beta = np.dot(XX_inv,XY)\n",
    "beta   # 4.012 截距项 0.17 beta   # 此处看懂即可，回归不推荐用此类方法做"
   ]
  }
 ],
 "metadata": {
  "kernelspec": {
   "display_name": "Python 3",
   "language": "python",
   "name": "python3"
  },
  "language_info": {
   "codemirror_mode": {
    "name": "ipython",
    "version": 3
   },
   "file_extension": ".py",
   "mimetype": "text/x-python",
   "name": "python",
   "nbconvert_exporter": "python",
   "pygments_lexer": "ipython3",
   "version": "3.7.3"
  }
 },
 "nbformat": 4,
 "nbformat_minor": 2
}
