{
 "cells": [
  {
   "cell_type": "markdown",
   "metadata": {},
   "source": [
    "本文是对pandas官网上《10 Minutes to pandas》的一个简单的翻译，原文在[这里](http://pandas.pydata.org/pandas-docs/stable/10min.html)。这篇文章是对pandas的一个简单的介绍，详细的介绍请参考：[Cookbook](http://pandas.pydata.org/pandas-docs/stable/cookbook.html#cookbook)。习惯上，我们会按下面格式引入所需要的包："
   ]
  },
  {
   "cell_type": "code",
   "execution_count": 1,
   "metadata": {},
   "outputs": [],
   "source": [
    "import pandas as pd"
   ]
  },
  {
   "cell_type": "code",
   "execution_count": 2,
   "metadata": {},
   "outputs": [],
   "source": [
    "import numpy as np"
   ]
  },
  {
   "cell_type": "code",
   "execution_count": 3,
   "metadata": {},
   "outputs": [],
   "source": [
    "import matplotlib.pyplot as plt"
   ]
  },
  {
   "cell_type": "markdown",
   "metadata": {},
   "source": [
    "# 一、创建对象"
   ]
  },
  {
   "cell_type": "markdown",
   "metadata": {},
   "source": [
    "可以通过[Data Structure Intro Section](http://pandas.pydata.org/pandas-docs/stable/dsintro.html#dsintro)来查看有关该节内容的详细信息。"
   ]
  },
  {
   "cell_type": "markdown",
   "metadata": {},
   "source": [
    "1. 可以通过传递一个list对象来创建一个Series，pandas会默认创建整型索引："
   ]
  },
  {
   "cell_type": "code",
   "execution_count": 4,
   "metadata": {},
   "outputs": [],
   "source": [
    "s = pd.Series([1,3,5,np.nan,6,8])"
   ]
  },
  {
   "cell_type": "code",
   "execution_count": 5,
   "metadata": {},
   "outputs": [
    {
     "data": {
      "text/plain": [
       "0    1.0\n",
       "1    3.0\n",
       "2    5.0\n",
       "3    NaN\n",
       "4    6.0\n",
       "5    8.0\n",
       "dtype: float64"
      ]
     },
     "execution_count": 5,
     "metadata": {},
     "output_type": "execute_result"
    }
   ],
   "source": [
    "s"
   ]
  },
  {
   "cell_type": "markdown",
   "metadata": {},
   "source": [
    "2.通过传递一个numpy array，时间索引以及列标签来创建一个DataFrame："
   ]
  },
  {
   "cell_type": "code",
   "execution_count": 6,
   "metadata": {},
   "outputs": [],
   "source": [
    "dates = pd.date_range('20130101', periods=6)"
   ]
  },
  {
   "cell_type": "code",
   "execution_count": 7,
   "metadata": {},
   "outputs": [
    {
     "data": {
      "text/plain": [
       "DatetimeIndex(['2013-01-01', '2013-01-02', '2013-01-03', '2013-01-04',\n",
       "               '2013-01-05', '2013-01-06'],\n",
       "              dtype='datetime64[ns]', freq='D')"
      ]
     },
     "execution_count": 7,
     "metadata": {},
     "output_type": "execute_result"
    }
   ],
   "source": [
    "dates"
   ]
  },
  {
   "cell_type": "code",
   "execution_count": 8,
   "metadata": {},
   "outputs": [],
   "source": [
    "df = pd.DataFrame(np.random.randn(6,4), index=dates, columns=list('ABCD'))"
   ]
  },
  {
   "cell_type": "code",
   "execution_count": 9,
   "metadata": {},
   "outputs": [
    {
     "data": {
      "text/html": [
       "<div>\n",
       "<style scoped>\n",
       "    .dataframe tbody tr th:only-of-type {\n",
       "        vertical-align: middle;\n",
       "    }\n",
       "\n",
       "    .dataframe tbody tr th {\n",
       "        vertical-align: top;\n",
       "    }\n",
       "\n",
       "    .dataframe thead th {\n",
       "        text-align: right;\n",
       "    }\n",
       "</style>\n",
       "<table border=\"1\" class=\"dataframe\">\n",
       "  <thead>\n",
       "    <tr style=\"text-align: right;\">\n",
       "      <th></th>\n",
       "      <th>A</th>\n",
       "      <th>B</th>\n",
       "      <th>C</th>\n",
       "      <th>D</th>\n",
       "    </tr>\n",
       "  </thead>\n",
       "  <tbody>\n",
       "    <tr>\n",
       "      <th>2013-01-01</th>\n",
       "      <td>0.386633</td>\n",
       "      <td>-0.764510</td>\n",
       "      <td>0.606874</td>\n",
       "      <td>-1.996790</td>\n",
       "    </tr>\n",
       "    <tr>\n",
       "      <th>2013-01-02</th>\n",
       "      <td>0.070036</td>\n",
       "      <td>0.574490</td>\n",
       "      <td>0.553327</td>\n",
       "      <td>1.431308</td>\n",
       "    </tr>\n",
       "    <tr>\n",
       "      <th>2013-01-03</th>\n",
       "      <td>-0.317880</td>\n",
       "      <td>1.301240</td>\n",
       "      <td>0.096299</td>\n",
       "      <td>0.941472</td>\n",
       "    </tr>\n",
       "    <tr>\n",
       "      <th>2013-01-04</th>\n",
       "      <td>-1.142865</td>\n",
       "      <td>0.164893</td>\n",
       "      <td>0.929743</td>\n",
       "      <td>1.989641</td>\n",
       "    </tr>\n",
       "    <tr>\n",
       "      <th>2013-01-05</th>\n",
       "      <td>0.190870</td>\n",
       "      <td>0.014951</td>\n",
       "      <td>1.385638</td>\n",
       "      <td>-0.320066</td>\n",
       "    </tr>\n",
       "    <tr>\n",
       "      <th>2013-01-06</th>\n",
       "      <td>1.157023</td>\n",
       "      <td>-1.366114</td>\n",
       "      <td>-0.138423</td>\n",
       "      <td>0.253818</td>\n",
       "    </tr>\n",
       "  </tbody>\n",
       "</table>\n",
       "</div>"
      ],
      "text/plain": [
       "                   A         B         C         D\n",
       "2013-01-01  0.386633 -0.764510  0.606874 -1.996790\n",
       "2013-01-02  0.070036  0.574490  0.553327  1.431308\n",
       "2013-01-03 -0.317880  1.301240  0.096299  0.941472\n",
       "2013-01-04 -1.142865  0.164893  0.929743  1.989641\n",
       "2013-01-05  0.190870  0.014951  1.385638 -0.320066\n",
       "2013-01-06  1.157023 -1.366114 -0.138423  0.253818"
      ]
     },
     "execution_count": 9,
     "metadata": {},
     "output_type": "execute_result"
    }
   ],
   "source": [
    "df"
   ]
  },
  {
   "cell_type": "markdown",
   "metadata": {},
   "source": [
    "3.通过传递一个能够被转换成类似序列结构的字典对象来创建一个DataFrame："
   ]
  },
  {
   "cell_type": "code",
   "execution_count": 10,
   "metadata": {},
   "outputs": [],
   "source": [
    "df2 = pd.DataFrame({'A':1.,\n",
    "                    'B':pd.Timestamp('20130102'),\n",
    "                    'C':pd.Series(1, index=list(range(4)),dtype='float32'),\n",
    "                    'D':np.array([3] * 4, dtype='int32'),\n",
    "                    'E':pd.Categorical(['test','train', 'test','train']),\n",
    "                    'F':'foo'\n",
    "                   })"
   ]
  },
  {
   "cell_type": "code",
   "execution_count": 11,
   "metadata": {},
   "outputs": [
    {
     "data": {
      "text/html": [
       "<div>\n",
       "<style scoped>\n",
       "    .dataframe tbody tr th:only-of-type {\n",
       "        vertical-align: middle;\n",
       "    }\n",
       "\n",
       "    .dataframe tbody tr th {\n",
       "        vertical-align: top;\n",
       "    }\n",
       "\n",
       "    .dataframe thead th {\n",
       "        text-align: right;\n",
       "    }\n",
       "</style>\n",
       "<table border=\"1\" class=\"dataframe\">\n",
       "  <thead>\n",
       "    <tr style=\"text-align: right;\">\n",
       "      <th></th>\n",
       "      <th>A</th>\n",
       "      <th>B</th>\n",
       "      <th>C</th>\n",
       "      <th>D</th>\n",
       "      <th>E</th>\n",
       "      <th>F</th>\n",
       "    </tr>\n",
       "  </thead>\n",
       "  <tbody>\n",
       "    <tr>\n",
       "      <th>0</th>\n",
       "      <td>1.0</td>\n",
       "      <td>2013-01-02</td>\n",
       "      <td>1.0</td>\n",
       "      <td>3</td>\n",
       "      <td>test</td>\n",
       "      <td>foo</td>\n",
       "    </tr>\n",
       "    <tr>\n",
       "      <th>1</th>\n",
       "      <td>1.0</td>\n",
       "      <td>2013-01-02</td>\n",
       "      <td>1.0</td>\n",
       "      <td>3</td>\n",
       "      <td>train</td>\n",
       "      <td>foo</td>\n",
       "    </tr>\n",
       "    <tr>\n",
       "      <th>2</th>\n",
       "      <td>1.0</td>\n",
       "      <td>2013-01-02</td>\n",
       "      <td>1.0</td>\n",
       "      <td>3</td>\n",
       "      <td>test</td>\n",
       "      <td>foo</td>\n",
       "    </tr>\n",
       "    <tr>\n",
       "      <th>3</th>\n",
       "      <td>1.0</td>\n",
       "      <td>2013-01-02</td>\n",
       "      <td>1.0</td>\n",
       "      <td>3</td>\n",
       "      <td>train</td>\n",
       "      <td>foo</td>\n",
       "    </tr>\n",
       "  </tbody>\n",
       "</table>\n",
       "</div>"
      ],
      "text/plain": [
       "     A          B    C  D      E    F\n",
       "0  1.0 2013-01-02  1.0  3   test  foo\n",
       "1  1.0 2013-01-02  1.0  3  train  foo\n",
       "2  1.0 2013-01-02  1.0  3   test  foo\n",
       "3  1.0 2013-01-02  1.0  3  train  foo"
      ]
     },
     "execution_count": 11,
     "metadata": {},
     "output_type": "execute_result"
    }
   ],
   "source": [
    "df2"
   ]
  },
  {
   "cell_type": "markdown",
   "metadata": {},
   "source": [
    "4.查看不同列的数据类型："
   ]
  },
  {
   "cell_type": "code",
   "execution_count": 12,
   "metadata": {},
   "outputs": [
    {
     "data": {
      "text/plain": [
       "A           float64\n",
       "B    datetime64[ns]\n",
       "C           float32\n",
       "D             int32\n",
       "E          category\n",
       "F            object\n",
       "dtype: object"
      ]
     },
     "execution_count": 12,
     "metadata": {},
     "output_type": "execute_result"
    }
   ],
   "source": [
    "df2.dtypes"
   ]
  },
  {
   "cell_type": "markdown",
   "metadata": {},
   "source": [
    "5.使用Tab自动补全功能会自动识别所有的属性以及自定义的列"
   ]
  },
  {
   "cell_type": "markdown",
   "metadata": {},
   "source": [
    "# 二、查看数据"
   ]
  },
  {
   "cell_type": "markdown",
   "metadata": {},
   "source": [
    "详情请参阅：[Basics Section](http://pandas.pydata.org/pandas-docs/stable/basics.html#basics)"
   ]
  },
  {
   "cell_type": "markdown",
   "metadata": {},
   "source": [
    "1.查看Frame中头部和尾部的行："
   ]
  },
  {
   "cell_type": "code",
   "execution_count": 13,
   "metadata": {},
   "outputs": [
    {
     "data": {
      "text/html": [
       "<div>\n",
       "<style scoped>\n",
       "    .dataframe tbody tr th:only-of-type {\n",
       "        vertical-align: middle;\n",
       "    }\n",
       "\n",
       "    .dataframe tbody tr th {\n",
       "        vertical-align: top;\n",
       "    }\n",
       "\n",
       "    .dataframe thead th {\n",
       "        text-align: right;\n",
       "    }\n",
       "</style>\n",
       "<table border=\"1\" class=\"dataframe\">\n",
       "  <thead>\n",
       "    <tr style=\"text-align: right;\">\n",
       "      <th></th>\n",
       "      <th>A</th>\n",
       "      <th>B</th>\n",
       "      <th>C</th>\n",
       "      <th>D</th>\n",
       "    </tr>\n",
       "  </thead>\n",
       "  <tbody>\n",
       "    <tr>\n",
       "      <th>2013-01-01</th>\n",
       "      <td>0.386633</td>\n",
       "      <td>-0.764510</td>\n",
       "      <td>0.606874</td>\n",
       "      <td>-1.996790</td>\n",
       "    </tr>\n",
       "    <tr>\n",
       "      <th>2013-01-02</th>\n",
       "      <td>0.070036</td>\n",
       "      <td>0.574490</td>\n",
       "      <td>0.553327</td>\n",
       "      <td>1.431308</td>\n",
       "    </tr>\n",
       "    <tr>\n",
       "      <th>2013-01-03</th>\n",
       "      <td>-0.317880</td>\n",
       "      <td>1.301240</td>\n",
       "      <td>0.096299</td>\n",
       "      <td>0.941472</td>\n",
       "    </tr>\n",
       "    <tr>\n",
       "      <th>2013-01-04</th>\n",
       "      <td>-1.142865</td>\n",
       "      <td>0.164893</td>\n",
       "      <td>0.929743</td>\n",
       "      <td>1.989641</td>\n",
       "    </tr>\n",
       "    <tr>\n",
       "      <th>2013-01-05</th>\n",
       "      <td>0.190870</td>\n",
       "      <td>0.014951</td>\n",
       "      <td>1.385638</td>\n",
       "      <td>-0.320066</td>\n",
       "    </tr>\n",
       "  </tbody>\n",
       "</table>\n",
       "</div>"
      ],
      "text/plain": [
       "                   A         B         C         D\n",
       "2013-01-01  0.386633 -0.764510  0.606874 -1.996790\n",
       "2013-01-02  0.070036  0.574490  0.553327  1.431308\n",
       "2013-01-03 -0.317880  1.301240  0.096299  0.941472\n",
       "2013-01-04 -1.142865  0.164893  0.929743  1.989641\n",
       "2013-01-05  0.190870  0.014951  1.385638 -0.320066"
      ]
     },
     "execution_count": 13,
     "metadata": {},
     "output_type": "execute_result"
    }
   ],
   "source": [
    "df.head()"
   ]
  },
  {
   "cell_type": "code",
   "execution_count": 14,
   "metadata": {},
   "outputs": [
    {
     "data": {
      "text/html": [
       "<div>\n",
       "<style scoped>\n",
       "    .dataframe tbody tr th:only-of-type {\n",
       "        vertical-align: middle;\n",
       "    }\n",
       "\n",
       "    .dataframe tbody tr th {\n",
       "        vertical-align: top;\n",
       "    }\n",
       "\n",
       "    .dataframe thead th {\n",
       "        text-align: right;\n",
       "    }\n",
       "</style>\n",
       "<table border=\"1\" class=\"dataframe\">\n",
       "  <thead>\n",
       "    <tr style=\"text-align: right;\">\n",
       "      <th></th>\n",
       "      <th>A</th>\n",
       "      <th>B</th>\n",
       "      <th>C</th>\n",
       "      <th>D</th>\n",
       "    </tr>\n",
       "  </thead>\n",
       "  <tbody>\n",
       "    <tr>\n",
       "      <th>2013-01-04</th>\n",
       "      <td>-1.142865</td>\n",
       "      <td>0.164893</td>\n",
       "      <td>0.929743</td>\n",
       "      <td>1.989641</td>\n",
       "    </tr>\n",
       "    <tr>\n",
       "      <th>2013-01-05</th>\n",
       "      <td>0.190870</td>\n",
       "      <td>0.014951</td>\n",
       "      <td>1.385638</td>\n",
       "      <td>-0.320066</td>\n",
       "    </tr>\n",
       "    <tr>\n",
       "      <th>2013-01-06</th>\n",
       "      <td>1.157023</td>\n",
       "      <td>-1.366114</td>\n",
       "      <td>-0.138423</td>\n",
       "      <td>0.253818</td>\n",
       "    </tr>\n",
       "  </tbody>\n",
       "</table>\n",
       "</div>"
      ],
      "text/plain": [
       "                   A         B         C         D\n",
       "2013-01-04 -1.142865  0.164893  0.929743  1.989641\n",
       "2013-01-05  0.190870  0.014951  1.385638 -0.320066\n",
       "2013-01-06  1.157023 -1.366114 -0.138423  0.253818"
      ]
     },
     "execution_count": 14,
     "metadata": {},
     "output_type": "execute_result"
    }
   ],
   "source": [
    "df.tail(3)"
   ]
  },
  {
   "cell_type": "markdown",
   "metadata": {},
   "source": [
    "2.显示索引、列和底层的numpy数据："
   ]
  },
  {
   "cell_type": "code",
   "execution_count": 15,
   "metadata": {},
   "outputs": [
    {
     "data": {
      "text/plain": [
       "DatetimeIndex(['2013-01-01', '2013-01-02', '2013-01-03', '2013-01-04',\n",
       "               '2013-01-05', '2013-01-06'],\n",
       "              dtype='datetime64[ns]', freq='D')"
      ]
     },
     "execution_count": 15,
     "metadata": {},
     "output_type": "execute_result"
    }
   ],
   "source": [
    "df.index"
   ]
  },
  {
   "cell_type": "code",
   "execution_count": 16,
   "metadata": {},
   "outputs": [
    {
     "data": {
      "text/plain": [
       "Index(['A', 'B', 'C', 'D'], dtype='object')"
      ]
     },
     "execution_count": 16,
     "metadata": {},
     "output_type": "execute_result"
    }
   ],
   "source": [
    "df.columns"
   ]
  },
  {
   "cell_type": "code",
   "execution_count": 17,
   "metadata": {},
   "outputs": [
    {
     "data": {
      "text/plain": [
       "array([[ 0.38663281, -0.76451033,  0.60687389, -1.99679023],\n",
       "       [ 0.07003598,  0.57449019,  0.55332677,  1.43130837],\n",
       "       [-0.3178804 ,  1.30123968,  0.0962992 ,  0.94147191],\n",
       "       [-1.14286485,  0.16489287,  0.92974336,  1.98964127],\n",
       "       [ 0.19087035,  0.01495069,  1.38563824, -0.3200656 ],\n",
       "       [ 1.15702348, -1.36611393, -0.13842339,  0.25381757]])"
      ]
     },
     "execution_count": 17,
     "metadata": {},
     "output_type": "execute_result"
    }
   ],
   "source": [
    "df.values"
   ]
  },
  {
   "cell_type": "markdown",
   "metadata": {},
   "source": [
    "3.describe()函数对于数据的快速统计汇总："
   ]
  },
  {
   "cell_type": "code",
   "execution_count": 18,
   "metadata": {},
   "outputs": [
    {
     "data": {
      "text/html": [
       "<div>\n",
       "<style scoped>\n",
       "    .dataframe tbody tr th:only-of-type {\n",
       "        vertical-align: middle;\n",
       "    }\n",
       "\n",
       "    .dataframe tbody tr th {\n",
       "        vertical-align: top;\n",
       "    }\n",
       "\n",
       "    .dataframe thead th {\n",
       "        text-align: right;\n",
       "    }\n",
       "</style>\n",
       "<table border=\"1\" class=\"dataframe\">\n",
       "  <thead>\n",
       "    <tr style=\"text-align: right;\">\n",
       "      <th></th>\n",
       "      <th>A</th>\n",
       "      <th>B</th>\n",
       "      <th>C</th>\n",
       "      <th>D</th>\n",
       "    </tr>\n",
       "  </thead>\n",
       "  <tbody>\n",
       "    <tr>\n",
       "      <th>count</th>\n",
       "      <td>6.000000</td>\n",
       "      <td>6.000000</td>\n",
       "      <td>6.000000</td>\n",
       "      <td>6.000000</td>\n",
       "    </tr>\n",
       "    <tr>\n",
       "      <th>mean</th>\n",
       "      <td>0.057303</td>\n",
       "      <td>-0.012508</td>\n",
       "      <td>0.572243</td>\n",
       "      <td>0.383231</td>\n",
       "    </tr>\n",
       "    <tr>\n",
       "      <th>std</th>\n",
       "      <td>0.763808</td>\n",
       "      <td>0.948734</td>\n",
       "      <td>0.551823</td>\n",
       "      <td>1.425940</td>\n",
       "    </tr>\n",
       "    <tr>\n",
       "      <th>min</th>\n",
       "      <td>-1.142865</td>\n",
       "      <td>-1.366114</td>\n",
       "      <td>-0.138423</td>\n",
       "      <td>-1.996790</td>\n",
       "    </tr>\n",
       "    <tr>\n",
       "      <th>25%</th>\n",
       "      <td>-0.220901</td>\n",
       "      <td>-0.569645</td>\n",
       "      <td>0.210556</td>\n",
       "      <td>-0.176595</td>\n",
       "    </tr>\n",
       "    <tr>\n",
       "      <th>50%</th>\n",
       "      <td>0.130453</td>\n",
       "      <td>0.089922</td>\n",
       "      <td>0.580100</td>\n",
       "      <td>0.597645</td>\n",
       "    </tr>\n",
       "    <tr>\n",
       "      <th>75%</th>\n",
       "      <td>0.337692</td>\n",
       "      <td>0.472091</td>\n",
       "      <td>0.849026</td>\n",
       "      <td>1.308849</td>\n",
       "    </tr>\n",
       "    <tr>\n",
       "      <th>max</th>\n",
       "      <td>1.157023</td>\n",
       "      <td>1.301240</td>\n",
       "      <td>1.385638</td>\n",
       "      <td>1.989641</td>\n",
       "    </tr>\n",
       "  </tbody>\n",
       "</table>\n",
       "</div>"
      ],
      "text/plain": [
       "              A         B         C         D\n",
       "count  6.000000  6.000000  6.000000  6.000000\n",
       "mean   0.057303 -0.012508  0.572243  0.383231\n",
       "std    0.763808  0.948734  0.551823  1.425940\n",
       "min   -1.142865 -1.366114 -0.138423 -1.996790\n",
       "25%   -0.220901 -0.569645  0.210556 -0.176595\n",
       "50%    0.130453  0.089922  0.580100  0.597645\n",
       "75%    0.337692  0.472091  0.849026  1.308849\n",
       "max    1.157023  1.301240  1.385638  1.989641"
      ]
     },
     "execution_count": 18,
     "metadata": {},
     "output_type": "execute_result"
    }
   ],
   "source": [
    "df.describe()"
   ]
  },
  {
   "cell_type": "markdown",
   "metadata": {},
   "source": [
    "4.对数据的转置(tranverse):"
   ]
  },
  {
   "cell_type": "code",
   "execution_count": 19,
   "metadata": {},
   "outputs": [
    {
     "data": {
      "text/html": [
       "<div>\n",
       "<style scoped>\n",
       "    .dataframe tbody tr th:only-of-type {\n",
       "        vertical-align: middle;\n",
       "    }\n",
       "\n",
       "    .dataframe tbody tr th {\n",
       "        vertical-align: top;\n",
       "    }\n",
       "\n",
       "    .dataframe thead th {\n",
       "        text-align: right;\n",
       "    }\n",
       "</style>\n",
       "<table border=\"1\" class=\"dataframe\">\n",
       "  <thead>\n",
       "    <tr style=\"text-align: right;\">\n",
       "      <th></th>\n",
       "      <th>2013-01-01 00:00:00</th>\n",
       "      <th>2013-01-02 00:00:00</th>\n",
       "      <th>2013-01-03 00:00:00</th>\n",
       "      <th>2013-01-04 00:00:00</th>\n",
       "      <th>2013-01-05 00:00:00</th>\n",
       "      <th>2013-01-06 00:00:00</th>\n",
       "    </tr>\n",
       "  </thead>\n",
       "  <tbody>\n",
       "    <tr>\n",
       "      <th>A</th>\n",
       "      <td>0.386633</td>\n",
       "      <td>0.070036</td>\n",
       "      <td>-0.317880</td>\n",
       "      <td>-1.142865</td>\n",
       "      <td>0.190870</td>\n",
       "      <td>1.157023</td>\n",
       "    </tr>\n",
       "    <tr>\n",
       "      <th>B</th>\n",
       "      <td>-0.764510</td>\n",
       "      <td>0.574490</td>\n",
       "      <td>1.301240</td>\n",
       "      <td>0.164893</td>\n",
       "      <td>0.014951</td>\n",
       "      <td>-1.366114</td>\n",
       "    </tr>\n",
       "    <tr>\n",
       "      <th>C</th>\n",
       "      <td>0.606874</td>\n",
       "      <td>0.553327</td>\n",
       "      <td>0.096299</td>\n",
       "      <td>0.929743</td>\n",
       "      <td>1.385638</td>\n",
       "      <td>-0.138423</td>\n",
       "    </tr>\n",
       "    <tr>\n",
       "      <th>D</th>\n",
       "      <td>-1.996790</td>\n",
       "      <td>1.431308</td>\n",
       "      <td>0.941472</td>\n",
       "      <td>1.989641</td>\n",
       "      <td>-0.320066</td>\n",
       "      <td>0.253818</td>\n",
       "    </tr>\n",
       "  </tbody>\n",
       "</table>\n",
       "</div>"
      ],
      "text/plain": [
       "   2013-01-01  2013-01-02  2013-01-03  2013-01-04  2013-01-05  2013-01-06\n",
       "A    0.386633    0.070036   -0.317880   -1.142865    0.190870    1.157023\n",
       "B   -0.764510    0.574490    1.301240    0.164893    0.014951   -1.366114\n",
       "C    0.606874    0.553327    0.096299    0.929743    1.385638   -0.138423\n",
       "D   -1.996790    1.431308    0.941472    1.989641   -0.320066    0.253818"
      ]
     },
     "execution_count": 19,
     "metadata": {},
     "output_type": "execute_result"
    }
   ],
   "source": [
    "df.T"
   ]
  },
  {
   "cell_type": "markdown",
   "metadata": {},
   "source": [
    "5.按轴进行排序"
   ]
  },
  {
   "cell_type": "code",
   "execution_count": 20,
   "metadata": {},
   "outputs": [
    {
     "data": {
      "text/html": [
       "<div>\n",
       "<style scoped>\n",
       "    .dataframe tbody tr th:only-of-type {\n",
       "        vertical-align: middle;\n",
       "    }\n",
       "\n",
       "    .dataframe tbody tr th {\n",
       "        vertical-align: top;\n",
       "    }\n",
       "\n",
       "    .dataframe thead th {\n",
       "        text-align: right;\n",
       "    }\n",
       "</style>\n",
       "<table border=\"1\" class=\"dataframe\">\n",
       "  <thead>\n",
       "    <tr style=\"text-align: right;\">\n",
       "      <th></th>\n",
       "      <th>D</th>\n",
       "      <th>C</th>\n",
       "      <th>B</th>\n",
       "      <th>A</th>\n",
       "    </tr>\n",
       "  </thead>\n",
       "  <tbody>\n",
       "    <tr>\n",
       "      <th>2013-01-01</th>\n",
       "      <td>-1.996790</td>\n",
       "      <td>0.606874</td>\n",
       "      <td>-0.764510</td>\n",
       "      <td>0.386633</td>\n",
       "    </tr>\n",
       "    <tr>\n",
       "      <th>2013-01-02</th>\n",
       "      <td>1.431308</td>\n",
       "      <td>0.553327</td>\n",
       "      <td>0.574490</td>\n",
       "      <td>0.070036</td>\n",
       "    </tr>\n",
       "    <tr>\n",
       "      <th>2013-01-03</th>\n",
       "      <td>0.941472</td>\n",
       "      <td>0.096299</td>\n",
       "      <td>1.301240</td>\n",
       "      <td>-0.317880</td>\n",
       "    </tr>\n",
       "    <tr>\n",
       "      <th>2013-01-04</th>\n",
       "      <td>1.989641</td>\n",
       "      <td>0.929743</td>\n",
       "      <td>0.164893</td>\n",
       "      <td>-1.142865</td>\n",
       "    </tr>\n",
       "    <tr>\n",
       "      <th>2013-01-05</th>\n",
       "      <td>-0.320066</td>\n",
       "      <td>1.385638</td>\n",
       "      <td>0.014951</td>\n",
       "      <td>0.190870</td>\n",
       "    </tr>\n",
       "    <tr>\n",
       "      <th>2013-01-06</th>\n",
       "      <td>0.253818</td>\n",
       "      <td>-0.138423</td>\n",
       "      <td>-1.366114</td>\n",
       "      <td>1.157023</td>\n",
       "    </tr>\n",
       "  </tbody>\n",
       "</table>\n",
       "</div>"
      ],
      "text/plain": [
       "                   D         C         B         A\n",
       "2013-01-01 -1.996790  0.606874 -0.764510  0.386633\n",
       "2013-01-02  1.431308  0.553327  0.574490  0.070036\n",
       "2013-01-03  0.941472  0.096299  1.301240 -0.317880\n",
       "2013-01-04  1.989641  0.929743  0.164893 -1.142865\n",
       "2013-01-05 -0.320066  1.385638  0.014951  0.190870\n",
       "2013-01-06  0.253818 -0.138423 -1.366114  1.157023"
      ]
     },
     "execution_count": 20,
     "metadata": {},
     "output_type": "execute_result"
    }
   ],
   "source": [
    "df.sort_index(axis=1,ascending=False)"
   ]
  },
  {
   "cell_type": "markdown",
   "metadata": {},
   "source": [
    "6.按值进行排序"
   ]
  },
  {
   "cell_type": "code",
   "execution_count": 22,
   "metadata": {},
   "outputs": [
    {
     "data": {
      "text/html": [
       "<div>\n",
       "<style scoped>\n",
       "    .dataframe tbody tr th:only-of-type {\n",
       "        vertical-align: middle;\n",
       "    }\n",
       "\n",
       "    .dataframe tbody tr th {\n",
       "        vertical-align: top;\n",
       "    }\n",
       "\n",
       "    .dataframe thead th {\n",
       "        text-align: right;\n",
       "    }\n",
       "</style>\n",
       "<table border=\"1\" class=\"dataframe\">\n",
       "  <thead>\n",
       "    <tr style=\"text-align: right;\">\n",
       "      <th></th>\n",
       "      <th>A</th>\n",
       "      <th>B</th>\n",
       "      <th>C</th>\n",
       "      <th>D</th>\n",
       "    </tr>\n",
       "  </thead>\n",
       "  <tbody>\n",
       "    <tr>\n",
       "      <th>2013-01-06</th>\n",
       "      <td>1.157023</td>\n",
       "      <td>-1.366114</td>\n",
       "      <td>-0.138423</td>\n",
       "      <td>0.253818</td>\n",
       "    </tr>\n",
       "    <tr>\n",
       "      <th>2013-01-01</th>\n",
       "      <td>0.386633</td>\n",
       "      <td>-0.764510</td>\n",
       "      <td>0.606874</td>\n",
       "      <td>-1.996790</td>\n",
       "    </tr>\n",
       "    <tr>\n",
       "      <th>2013-01-05</th>\n",
       "      <td>0.190870</td>\n",
       "      <td>0.014951</td>\n",
       "      <td>1.385638</td>\n",
       "      <td>-0.320066</td>\n",
       "    </tr>\n",
       "    <tr>\n",
       "      <th>2013-01-04</th>\n",
       "      <td>-1.142865</td>\n",
       "      <td>0.164893</td>\n",
       "      <td>0.929743</td>\n",
       "      <td>1.989641</td>\n",
       "    </tr>\n",
       "    <tr>\n",
       "      <th>2013-01-02</th>\n",
       "      <td>0.070036</td>\n",
       "      <td>0.574490</td>\n",
       "      <td>0.553327</td>\n",
       "      <td>1.431308</td>\n",
       "    </tr>\n",
       "    <tr>\n",
       "      <th>2013-01-03</th>\n",
       "      <td>-0.317880</td>\n",
       "      <td>1.301240</td>\n",
       "      <td>0.096299</td>\n",
       "      <td>0.941472</td>\n",
       "    </tr>\n",
       "  </tbody>\n",
       "</table>\n",
       "</div>"
      ],
      "text/plain": [
       "                   A         B         C         D\n",
       "2013-01-06  1.157023 -1.366114 -0.138423  0.253818\n",
       "2013-01-01  0.386633 -0.764510  0.606874 -1.996790\n",
       "2013-01-05  0.190870  0.014951  1.385638 -0.320066\n",
       "2013-01-04 -1.142865  0.164893  0.929743  1.989641\n",
       "2013-01-02  0.070036  0.574490  0.553327  1.431308\n",
       "2013-01-03 -0.317880  1.301240  0.096299  0.941472"
      ]
     },
     "execution_count": 22,
     "metadata": {},
     "output_type": "execute_result"
    }
   ],
   "source": [
    "df.sort_values(by='B')"
   ]
  },
  {
   "cell_type": "markdown",
   "metadata": {},
   "source": [
    "# 三、选择"
   ]
  },
  {
   "cell_type": "markdown",
   "metadata": {},
   "source": [
    "虽然标准的Python/Numpy的选择和设置表达式都能够直接派上用场，但是作为工程使用的代码，我们推荐使用经过优化的pandas数据访问方式：.at,.iat,\n",
    ".loc,.iloc和.ix详情请参阅[Indexing and Selecting Data](http://pandas.pydata.org/pandas-docs/stable/indexing.html#indexing)\n",
    "                                                 和[MultiIndex / Advanced Indexing](http://pandas.pydata.org/pandas-docs/stable/advanced.html#advanced)"
   ]
  },
  {
   "cell_type": "markdown",
   "metadata": {},
   "source": [
    "## 获取"
   ]
  },
  {
   "cell_type": "markdown",
   "metadata": {},
   "source": [
    "1.选择一个单独的列，这将会返回一个Series，等同于df.A:"
   ]
  },
  {
   "cell_type": "code",
   "execution_count": 23,
   "metadata": {},
   "outputs": [
    {
     "data": {
      "text/html": [
       "<div>\n",
       "<style scoped>\n",
       "    .dataframe tbody tr th:only-of-type {\n",
       "        vertical-align: middle;\n",
       "    }\n",
       "\n",
       "    .dataframe tbody tr th {\n",
       "        vertical-align: top;\n",
       "    }\n",
       "\n",
       "    .dataframe thead th {\n",
       "        text-align: right;\n",
       "    }\n",
       "</style>\n",
       "<table border=\"1\" class=\"dataframe\">\n",
       "  <thead>\n",
       "    <tr style=\"text-align: right;\">\n",
       "      <th></th>\n",
       "      <th>A</th>\n",
       "      <th>B</th>\n",
       "      <th>C</th>\n",
       "      <th>D</th>\n",
       "    </tr>\n",
       "  </thead>\n",
       "  <tbody>\n",
       "    <tr>\n",
       "      <th>2013-01-01</th>\n",
       "      <td>0.386633</td>\n",
       "      <td>-0.764510</td>\n",
       "      <td>0.606874</td>\n",
       "      <td>-1.996790</td>\n",
       "    </tr>\n",
       "    <tr>\n",
       "      <th>2013-01-02</th>\n",
       "      <td>0.070036</td>\n",
       "      <td>0.574490</td>\n",
       "      <td>0.553327</td>\n",
       "      <td>1.431308</td>\n",
       "    </tr>\n",
       "    <tr>\n",
       "      <th>2013-01-03</th>\n",
       "      <td>-0.317880</td>\n",
       "      <td>1.301240</td>\n",
       "      <td>0.096299</td>\n",
       "      <td>0.941472</td>\n",
       "    </tr>\n",
       "    <tr>\n",
       "      <th>2013-01-04</th>\n",
       "      <td>-1.142865</td>\n",
       "      <td>0.164893</td>\n",
       "      <td>0.929743</td>\n",
       "      <td>1.989641</td>\n",
       "    </tr>\n",
       "    <tr>\n",
       "      <th>2013-01-05</th>\n",
       "      <td>0.190870</td>\n",
       "      <td>0.014951</td>\n",
       "      <td>1.385638</td>\n",
       "      <td>-0.320066</td>\n",
       "    </tr>\n",
       "    <tr>\n",
       "      <th>2013-01-06</th>\n",
       "      <td>1.157023</td>\n",
       "      <td>-1.366114</td>\n",
       "      <td>-0.138423</td>\n",
       "      <td>0.253818</td>\n",
       "    </tr>\n",
       "  </tbody>\n",
       "</table>\n",
       "</div>"
      ],
      "text/plain": [
       "                   A         B         C         D\n",
       "2013-01-01  0.386633 -0.764510  0.606874 -1.996790\n",
       "2013-01-02  0.070036  0.574490  0.553327  1.431308\n",
       "2013-01-03 -0.317880  1.301240  0.096299  0.941472\n",
       "2013-01-04 -1.142865  0.164893  0.929743  1.989641\n",
       "2013-01-05  0.190870  0.014951  1.385638 -0.320066\n",
       "2013-01-06  1.157023 -1.366114 -0.138423  0.253818"
      ]
     },
     "execution_count": 23,
     "metadata": {},
     "output_type": "execute_result"
    }
   ],
   "source": [
    "df"
   ]
  },
  {
   "cell_type": "code",
   "execution_count": 24,
   "metadata": {},
   "outputs": [
    {
     "data": {
      "text/plain": [
       "2013-01-01    0.386633\n",
       "2013-01-02    0.070036\n",
       "2013-01-03   -0.317880\n",
       "2013-01-04   -1.142865\n",
       "2013-01-05    0.190870\n",
       "2013-01-06    1.157023\n",
       "Freq: D, Name: A, dtype: float64"
      ]
     },
     "execution_count": 24,
     "metadata": {},
     "output_type": "execute_result"
    }
   ],
   "source": [
    "df['A']"
   ]
  },
  {
   "cell_type": "markdown",
   "metadata": {},
   "source": [
    "2.通过[]进行选择，这将会对行进行切片"
   ]
  },
  {
   "cell_type": "code",
   "execution_count": 25,
   "metadata": {},
   "outputs": [
    {
     "data": {
      "text/html": [
       "<div>\n",
       "<style scoped>\n",
       "    .dataframe tbody tr th:only-of-type {\n",
       "        vertical-align: middle;\n",
       "    }\n",
       "\n",
       "    .dataframe tbody tr th {\n",
       "        vertical-align: top;\n",
       "    }\n",
       "\n",
       "    .dataframe thead th {\n",
       "        text-align: right;\n",
       "    }\n",
       "</style>\n",
       "<table border=\"1\" class=\"dataframe\">\n",
       "  <thead>\n",
       "    <tr style=\"text-align: right;\">\n",
       "      <th></th>\n",
       "      <th>A</th>\n",
       "      <th>B</th>\n",
       "      <th>C</th>\n",
       "      <th>D</th>\n",
       "    </tr>\n",
       "  </thead>\n",
       "  <tbody>\n",
       "    <tr>\n",
       "      <th>2013-01-01</th>\n",
       "      <td>0.386633</td>\n",
       "      <td>-0.76451</td>\n",
       "      <td>0.606874</td>\n",
       "      <td>-1.996790</td>\n",
       "    </tr>\n",
       "    <tr>\n",
       "      <th>2013-01-02</th>\n",
       "      <td>0.070036</td>\n",
       "      <td>0.57449</td>\n",
       "      <td>0.553327</td>\n",
       "      <td>1.431308</td>\n",
       "    </tr>\n",
       "    <tr>\n",
       "      <th>2013-01-03</th>\n",
       "      <td>-0.317880</td>\n",
       "      <td>1.30124</td>\n",
       "      <td>0.096299</td>\n",
       "      <td>0.941472</td>\n",
       "    </tr>\n",
       "  </tbody>\n",
       "</table>\n",
       "</div>"
      ],
      "text/plain": [
       "                   A        B         C         D\n",
       "2013-01-01  0.386633 -0.76451  0.606874 -1.996790\n",
       "2013-01-02  0.070036  0.57449  0.553327  1.431308\n",
       "2013-01-03 -0.317880  1.30124  0.096299  0.941472"
      ]
     },
     "execution_count": 25,
     "metadata": {},
     "output_type": "execute_result"
    }
   ],
   "source": [
    "df[0:3]"
   ]
  },
  {
   "cell_type": "code",
   "execution_count": 26,
   "metadata": {},
   "outputs": [
    {
     "data": {
      "text/html": [
       "<div>\n",
       "<style scoped>\n",
       "    .dataframe tbody tr th:only-of-type {\n",
       "        vertical-align: middle;\n",
       "    }\n",
       "\n",
       "    .dataframe tbody tr th {\n",
       "        vertical-align: top;\n",
       "    }\n",
       "\n",
       "    .dataframe thead th {\n",
       "        text-align: right;\n",
       "    }\n",
       "</style>\n",
       "<table border=\"1\" class=\"dataframe\">\n",
       "  <thead>\n",
       "    <tr style=\"text-align: right;\">\n",
       "      <th></th>\n",
       "      <th>A</th>\n",
       "      <th>B</th>\n",
       "      <th>C</th>\n",
       "      <th>D</th>\n",
       "    </tr>\n",
       "  </thead>\n",
       "  <tbody>\n",
       "    <tr>\n",
       "      <th>2013-01-02</th>\n",
       "      <td>0.070036</td>\n",
       "      <td>0.574490</td>\n",
       "      <td>0.553327</td>\n",
       "      <td>1.431308</td>\n",
       "    </tr>\n",
       "    <tr>\n",
       "      <th>2013-01-03</th>\n",
       "      <td>-0.317880</td>\n",
       "      <td>1.301240</td>\n",
       "      <td>0.096299</td>\n",
       "      <td>0.941472</td>\n",
       "    </tr>\n",
       "    <tr>\n",
       "      <th>2013-01-04</th>\n",
       "      <td>-1.142865</td>\n",
       "      <td>0.164893</td>\n",
       "      <td>0.929743</td>\n",
       "      <td>1.989641</td>\n",
       "    </tr>\n",
       "  </tbody>\n",
       "</table>\n",
       "</div>"
      ],
      "text/plain": [
       "                   A         B         C         D\n",
       "2013-01-02  0.070036  0.574490  0.553327  1.431308\n",
       "2013-01-03 -0.317880  1.301240  0.096299  0.941472\n",
       "2013-01-04 -1.142865  0.164893  0.929743  1.989641"
      ]
     },
     "execution_count": 26,
     "metadata": {},
     "output_type": "execute_result"
    }
   ],
   "source": [
    "df['20130102':'20130104']"
   ]
  },
  {
   "cell_type": "markdown",
   "metadata": {},
   "source": [
    "## 通过标签选择"
   ]
  },
  {
   "cell_type": "markdown",
   "metadata": {},
   "source": [
    "1.使用标签来获取一个交叉的区域"
   ]
  },
  {
   "cell_type": "code",
   "execution_count": 27,
   "metadata": {},
   "outputs": [
    {
     "data": {
      "text/html": [
       "<div>\n",
       "<style scoped>\n",
       "    .dataframe tbody tr th:only-of-type {\n",
       "        vertical-align: middle;\n",
       "    }\n",
       "\n",
       "    .dataframe tbody tr th {\n",
       "        vertical-align: top;\n",
       "    }\n",
       "\n",
       "    .dataframe thead th {\n",
       "        text-align: right;\n",
       "    }\n",
       "</style>\n",
       "<table border=\"1\" class=\"dataframe\">\n",
       "  <thead>\n",
       "    <tr style=\"text-align: right;\">\n",
       "      <th></th>\n",
       "      <th>A</th>\n",
       "      <th>B</th>\n",
       "      <th>C</th>\n",
       "      <th>D</th>\n",
       "    </tr>\n",
       "  </thead>\n",
       "  <tbody>\n",
       "    <tr>\n",
       "      <th>2013-01-01</th>\n",
       "      <td>0.386633</td>\n",
       "      <td>-0.764510</td>\n",
       "      <td>0.606874</td>\n",
       "      <td>-1.996790</td>\n",
       "    </tr>\n",
       "    <tr>\n",
       "      <th>2013-01-02</th>\n",
       "      <td>0.070036</td>\n",
       "      <td>0.574490</td>\n",
       "      <td>0.553327</td>\n",
       "      <td>1.431308</td>\n",
       "    </tr>\n",
       "    <tr>\n",
       "      <th>2013-01-03</th>\n",
       "      <td>-0.317880</td>\n",
       "      <td>1.301240</td>\n",
       "      <td>0.096299</td>\n",
       "      <td>0.941472</td>\n",
       "    </tr>\n",
       "    <tr>\n",
       "      <th>2013-01-04</th>\n",
       "      <td>-1.142865</td>\n",
       "      <td>0.164893</td>\n",
       "      <td>0.929743</td>\n",
       "      <td>1.989641</td>\n",
       "    </tr>\n",
       "    <tr>\n",
       "      <th>2013-01-05</th>\n",
       "      <td>0.190870</td>\n",
       "      <td>0.014951</td>\n",
       "      <td>1.385638</td>\n",
       "      <td>-0.320066</td>\n",
       "    </tr>\n",
       "    <tr>\n",
       "      <th>2013-01-06</th>\n",
       "      <td>1.157023</td>\n",
       "      <td>-1.366114</td>\n",
       "      <td>-0.138423</td>\n",
       "      <td>0.253818</td>\n",
       "    </tr>\n",
       "  </tbody>\n",
       "</table>\n",
       "</div>"
      ],
      "text/plain": [
       "                   A         B         C         D\n",
       "2013-01-01  0.386633 -0.764510  0.606874 -1.996790\n",
       "2013-01-02  0.070036  0.574490  0.553327  1.431308\n",
       "2013-01-03 -0.317880  1.301240  0.096299  0.941472\n",
       "2013-01-04 -1.142865  0.164893  0.929743  1.989641\n",
       "2013-01-05  0.190870  0.014951  1.385638 -0.320066\n",
       "2013-01-06  1.157023 -1.366114 -0.138423  0.253818"
      ]
     },
     "execution_count": 27,
     "metadata": {},
     "output_type": "execute_result"
    }
   ],
   "source": [
    "df"
   ]
  },
  {
   "cell_type": "code",
   "execution_count": 28,
   "metadata": {},
   "outputs": [
    {
     "data": {
      "text/plain": [
       "A    0.386633\n",
       "B   -0.764510\n",
       "C    0.606874\n",
       "D   -1.996790\n",
       "Name: 2013-01-01 00:00:00, dtype: float64"
      ]
     },
     "execution_count": 28,
     "metadata": {},
     "output_type": "execute_result"
    }
   ],
   "source": [
    "df.loc[dates[0]]"
   ]
  },
  {
   "cell_type": "markdown",
   "metadata": {},
   "source": [
    "2.通过标签来在多个轴上进行选择"
   ]
  },
  {
   "cell_type": "code",
   "execution_count": 29,
   "metadata": {},
   "outputs": [
    {
     "data": {
      "text/html": [
       "<div>\n",
       "<style scoped>\n",
       "    .dataframe tbody tr th:only-of-type {\n",
       "        vertical-align: middle;\n",
       "    }\n",
       "\n",
       "    .dataframe tbody tr th {\n",
       "        vertical-align: top;\n",
       "    }\n",
       "\n",
       "    .dataframe thead th {\n",
       "        text-align: right;\n",
       "    }\n",
       "</style>\n",
       "<table border=\"1\" class=\"dataframe\">\n",
       "  <thead>\n",
       "    <tr style=\"text-align: right;\">\n",
       "      <th></th>\n",
       "      <th>A</th>\n",
       "      <th>B</th>\n",
       "    </tr>\n",
       "  </thead>\n",
       "  <tbody>\n",
       "    <tr>\n",
       "      <th>2013-01-01</th>\n",
       "      <td>0.386633</td>\n",
       "      <td>-0.764510</td>\n",
       "    </tr>\n",
       "    <tr>\n",
       "      <th>2013-01-02</th>\n",
       "      <td>0.070036</td>\n",
       "      <td>0.574490</td>\n",
       "    </tr>\n",
       "    <tr>\n",
       "      <th>2013-01-03</th>\n",
       "      <td>-0.317880</td>\n",
       "      <td>1.301240</td>\n",
       "    </tr>\n",
       "    <tr>\n",
       "      <th>2013-01-04</th>\n",
       "      <td>-1.142865</td>\n",
       "      <td>0.164893</td>\n",
       "    </tr>\n",
       "    <tr>\n",
       "      <th>2013-01-05</th>\n",
       "      <td>0.190870</td>\n",
       "      <td>0.014951</td>\n",
       "    </tr>\n",
       "    <tr>\n",
       "      <th>2013-01-06</th>\n",
       "      <td>1.157023</td>\n",
       "      <td>-1.366114</td>\n",
       "    </tr>\n",
       "  </tbody>\n",
       "</table>\n",
       "</div>"
      ],
      "text/plain": [
       "                   A         B\n",
       "2013-01-01  0.386633 -0.764510\n",
       "2013-01-02  0.070036  0.574490\n",
       "2013-01-03 -0.317880  1.301240\n",
       "2013-01-04 -1.142865  0.164893\n",
       "2013-01-05  0.190870  0.014951\n",
       "2013-01-06  1.157023 -1.366114"
      ]
     },
     "execution_count": 29,
     "metadata": {},
     "output_type": "execute_result"
    }
   ],
   "source": [
    "df.loc[:,['A', 'B']]"
   ]
  },
  {
   "cell_type": "markdown",
   "metadata": {},
   "source": [
    "3.标签切片"
   ]
  },
  {
   "cell_type": "code",
   "execution_count": 30,
   "metadata": {},
   "outputs": [
    {
     "data": {
      "text/html": [
       "<div>\n",
       "<style scoped>\n",
       "    .dataframe tbody tr th:only-of-type {\n",
       "        vertical-align: middle;\n",
       "    }\n",
       "\n",
       "    .dataframe tbody tr th {\n",
       "        vertical-align: top;\n",
       "    }\n",
       "\n",
       "    .dataframe thead th {\n",
       "        text-align: right;\n",
       "    }\n",
       "</style>\n",
       "<table border=\"1\" class=\"dataframe\">\n",
       "  <thead>\n",
       "    <tr style=\"text-align: right;\">\n",
       "      <th></th>\n",
       "      <th>A</th>\n",
       "      <th>B</th>\n",
       "    </tr>\n",
       "  </thead>\n",
       "  <tbody>\n",
       "    <tr>\n",
       "      <th>2013-01-02</th>\n",
       "      <td>0.070036</td>\n",
       "      <td>0.574490</td>\n",
       "    </tr>\n",
       "    <tr>\n",
       "      <th>2013-01-03</th>\n",
       "      <td>-0.317880</td>\n",
       "      <td>1.301240</td>\n",
       "    </tr>\n",
       "    <tr>\n",
       "      <th>2013-01-04</th>\n",
       "      <td>-1.142865</td>\n",
       "      <td>0.164893</td>\n",
       "    </tr>\n",
       "  </tbody>\n",
       "</table>\n",
       "</div>"
      ],
      "text/plain": [
       "                   A         B\n",
       "2013-01-02  0.070036  0.574490\n",
       "2013-01-03 -0.317880  1.301240\n",
       "2013-01-04 -1.142865  0.164893"
      ]
     },
     "execution_count": 30,
     "metadata": {},
     "output_type": "execute_result"
    }
   ],
   "source": [
    "df.loc['20130102':'20130104', ['A','B']]"
   ]
  },
  {
   "cell_type": "markdown",
   "metadata": {},
   "source": [
    "4.对于返回的对象进行维度缩减"
   ]
  },
  {
   "cell_type": "code",
   "execution_count": 31,
   "metadata": {},
   "outputs": [
    {
     "data": {
      "text/plain": [
       "A    0.070036\n",
       "B    0.574490\n",
       "Name: 2013-01-02 00:00:00, dtype: float64"
      ]
     },
     "execution_count": 31,
     "metadata": {},
     "output_type": "execute_result"
    }
   ],
   "source": [
    "df.loc['20130102', ['A','B']]"
   ]
  },
  {
   "cell_type": "markdown",
   "metadata": {},
   "source": [
    "5.获取一个标量"
   ]
  },
  {
   "cell_type": "code",
   "execution_count": 32,
   "metadata": {},
   "outputs": [
    {
     "data": {
      "text/plain": [
       "0.3866328092416757"
      ]
     },
     "execution_count": 32,
     "metadata": {},
     "output_type": "execute_result"
    }
   ],
   "source": [
    "df.loc[dates[0], 'A']"
   ]
  },
  {
   "cell_type": "markdown",
   "metadata": {},
   "source": [
    "6.快速访问一个标量（与上一个方法等价）"
   ]
  },
  {
   "cell_type": "code",
   "execution_count": 33,
   "metadata": {},
   "outputs": [
    {
     "data": {
      "text/plain": [
       "0.3866328092416757"
      ]
     },
     "execution_count": 33,
     "metadata": {},
     "output_type": "execute_result"
    }
   ],
   "source": [
    "df.at[dates[0], 'A']"
   ]
  },
  {
   "cell_type": "markdown",
   "metadata": {},
   "source": [
    "## 通过位置选择"
   ]
  },
  {
   "cell_type": "markdown",
   "metadata": {},
   "source": [
    "1.通过传递数值进行位置选择（选择的是行）"
   ]
  },
  {
   "cell_type": "code",
   "execution_count": 34,
   "metadata": {},
   "outputs": [
    {
     "data": {
      "text/html": [
       "<div>\n",
       "<style scoped>\n",
       "    .dataframe tbody tr th:only-of-type {\n",
       "        vertical-align: middle;\n",
       "    }\n",
       "\n",
       "    .dataframe tbody tr th {\n",
       "        vertical-align: top;\n",
       "    }\n",
       "\n",
       "    .dataframe thead th {\n",
       "        text-align: right;\n",
       "    }\n",
       "</style>\n",
       "<table border=\"1\" class=\"dataframe\">\n",
       "  <thead>\n",
       "    <tr style=\"text-align: right;\">\n",
       "      <th></th>\n",
       "      <th>A</th>\n",
       "      <th>B</th>\n",
       "      <th>C</th>\n",
       "      <th>D</th>\n",
       "    </tr>\n",
       "  </thead>\n",
       "  <tbody>\n",
       "    <tr>\n",
       "      <th>2013-01-01</th>\n",
       "      <td>0.386633</td>\n",
       "      <td>-0.764510</td>\n",
       "      <td>0.606874</td>\n",
       "      <td>-1.996790</td>\n",
       "    </tr>\n",
       "    <tr>\n",
       "      <th>2013-01-02</th>\n",
       "      <td>0.070036</td>\n",
       "      <td>0.574490</td>\n",
       "      <td>0.553327</td>\n",
       "      <td>1.431308</td>\n",
       "    </tr>\n",
       "    <tr>\n",
       "      <th>2013-01-03</th>\n",
       "      <td>-0.317880</td>\n",
       "      <td>1.301240</td>\n",
       "      <td>0.096299</td>\n",
       "      <td>0.941472</td>\n",
       "    </tr>\n",
       "    <tr>\n",
       "      <th>2013-01-04</th>\n",
       "      <td>-1.142865</td>\n",
       "      <td>0.164893</td>\n",
       "      <td>0.929743</td>\n",
       "      <td>1.989641</td>\n",
       "    </tr>\n",
       "    <tr>\n",
       "      <th>2013-01-05</th>\n",
       "      <td>0.190870</td>\n",
       "      <td>0.014951</td>\n",
       "      <td>1.385638</td>\n",
       "      <td>-0.320066</td>\n",
       "    </tr>\n",
       "    <tr>\n",
       "      <th>2013-01-06</th>\n",
       "      <td>1.157023</td>\n",
       "      <td>-1.366114</td>\n",
       "      <td>-0.138423</td>\n",
       "      <td>0.253818</td>\n",
       "    </tr>\n",
       "  </tbody>\n",
       "</table>\n",
       "</div>"
      ],
      "text/plain": [
       "                   A         B         C         D\n",
       "2013-01-01  0.386633 -0.764510  0.606874 -1.996790\n",
       "2013-01-02  0.070036  0.574490  0.553327  1.431308\n",
       "2013-01-03 -0.317880  1.301240  0.096299  0.941472\n",
       "2013-01-04 -1.142865  0.164893  0.929743  1.989641\n",
       "2013-01-05  0.190870  0.014951  1.385638 -0.320066\n",
       "2013-01-06  1.157023 -1.366114 -0.138423  0.253818"
      ]
     },
     "execution_count": 34,
     "metadata": {},
     "output_type": "execute_result"
    }
   ],
   "source": [
    "df"
   ]
  },
  {
   "cell_type": "code",
   "execution_count": 35,
   "metadata": {},
   "outputs": [
    {
     "data": {
      "text/plain": [
       "A   -1.142865\n",
       "B    0.164893\n",
       "C    0.929743\n",
       "D    1.989641\n",
       "Name: 2013-01-04 00:00:00, dtype: float64"
      ]
     },
     "execution_count": 35,
     "metadata": {},
     "output_type": "execute_result"
    }
   ],
   "source": [
    "df.iloc[3]"
   ]
  },
  {
   "cell_type": "markdown",
   "metadata": {},
   "source": [
    "2.通过数值进行切片，与numpy/python中的情况类似"
   ]
  },
  {
   "cell_type": "code",
   "execution_count": 36,
   "metadata": {},
   "outputs": [
    {
     "data": {
      "text/html": [
       "<div>\n",
       "<style scoped>\n",
       "    .dataframe tbody tr th:only-of-type {\n",
       "        vertical-align: middle;\n",
       "    }\n",
       "\n",
       "    .dataframe tbody tr th {\n",
       "        vertical-align: top;\n",
       "    }\n",
       "\n",
       "    .dataframe thead th {\n",
       "        text-align: right;\n",
       "    }\n",
       "</style>\n",
       "<table border=\"1\" class=\"dataframe\">\n",
       "  <thead>\n",
       "    <tr style=\"text-align: right;\">\n",
       "      <th></th>\n",
       "      <th>A</th>\n",
       "      <th>B</th>\n",
       "    </tr>\n",
       "  </thead>\n",
       "  <tbody>\n",
       "    <tr>\n",
       "      <th>2013-01-04</th>\n",
       "      <td>-1.142865</td>\n",
       "      <td>0.164893</td>\n",
       "    </tr>\n",
       "    <tr>\n",
       "      <th>2013-01-05</th>\n",
       "      <td>0.190870</td>\n",
       "      <td>0.014951</td>\n",
       "    </tr>\n",
       "  </tbody>\n",
       "</table>\n",
       "</div>"
      ],
      "text/plain": [
       "                   A         B\n",
       "2013-01-04 -1.142865  0.164893\n",
       "2013-01-05  0.190870  0.014951"
      ]
     },
     "execution_count": 36,
     "metadata": {},
     "output_type": "execute_result"
    }
   ],
   "source": [
    "df.iloc[3:5,0:2]"
   ]
  },
  {
   "cell_type": "markdown",
   "metadata": {},
   "source": [
    "3.通过指定一个位置的列表，与numpy/python中的情况类似"
   ]
  },
  {
   "cell_type": "code",
   "execution_count": 37,
   "metadata": {},
   "outputs": [
    {
     "data": {
      "text/html": [
       "<div>\n",
       "<style scoped>\n",
       "    .dataframe tbody tr th:only-of-type {\n",
       "        vertical-align: middle;\n",
       "    }\n",
       "\n",
       "    .dataframe tbody tr th {\n",
       "        vertical-align: top;\n",
       "    }\n",
       "\n",
       "    .dataframe thead th {\n",
       "        text-align: right;\n",
       "    }\n",
       "</style>\n",
       "<table border=\"1\" class=\"dataframe\">\n",
       "  <thead>\n",
       "    <tr style=\"text-align: right;\">\n",
       "      <th></th>\n",
       "      <th>A</th>\n",
       "      <th>C</th>\n",
       "    </tr>\n",
       "  </thead>\n",
       "  <tbody>\n",
       "    <tr>\n",
       "      <th>2013-01-02</th>\n",
       "      <td>0.070036</td>\n",
       "      <td>0.553327</td>\n",
       "    </tr>\n",
       "    <tr>\n",
       "      <th>2013-01-03</th>\n",
       "      <td>-0.317880</td>\n",
       "      <td>0.096299</td>\n",
       "    </tr>\n",
       "    <tr>\n",
       "      <th>2013-01-05</th>\n",
       "      <td>0.190870</td>\n",
       "      <td>1.385638</td>\n",
       "    </tr>\n",
       "  </tbody>\n",
       "</table>\n",
       "</div>"
      ],
      "text/plain": [
       "                   A         C\n",
       "2013-01-02  0.070036  0.553327\n",
       "2013-01-03 -0.317880  0.096299\n",
       "2013-01-05  0.190870  1.385638"
      ]
     },
     "execution_count": 37,
     "metadata": {},
     "output_type": "execute_result"
    }
   ],
   "source": [
    "df.iloc[[1,2,4],[0,2]]"
   ]
  },
  {
   "cell_type": "markdown",
   "metadata": {},
   "source": [
    "4.对行进行切片"
   ]
  },
  {
   "cell_type": "code",
   "execution_count": 38,
   "metadata": {},
   "outputs": [
    {
     "data": {
      "text/html": [
       "<div>\n",
       "<style scoped>\n",
       "    .dataframe tbody tr th:only-of-type {\n",
       "        vertical-align: middle;\n",
       "    }\n",
       "\n",
       "    .dataframe tbody tr th {\n",
       "        vertical-align: top;\n",
       "    }\n",
       "\n",
       "    .dataframe thead th {\n",
       "        text-align: right;\n",
       "    }\n",
       "</style>\n",
       "<table border=\"1\" class=\"dataframe\">\n",
       "  <thead>\n",
       "    <tr style=\"text-align: right;\">\n",
       "      <th></th>\n",
       "      <th>A</th>\n",
       "      <th>B</th>\n",
       "      <th>C</th>\n",
       "      <th>D</th>\n",
       "    </tr>\n",
       "  </thead>\n",
       "  <tbody>\n",
       "    <tr>\n",
       "      <th>2013-01-02</th>\n",
       "      <td>0.070036</td>\n",
       "      <td>0.57449</td>\n",
       "      <td>0.553327</td>\n",
       "      <td>1.431308</td>\n",
       "    </tr>\n",
       "    <tr>\n",
       "      <th>2013-01-03</th>\n",
       "      <td>-0.317880</td>\n",
       "      <td>1.30124</td>\n",
       "      <td>0.096299</td>\n",
       "      <td>0.941472</td>\n",
       "    </tr>\n",
       "  </tbody>\n",
       "</table>\n",
       "</div>"
      ],
      "text/plain": [
       "                   A        B         C         D\n",
       "2013-01-02  0.070036  0.57449  0.553327  1.431308\n",
       "2013-01-03 -0.317880  1.30124  0.096299  0.941472"
      ]
     },
     "execution_count": 38,
     "metadata": {},
     "output_type": "execute_result"
    }
   ],
   "source": [
    "df.iloc[1:3,:]"
   ]
  },
  {
   "cell_type": "markdown",
   "metadata": {},
   "source": [
    "5.对列进行切片"
   ]
  },
  {
   "cell_type": "code",
   "execution_count": 39,
   "metadata": {},
   "outputs": [
    {
     "data": {
      "text/html": [
       "<div>\n",
       "<style scoped>\n",
       "    .dataframe tbody tr th:only-of-type {\n",
       "        vertical-align: middle;\n",
       "    }\n",
       "\n",
       "    .dataframe tbody tr th {\n",
       "        vertical-align: top;\n",
       "    }\n",
       "\n",
       "    .dataframe thead th {\n",
       "        text-align: right;\n",
       "    }\n",
       "</style>\n",
       "<table border=\"1\" class=\"dataframe\">\n",
       "  <thead>\n",
       "    <tr style=\"text-align: right;\">\n",
       "      <th></th>\n",
       "      <th>B</th>\n",
       "      <th>C</th>\n",
       "    </tr>\n",
       "  </thead>\n",
       "  <tbody>\n",
       "    <tr>\n",
       "      <th>2013-01-01</th>\n",
       "      <td>-0.764510</td>\n",
       "      <td>0.606874</td>\n",
       "    </tr>\n",
       "    <tr>\n",
       "      <th>2013-01-02</th>\n",
       "      <td>0.574490</td>\n",
       "      <td>0.553327</td>\n",
       "    </tr>\n",
       "    <tr>\n",
       "      <th>2013-01-03</th>\n",
       "      <td>1.301240</td>\n",
       "      <td>0.096299</td>\n",
       "    </tr>\n",
       "    <tr>\n",
       "      <th>2013-01-04</th>\n",
       "      <td>0.164893</td>\n",
       "      <td>0.929743</td>\n",
       "    </tr>\n",
       "    <tr>\n",
       "      <th>2013-01-05</th>\n",
       "      <td>0.014951</td>\n",
       "      <td>1.385638</td>\n",
       "    </tr>\n",
       "    <tr>\n",
       "      <th>2013-01-06</th>\n",
       "      <td>-1.366114</td>\n",
       "      <td>-0.138423</td>\n",
       "    </tr>\n",
       "  </tbody>\n",
       "</table>\n",
       "</div>"
      ],
      "text/plain": [
       "                   B         C\n",
       "2013-01-01 -0.764510  0.606874\n",
       "2013-01-02  0.574490  0.553327\n",
       "2013-01-03  1.301240  0.096299\n",
       "2013-01-04  0.164893  0.929743\n",
       "2013-01-05  0.014951  1.385638\n",
       "2013-01-06 -1.366114 -0.138423"
      ]
     },
     "execution_count": 39,
     "metadata": {},
     "output_type": "execute_result"
    }
   ],
   "source": [
    "df.iloc[:,1:3]"
   ]
  },
  {
   "cell_type": "markdown",
   "metadata": {},
   "source": [
    "6.获取特定的值"
   ]
  },
  {
   "cell_type": "code",
   "execution_count": 40,
   "metadata": {},
   "outputs": [
    {
     "data": {
      "text/plain": [
       "0.5744901905520398"
      ]
     },
     "execution_count": 40,
     "metadata": {},
     "output_type": "execute_result"
    }
   ],
   "source": [
    "df.iloc[1,1]"
   ]
  },
  {
   "cell_type": "code",
   "execution_count": 41,
   "metadata": {},
   "outputs": [
    {
     "data": {
      "text/plain": [
       "0.5744901905520398"
      ]
     },
     "execution_count": 41,
     "metadata": {},
     "output_type": "execute_result"
    }
   ],
   "source": [
    "df.iat[1,1]"
   ]
  },
  {
   "cell_type": "markdown",
   "metadata": {},
   "source": [
    "## 布尔索引"
   ]
  },
  {
   "cell_type": "code",
   "execution_count": 42,
   "metadata": {},
   "outputs": [
    {
     "data": {
      "text/html": [
       "<div>\n",
       "<style scoped>\n",
       "    .dataframe tbody tr th:only-of-type {\n",
       "        vertical-align: middle;\n",
       "    }\n",
       "\n",
       "    .dataframe tbody tr th {\n",
       "        vertical-align: top;\n",
       "    }\n",
       "\n",
       "    .dataframe thead th {\n",
       "        text-align: right;\n",
       "    }\n",
       "</style>\n",
       "<table border=\"1\" class=\"dataframe\">\n",
       "  <thead>\n",
       "    <tr style=\"text-align: right;\">\n",
       "      <th></th>\n",
       "      <th>A</th>\n",
       "      <th>B</th>\n",
       "      <th>C</th>\n",
       "      <th>D</th>\n",
       "    </tr>\n",
       "  </thead>\n",
       "  <tbody>\n",
       "    <tr>\n",
       "      <th>2013-01-01</th>\n",
       "      <td>0.386633</td>\n",
       "      <td>-0.764510</td>\n",
       "      <td>0.606874</td>\n",
       "      <td>-1.996790</td>\n",
       "    </tr>\n",
       "    <tr>\n",
       "      <th>2013-01-02</th>\n",
       "      <td>0.070036</td>\n",
       "      <td>0.574490</td>\n",
       "      <td>0.553327</td>\n",
       "      <td>1.431308</td>\n",
       "    </tr>\n",
       "    <tr>\n",
       "      <th>2013-01-03</th>\n",
       "      <td>-0.317880</td>\n",
       "      <td>1.301240</td>\n",
       "      <td>0.096299</td>\n",
       "      <td>0.941472</td>\n",
       "    </tr>\n",
       "    <tr>\n",
       "      <th>2013-01-04</th>\n",
       "      <td>-1.142865</td>\n",
       "      <td>0.164893</td>\n",
       "      <td>0.929743</td>\n",
       "      <td>1.989641</td>\n",
       "    </tr>\n",
       "    <tr>\n",
       "      <th>2013-01-05</th>\n",
       "      <td>0.190870</td>\n",
       "      <td>0.014951</td>\n",
       "      <td>1.385638</td>\n",
       "      <td>-0.320066</td>\n",
       "    </tr>\n",
       "    <tr>\n",
       "      <th>2013-01-06</th>\n",
       "      <td>1.157023</td>\n",
       "      <td>-1.366114</td>\n",
       "      <td>-0.138423</td>\n",
       "      <td>0.253818</td>\n",
       "    </tr>\n",
       "  </tbody>\n",
       "</table>\n",
       "</div>"
      ],
      "text/plain": [
       "                   A         B         C         D\n",
       "2013-01-01  0.386633 -0.764510  0.606874 -1.996790\n",
       "2013-01-02  0.070036  0.574490  0.553327  1.431308\n",
       "2013-01-03 -0.317880  1.301240  0.096299  0.941472\n",
       "2013-01-04 -1.142865  0.164893  0.929743  1.989641\n",
       "2013-01-05  0.190870  0.014951  1.385638 -0.320066\n",
       "2013-01-06  1.157023 -1.366114 -0.138423  0.253818"
      ]
     },
     "execution_count": 42,
     "metadata": {},
     "output_type": "execute_result"
    }
   ],
   "source": [
    "df"
   ]
  },
  {
   "cell_type": "markdown",
   "metadata": {},
   "source": [
    "1.使用一个单独列的值来选择数据："
   ]
  },
  {
   "cell_type": "code",
   "execution_count": 43,
   "metadata": {},
   "outputs": [
    {
     "data": {
      "text/html": [
       "<div>\n",
       "<style scoped>\n",
       "    .dataframe tbody tr th:only-of-type {\n",
       "        vertical-align: middle;\n",
       "    }\n",
       "\n",
       "    .dataframe tbody tr th {\n",
       "        vertical-align: top;\n",
       "    }\n",
       "\n",
       "    .dataframe thead th {\n",
       "        text-align: right;\n",
       "    }\n",
       "</style>\n",
       "<table border=\"1\" class=\"dataframe\">\n",
       "  <thead>\n",
       "    <tr style=\"text-align: right;\">\n",
       "      <th></th>\n",
       "      <th>A</th>\n",
       "      <th>B</th>\n",
       "      <th>C</th>\n",
       "      <th>D</th>\n",
       "    </tr>\n",
       "  </thead>\n",
       "  <tbody>\n",
       "    <tr>\n",
       "      <th>2013-01-01</th>\n",
       "      <td>0.386633</td>\n",
       "      <td>-0.764510</td>\n",
       "      <td>0.606874</td>\n",
       "      <td>-1.996790</td>\n",
       "    </tr>\n",
       "    <tr>\n",
       "      <th>2013-01-02</th>\n",
       "      <td>0.070036</td>\n",
       "      <td>0.574490</td>\n",
       "      <td>0.553327</td>\n",
       "      <td>1.431308</td>\n",
       "    </tr>\n",
       "    <tr>\n",
       "      <th>2013-01-05</th>\n",
       "      <td>0.190870</td>\n",
       "      <td>0.014951</td>\n",
       "      <td>1.385638</td>\n",
       "      <td>-0.320066</td>\n",
       "    </tr>\n",
       "    <tr>\n",
       "      <th>2013-01-06</th>\n",
       "      <td>1.157023</td>\n",
       "      <td>-1.366114</td>\n",
       "      <td>-0.138423</td>\n",
       "      <td>0.253818</td>\n",
       "    </tr>\n",
       "  </tbody>\n",
       "</table>\n",
       "</div>"
      ],
      "text/plain": [
       "                   A         B         C         D\n",
       "2013-01-01  0.386633 -0.764510  0.606874 -1.996790\n",
       "2013-01-02  0.070036  0.574490  0.553327  1.431308\n",
       "2013-01-05  0.190870  0.014951  1.385638 -0.320066\n",
       "2013-01-06  1.157023 -1.366114 -0.138423  0.253818"
      ]
     },
     "execution_count": 43,
     "metadata": {},
     "output_type": "execute_result"
    }
   ],
   "source": [
    "df[df.A > 0]"
   ]
  },
  {
   "cell_type": "markdown",
   "metadata": {},
   "source": [
    "2.使用where操作来选择数据："
   ]
  },
  {
   "cell_type": "code",
   "execution_count": 44,
   "metadata": {},
   "outputs": [
    {
     "data": {
      "text/html": [
       "<div>\n",
       "<style scoped>\n",
       "    .dataframe tbody tr th:only-of-type {\n",
       "        vertical-align: middle;\n",
       "    }\n",
       "\n",
       "    .dataframe tbody tr th {\n",
       "        vertical-align: top;\n",
       "    }\n",
       "\n",
       "    .dataframe thead th {\n",
       "        text-align: right;\n",
       "    }\n",
       "</style>\n",
       "<table border=\"1\" class=\"dataframe\">\n",
       "  <thead>\n",
       "    <tr style=\"text-align: right;\">\n",
       "      <th></th>\n",
       "      <th>A</th>\n",
       "      <th>B</th>\n",
       "      <th>C</th>\n",
       "      <th>D</th>\n",
       "    </tr>\n",
       "  </thead>\n",
       "  <tbody>\n",
       "    <tr>\n",
       "      <th>2013-01-01</th>\n",
       "      <td>0.386633</td>\n",
       "      <td>NaN</td>\n",
       "      <td>0.606874</td>\n",
       "      <td>NaN</td>\n",
       "    </tr>\n",
       "    <tr>\n",
       "      <th>2013-01-02</th>\n",
       "      <td>0.070036</td>\n",
       "      <td>0.574490</td>\n",
       "      <td>0.553327</td>\n",
       "      <td>1.431308</td>\n",
       "    </tr>\n",
       "    <tr>\n",
       "      <th>2013-01-03</th>\n",
       "      <td>NaN</td>\n",
       "      <td>1.301240</td>\n",
       "      <td>0.096299</td>\n",
       "      <td>0.941472</td>\n",
       "    </tr>\n",
       "    <tr>\n",
       "      <th>2013-01-04</th>\n",
       "      <td>NaN</td>\n",
       "      <td>0.164893</td>\n",
       "      <td>0.929743</td>\n",
       "      <td>1.989641</td>\n",
       "    </tr>\n",
       "    <tr>\n",
       "      <th>2013-01-05</th>\n",
       "      <td>0.190870</td>\n",
       "      <td>0.014951</td>\n",
       "      <td>1.385638</td>\n",
       "      <td>NaN</td>\n",
       "    </tr>\n",
       "    <tr>\n",
       "      <th>2013-01-06</th>\n",
       "      <td>1.157023</td>\n",
       "      <td>NaN</td>\n",
       "      <td>NaN</td>\n",
       "      <td>0.253818</td>\n",
       "    </tr>\n",
       "  </tbody>\n",
       "</table>\n",
       "</div>"
      ],
      "text/plain": [
       "                   A         B         C         D\n",
       "2013-01-01  0.386633       NaN  0.606874       NaN\n",
       "2013-01-02  0.070036  0.574490  0.553327  1.431308\n",
       "2013-01-03       NaN  1.301240  0.096299  0.941472\n",
       "2013-01-04       NaN  0.164893  0.929743  1.989641\n",
       "2013-01-05  0.190870  0.014951  1.385638       NaN\n",
       "2013-01-06  1.157023       NaN       NaN  0.253818"
      ]
     },
     "execution_count": 44,
     "metadata": {},
     "output_type": "execute_result"
    }
   ],
   "source": [
    "df[df > 0]"
   ]
  },
  {
   "cell_type": "markdown",
   "metadata": {},
   "source": [
    "3.使用isin()方法来过滤："
   ]
  },
  {
   "cell_type": "code",
   "execution_count": 45,
   "metadata": {},
   "outputs": [],
   "source": [
    "df2 = df.copy()"
   ]
  },
  {
   "cell_type": "code",
   "execution_count": 46,
   "metadata": {},
   "outputs": [],
   "source": [
    "df2['E'] = ['one', 'one', 'two', 'three', 'four', 'three']"
   ]
  },
  {
   "cell_type": "code",
   "execution_count": 47,
   "metadata": {},
   "outputs": [
    {
     "data": {
      "text/html": [
       "<div>\n",
       "<style scoped>\n",
       "    .dataframe tbody tr th:only-of-type {\n",
       "        vertical-align: middle;\n",
       "    }\n",
       "\n",
       "    .dataframe tbody tr th {\n",
       "        vertical-align: top;\n",
       "    }\n",
       "\n",
       "    .dataframe thead th {\n",
       "        text-align: right;\n",
       "    }\n",
       "</style>\n",
       "<table border=\"1\" class=\"dataframe\">\n",
       "  <thead>\n",
       "    <tr style=\"text-align: right;\">\n",
       "      <th></th>\n",
       "      <th>A</th>\n",
       "      <th>B</th>\n",
       "      <th>C</th>\n",
       "      <th>D</th>\n",
       "      <th>E</th>\n",
       "    </tr>\n",
       "  </thead>\n",
       "  <tbody>\n",
       "    <tr>\n",
       "      <th>2013-01-01</th>\n",
       "      <td>0.386633</td>\n",
       "      <td>-0.764510</td>\n",
       "      <td>0.606874</td>\n",
       "      <td>-1.996790</td>\n",
       "      <td>one</td>\n",
       "    </tr>\n",
       "    <tr>\n",
       "      <th>2013-01-02</th>\n",
       "      <td>0.070036</td>\n",
       "      <td>0.574490</td>\n",
       "      <td>0.553327</td>\n",
       "      <td>1.431308</td>\n",
       "      <td>one</td>\n",
       "    </tr>\n",
       "    <tr>\n",
       "      <th>2013-01-03</th>\n",
       "      <td>-0.317880</td>\n",
       "      <td>1.301240</td>\n",
       "      <td>0.096299</td>\n",
       "      <td>0.941472</td>\n",
       "      <td>two</td>\n",
       "    </tr>\n",
       "    <tr>\n",
       "      <th>2013-01-04</th>\n",
       "      <td>-1.142865</td>\n",
       "      <td>0.164893</td>\n",
       "      <td>0.929743</td>\n",
       "      <td>1.989641</td>\n",
       "      <td>three</td>\n",
       "    </tr>\n",
       "    <tr>\n",
       "      <th>2013-01-05</th>\n",
       "      <td>0.190870</td>\n",
       "      <td>0.014951</td>\n",
       "      <td>1.385638</td>\n",
       "      <td>-0.320066</td>\n",
       "      <td>four</td>\n",
       "    </tr>\n",
       "    <tr>\n",
       "      <th>2013-01-06</th>\n",
       "      <td>1.157023</td>\n",
       "      <td>-1.366114</td>\n",
       "      <td>-0.138423</td>\n",
       "      <td>0.253818</td>\n",
       "      <td>three</td>\n",
       "    </tr>\n",
       "  </tbody>\n",
       "</table>\n",
       "</div>"
      ],
      "text/plain": [
       "                   A         B         C         D      E\n",
       "2013-01-01  0.386633 -0.764510  0.606874 -1.996790    one\n",
       "2013-01-02  0.070036  0.574490  0.553327  1.431308    one\n",
       "2013-01-03 -0.317880  1.301240  0.096299  0.941472    two\n",
       "2013-01-04 -1.142865  0.164893  0.929743  1.989641  three\n",
       "2013-01-05  0.190870  0.014951  1.385638 -0.320066   four\n",
       "2013-01-06  1.157023 -1.366114 -0.138423  0.253818  three"
      ]
     },
     "execution_count": 47,
     "metadata": {},
     "output_type": "execute_result"
    }
   ],
   "source": [
    "df2"
   ]
  },
  {
   "cell_type": "code",
   "execution_count": 48,
   "metadata": {},
   "outputs": [
    {
     "data": {
      "text/html": [
       "<div>\n",
       "<style scoped>\n",
       "    .dataframe tbody tr th:only-of-type {\n",
       "        vertical-align: middle;\n",
       "    }\n",
       "\n",
       "    .dataframe tbody tr th {\n",
       "        vertical-align: top;\n",
       "    }\n",
       "\n",
       "    .dataframe thead th {\n",
       "        text-align: right;\n",
       "    }\n",
       "</style>\n",
       "<table border=\"1\" class=\"dataframe\">\n",
       "  <thead>\n",
       "    <tr style=\"text-align: right;\">\n",
       "      <th></th>\n",
       "      <th>A</th>\n",
       "      <th>B</th>\n",
       "      <th>C</th>\n",
       "      <th>D</th>\n",
       "      <th>E</th>\n",
       "    </tr>\n",
       "  </thead>\n",
       "  <tbody>\n",
       "    <tr>\n",
       "      <th>2013-01-03</th>\n",
       "      <td>-0.31788</td>\n",
       "      <td>1.301240</td>\n",
       "      <td>0.096299</td>\n",
       "      <td>0.941472</td>\n",
       "      <td>two</td>\n",
       "    </tr>\n",
       "    <tr>\n",
       "      <th>2013-01-05</th>\n",
       "      <td>0.19087</td>\n",
       "      <td>0.014951</td>\n",
       "      <td>1.385638</td>\n",
       "      <td>-0.320066</td>\n",
       "      <td>four</td>\n",
       "    </tr>\n",
       "  </tbody>\n",
       "</table>\n",
       "</div>"
      ],
      "text/plain": [
       "                  A         B         C         D     E\n",
       "2013-01-03 -0.31788  1.301240  0.096299  0.941472   two\n",
       "2013-01-05  0.19087  0.014951  1.385638 -0.320066  four"
      ]
     },
     "execution_count": 48,
     "metadata": {},
     "output_type": "execute_result"
    }
   ],
   "source": [
    "df2[df2['E'].isin(['two', 'four'])]"
   ]
  },
  {
   "cell_type": "markdown",
   "metadata": {},
   "source": [
    "## 设置"
   ]
  },
  {
   "cell_type": "markdown",
   "metadata": {},
   "source": [
    "1.设置一个新的列："
   ]
  },
  {
   "cell_type": "code",
   "execution_count": 49,
   "metadata": {},
   "outputs": [],
   "source": [
    "s1 = pd.Series([1,2,3,4,5,6], index=pd.date_range('20130102', periods=6))"
   ]
  },
  {
   "cell_type": "code",
   "execution_count": 50,
   "metadata": {},
   "outputs": [
    {
     "data": {
      "text/plain": [
       "2013-01-02    1\n",
       "2013-01-03    2\n",
       "2013-01-04    3\n",
       "2013-01-05    4\n",
       "2013-01-06    5\n",
       "2013-01-07    6\n",
       "Freq: D, dtype: int64"
      ]
     },
     "execution_count": 50,
     "metadata": {},
     "output_type": "execute_result"
    }
   ],
   "source": [
    "s1"
   ]
  },
  {
   "cell_type": "code",
   "execution_count": 51,
   "metadata": {},
   "outputs": [],
   "source": [
    "df['F'] = s1"
   ]
  },
  {
   "cell_type": "code",
   "execution_count": 52,
   "metadata": {},
   "outputs": [
    {
     "data": {
      "text/html": [
       "<div>\n",
       "<style scoped>\n",
       "    .dataframe tbody tr th:only-of-type {\n",
       "        vertical-align: middle;\n",
       "    }\n",
       "\n",
       "    .dataframe tbody tr th {\n",
       "        vertical-align: top;\n",
       "    }\n",
       "\n",
       "    .dataframe thead th {\n",
       "        text-align: right;\n",
       "    }\n",
       "</style>\n",
       "<table border=\"1\" class=\"dataframe\">\n",
       "  <thead>\n",
       "    <tr style=\"text-align: right;\">\n",
       "      <th></th>\n",
       "      <th>A</th>\n",
       "      <th>B</th>\n",
       "      <th>C</th>\n",
       "      <th>D</th>\n",
       "      <th>F</th>\n",
       "    </tr>\n",
       "  </thead>\n",
       "  <tbody>\n",
       "    <tr>\n",
       "      <th>2013-01-01</th>\n",
       "      <td>0.386633</td>\n",
       "      <td>-0.764510</td>\n",
       "      <td>0.606874</td>\n",
       "      <td>-1.996790</td>\n",
       "      <td>NaN</td>\n",
       "    </tr>\n",
       "    <tr>\n",
       "      <th>2013-01-02</th>\n",
       "      <td>0.070036</td>\n",
       "      <td>0.574490</td>\n",
       "      <td>0.553327</td>\n",
       "      <td>1.431308</td>\n",
       "      <td>1.0</td>\n",
       "    </tr>\n",
       "    <tr>\n",
       "      <th>2013-01-03</th>\n",
       "      <td>-0.317880</td>\n",
       "      <td>1.301240</td>\n",
       "      <td>0.096299</td>\n",
       "      <td>0.941472</td>\n",
       "      <td>2.0</td>\n",
       "    </tr>\n",
       "    <tr>\n",
       "      <th>2013-01-04</th>\n",
       "      <td>-1.142865</td>\n",
       "      <td>0.164893</td>\n",
       "      <td>0.929743</td>\n",
       "      <td>1.989641</td>\n",
       "      <td>3.0</td>\n",
       "    </tr>\n",
       "    <tr>\n",
       "      <th>2013-01-05</th>\n",
       "      <td>0.190870</td>\n",
       "      <td>0.014951</td>\n",
       "      <td>1.385638</td>\n",
       "      <td>-0.320066</td>\n",
       "      <td>4.0</td>\n",
       "    </tr>\n",
       "    <tr>\n",
       "      <th>2013-01-06</th>\n",
       "      <td>1.157023</td>\n",
       "      <td>-1.366114</td>\n",
       "      <td>-0.138423</td>\n",
       "      <td>0.253818</td>\n",
       "      <td>5.0</td>\n",
       "    </tr>\n",
       "  </tbody>\n",
       "</table>\n",
       "</div>"
      ],
      "text/plain": [
       "                   A         B         C         D    F\n",
       "2013-01-01  0.386633 -0.764510  0.606874 -1.996790  NaN\n",
       "2013-01-02  0.070036  0.574490  0.553327  1.431308  1.0\n",
       "2013-01-03 -0.317880  1.301240  0.096299  0.941472  2.0\n",
       "2013-01-04 -1.142865  0.164893  0.929743  1.989641  3.0\n",
       "2013-01-05  0.190870  0.014951  1.385638 -0.320066  4.0\n",
       "2013-01-06  1.157023 -1.366114 -0.138423  0.253818  5.0"
      ]
     },
     "execution_count": 52,
     "metadata": {},
     "output_type": "execute_result"
    }
   ],
   "source": [
    "df"
   ]
  },
  {
   "cell_type": "markdown",
   "metadata": {},
   "source": [
    "2.通过标签设置新的值："
   ]
  },
  {
   "cell_type": "code",
   "execution_count": 53,
   "metadata": {},
   "outputs": [],
   "source": [
    "df.at[dates[0],'A'] = 0"
   ]
  },
  {
   "cell_type": "markdown",
   "metadata": {},
   "source": [
    "3.通过位置设置新的值："
   ]
  },
  {
   "cell_type": "code",
   "execution_count": 54,
   "metadata": {},
   "outputs": [],
   "source": [
    "df.iat[0,1] = 0"
   ]
  },
  {
   "cell_type": "markdown",
   "metadata": {},
   "source": [
    "4.通过一个numpy数值设置一组新值："
   ]
  },
  {
   "cell_type": "code",
   "execution_count": 57,
   "metadata": {},
   "outputs": [
    {
     "data": {
      "text/plain": [
       "6"
      ]
     },
     "execution_count": 57,
     "metadata": {},
     "output_type": "execute_result"
    }
   ],
   "source": [
    "len(df)"
   ]
  },
  {
   "cell_type": "code",
   "execution_count": 55,
   "metadata": {},
   "outputs": [],
   "source": [
    "df.loc[:, 'D'] = np.array([5] * len(df))"
   ]
  },
  {
   "cell_type": "markdown",
   "metadata": {},
   "source": [
    "上述操作结果如下："
   ]
  },
  {
   "cell_type": "code",
   "execution_count": 56,
   "metadata": {},
   "outputs": [
    {
     "data": {
      "text/html": [
       "<div>\n",
       "<style scoped>\n",
       "    .dataframe tbody tr th:only-of-type {\n",
       "        vertical-align: middle;\n",
       "    }\n",
       "\n",
       "    .dataframe tbody tr th {\n",
       "        vertical-align: top;\n",
       "    }\n",
       "\n",
       "    .dataframe thead th {\n",
       "        text-align: right;\n",
       "    }\n",
       "</style>\n",
       "<table border=\"1\" class=\"dataframe\">\n",
       "  <thead>\n",
       "    <tr style=\"text-align: right;\">\n",
       "      <th></th>\n",
       "      <th>A</th>\n",
       "      <th>B</th>\n",
       "      <th>C</th>\n",
       "      <th>D</th>\n",
       "      <th>F</th>\n",
       "    </tr>\n",
       "  </thead>\n",
       "  <tbody>\n",
       "    <tr>\n",
       "      <th>2013-01-01</th>\n",
       "      <td>0.000000</td>\n",
       "      <td>0.000000</td>\n",
       "      <td>0.606874</td>\n",
       "      <td>5</td>\n",
       "      <td>NaN</td>\n",
       "    </tr>\n",
       "    <tr>\n",
       "      <th>2013-01-02</th>\n",
       "      <td>0.070036</td>\n",
       "      <td>0.574490</td>\n",
       "      <td>0.553327</td>\n",
       "      <td>5</td>\n",
       "      <td>1.0</td>\n",
       "    </tr>\n",
       "    <tr>\n",
       "      <th>2013-01-03</th>\n",
       "      <td>-0.317880</td>\n",
       "      <td>1.301240</td>\n",
       "      <td>0.096299</td>\n",
       "      <td>5</td>\n",
       "      <td>2.0</td>\n",
       "    </tr>\n",
       "    <tr>\n",
       "      <th>2013-01-04</th>\n",
       "      <td>-1.142865</td>\n",
       "      <td>0.164893</td>\n",
       "      <td>0.929743</td>\n",
       "      <td>5</td>\n",
       "      <td>3.0</td>\n",
       "    </tr>\n",
       "    <tr>\n",
       "      <th>2013-01-05</th>\n",
       "      <td>0.190870</td>\n",
       "      <td>0.014951</td>\n",
       "      <td>1.385638</td>\n",
       "      <td>5</td>\n",
       "      <td>4.0</td>\n",
       "    </tr>\n",
       "    <tr>\n",
       "      <th>2013-01-06</th>\n",
       "      <td>1.157023</td>\n",
       "      <td>-1.366114</td>\n",
       "      <td>-0.138423</td>\n",
       "      <td>5</td>\n",
       "      <td>5.0</td>\n",
       "    </tr>\n",
       "  </tbody>\n",
       "</table>\n",
       "</div>"
      ],
      "text/plain": [
       "                   A         B         C  D    F\n",
       "2013-01-01  0.000000  0.000000  0.606874  5  NaN\n",
       "2013-01-02  0.070036  0.574490  0.553327  5  1.0\n",
       "2013-01-03 -0.317880  1.301240  0.096299  5  2.0\n",
       "2013-01-04 -1.142865  0.164893  0.929743  5  3.0\n",
       "2013-01-05  0.190870  0.014951  1.385638  5  4.0\n",
       "2013-01-06  1.157023 -1.366114 -0.138423  5  5.0"
      ]
     },
     "execution_count": 56,
     "metadata": {},
     "output_type": "execute_result"
    }
   ],
   "source": [
    "df"
   ]
  },
  {
   "cell_type": "markdown",
   "metadata": {},
   "source": [
    "5.设置新的值"
   ]
  },
  {
   "cell_type": "code",
   "execution_count": 58,
   "metadata": {},
   "outputs": [],
   "source": [
    "df2 = df.copy()"
   ]
  },
  {
   "cell_type": "code",
   "execution_count": 62,
   "metadata": {},
   "outputs": [
    {
     "data": {
      "text/html": [
       "<div>\n",
       "<style scoped>\n",
       "    .dataframe tbody tr th:only-of-type {\n",
       "        vertical-align: middle;\n",
       "    }\n",
       "\n",
       "    .dataframe tbody tr th {\n",
       "        vertical-align: top;\n",
       "    }\n",
       "\n",
       "    .dataframe thead th {\n",
       "        text-align: right;\n",
       "    }\n",
       "</style>\n",
       "<table border=\"1\" class=\"dataframe\">\n",
       "  <thead>\n",
       "    <tr style=\"text-align: right;\">\n",
       "      <th></th>\n",
       "      <th>A</th>\n",
       "      <th>B</th>\n",
       "      <th>C</th>\n",
       "      <th>D</th>\n",
       "      <th>F</th>\n",
       "    </tr>\n",
       "  </thead>\n",
       "  <tbody>\n",
       "    <tr>\n",
       "      <th>2013-01-01</th>\n",
       "      <td>0.000000</td>\n",
       "      <td>0.000000</td>\n",
       "      <td>-0.606874</td>\n",
       "      <td>-5</td>\n",
       "      <td>NaN</td>\n",
       "    </tr>\n",
       "    <tr>\n",
       "      <th>2013-01-02</th>\n",
       "      <td>-0.070036</td>\n",
       "      <td>-0.574490</td>\n",
       "      <td>-0.553327</td>\n",
       "      <td>-5</td>\n",
       "      <td>-1.0</td>\n",
       "    </tr>\n",
       "    <tr>\n",
       "      <th>2013-01-03</th>\n",
       "      <td>-0.317880</td>\n",
       "      <td>-1.301240</td>\n",
       "      <td>-0.096299</td>\n",
       "      <td>-5</td>\n",
       "      <td>-2.0</td>\n",
       "    </tr>\n",
       "    <tr>\n",
       "      <th>2013-01-04</th>\n",
       "      <td>-1.142865</td>\n",
       "      <td>-0.164893</td>\n",
       "      <td>-0.929743</td>\n",
       "      <td>-5</td>\n",
       "      <td>-3.0</td>\n",
       "    </tr>\n",
       "    <tr>\n",
       "      <th>2013-01-05</th>\n",
       "      <td>-0.190870</td>\n",
       "      <td>-0.014951</td>\n",
       "      <td>-1.385638</td>\n",
       "      <td>-5</td>\n",
       "      <td>-4.0</td>\n",
       "    </tr>\n",
       "    <tr>\n",
       "      <th>2013-01-06</th>\n",
       "      <td>-1.157023</td>\n",
       "      <td>-1.366114</td>\n",
       "      <td>-0.138423</td>\n",
       "      <td>-5</td>\n",
       "      <td>-5.0</td>\n",
       "    </tr>\n",
       "  </tbody>\n",
       "</table>\n",
       "</div>"
      ],
      "text/plain": [
       "                   A         B         C  D    F\n",
       "2013-01-01  0.000000  0.000000 -0.606874 -5  NaN\n",
       "2013-01-02 -0.070036 -0.574490 -0.553327 -5 -1.0\n",
       "2013-01-03 -0.317880 -1.301240 -0.096299 -5 -2.0\n",
       "2013-01-04 -1.142865 -0.164893 -0.929743 -5 -3.0\n",
       "2013-01-05 -0.190870 -0.014951 -1.385638 -5 -4.0\n",
       "2013-01-06 -1.157023 -1.366114 -0.138423 -5 -5.0"
      ]
     },
     "execution_count": 62,
     "metadata": {},
     "output_type": "execute_result"
    }
   ],
   "source": [
    "df2"
   ]
  },
  {
   "cell_type": "code",
   "execution_count": 59,
   "metadata": {},
   "outputs": [],
   "source": [
    "df2[df2 > 0] = -df2"
   ]
  },
  {
   "cell_type": "code",
   "execution_count": 60,
   "metadata": {},
   "outputs": [
    {
     "data": {
      "text/html": [
       "<div>\n",
       "<style scoped>\n",
       "    .dataframe tbody tr th:only-of-type {\n",
       "        vertical-align: middle;\n",
       "    }\n",
       "\n",
       "    .dataframe tbody tr th {\n",
       "        vertical-align: top;\n",
       "    }\n",
       "\n",
       "    .dataframe thead th {\n",
       "        text-align: right;\n",
       "    }\n",
       "</style>\n",
       "<table border=\"1\" class=\"dataframe\">\n",
       "  <thead>\n",
       "    <tr style=\"text-align: right;\">\n",
       "      <th></th>\n",
       "      <th>A</th>\n",
       "      <th>B</th>\n",
       "      <th>C</th>\n",
       "      <th>D</th>\n",
       "      <th>F</th>\n",
       "    </tr>\n",
       "  </thead>\n",
       "  <tbody>\n",
       "    <tr>\n",
       "      <th>2013-01-01</th>\n",
       "      <td>0.000000</td>\n",
       "      <td>0.000000</td>\n",
       "      <td>-0.606874</td>\n",
       "      <td>-5</td>\n",
       "      <td>NaN</td>\n",
       "    </tr>\n",
       "    <tr>\n",
       "      <th>2013-01-02</th>\n",
       "      <td>-0.070036</td>\n",
       "      <td>-0.574490</td>\n",
       "      <td>-0.553327</td>\n",
       "      <td>-5</td>\n",
       "      <td>-1.0</td>\n",
       "    </tr>\n",
       "    <tr>\n",
       "      <th>2013-01-03</th>\n",
       "      <td>-0.317880</td>\n",
       "      <td>-1.301240</td>\n",
       "      <td>-0.096299</td>\n",
       "      <td>-5</td>\n",
       "      <td>-2.0</td>\n",
       "    </tr>\n",
       "    <tr>\n",
       "      <th>2013-01-04</th>\n",
       "      <td>-1.142865</td>\n",
       "      <td>-0.164893</td>\n",
       "      <td>-0.929743</td>\n",
       "      <td>-5</td>\n",
       "      <td>-3.0</td>\n",
       "    </tr>\n",
       "    <tr>\n",
       "      <th>2013-01-05</th>\n",
       "      <td>-0.190870</td>\n",
       "      <td>-0.014951</td>\n",
       "      <td>-1.385638</td>\n",
       "      <td>-5</td>\n",
       "      <td>-4.0</td>\n",
       "    </tr>\n",
       "    <tr>\n",
       "      <th>2013-01-06</th>\n",
       "      <td>-1.157023</td>\n",
       "      <td>-1.366114</td>\n",
       "      <td>-0.138423</td>\n",
       "      <td>-5</td>\n",
       "      <td>-5.0</td>\n",
       "    </tr>\n",
       "  </tbody>\n",
       "</table>\n",
       "</div>"
      ],
      "text/plain": [
       "                   A         B         C  D    F\n",
       "2013-01-01  0.000000  0.000000 -0.606874 -5  NaN\n",
       "2013-01-02 -0.070036 -0.574490 -0.553327 -5 -1.0\n",
       "2013-01-03 -0.317880 -1.301240 -0.096299 -5 -2.0\n",
       "2013-01-04 -1.142865 -0.164893 -0.929743 -5 -3.0\n",
       "2013-01-05 -0.190870 -0.014951 -1.385638 -5 -4.0\n",
       "2013-01-06 -1.157023 -1.366114 -0.138423 -5 -5.0"
      ]
     },
     "execution_count": 60,
     "metadata": {},
     "output_type": "execute_result"
    }
   ],
   "source": [
    "df2"
   ]
  },
  {
   "cell_type": "markdown",
   "metadata": {},
   "source": [
    "# 四、缺失值处理"
   ]
  },
  {
   "cell_type": "markdown",
   "metadata": {},
   "source": [
    "在pandas中，使用np.nan来代替缺失值，这些值将默认不会包含在计算中，详情请参阅：[Missing Data Section](http://pandas.pydata.org/pandas-docs/stable/missing_data.html#missing-data)"
   ]
  },
  {
   "cell_type": "code",
   "execution_count": 63,
   "metadata": {},
   "outputs": [
    {
     "data": {
      "text/html": [
       "<div>\n",
       "<style scoped>\n",
       "    .dataframe tbody tr th:only-of-type {\n",
       "        vertical-align: middle;\n",
       "    }\n",
       "\n",
       "    .dataframe tbody tr th {\n",
       "        vertical-align: top;\n",
       "    }\n",
       "\n",
       "    .dataframe thead th {\n",
       "        text-align: right;\n",
       "    }\n",
       "</style>\n",
       "<table border=\"1\" class=\"dataframe\">\n",
       "  <thead>\n",
       "    <tr style=\"text-align: right;\">\n",
       "      <th></th>\n",
       "      <th>A</th>\n",
       "      <th>B</th>\n",
       "      <th>C</th>\n",
       "      <th>D</th>\n",
       "      <th>F</th>\n",
       "    </tr>\n",
       "  </thead>\n",
       "  <tbody>\n",
       "    <tr>\n",
       "      <th>2013-01-01</th>\n",
       "      <td>0.000000</td>\n",
       "      <td>0.000000</td>\n",
       "      <td>0.606874</td>\n",
       "      <td>5</td>\n",
       "      <td>NaN</td>\n",
       "    </tr>\n",
       "    <tr>\n",
       "      <th>2013-01-02</th>\n",
       "      <td>0.070036</td>\n",
       "      <td>0.574490</td>\n",
       "      <td>0.553327</td>\n",
       "      <td>5</td>\n",
       "      <td>1.0</td>\n",
       "    </tr>\n",
       "    <tr>\n",
       "      <th>2013-01-03</th>\n",
       "      <td>-0.317880</td>\n",
       "      <td>1.301240</td>\n",
       "      <td>0.096299</td>\n",
       "      <td>5</td>\n",
       "      <td>2.0</td>\n",
       "    </tr>\n",
       "    <tr>\n",
       "      <th>2013-01-04</th>\n",
       "      <td>-1.142865</td>\n",
       "      <td>0.164893</td>\n",
       "      <td>0.929743</td>\n",
       "      <td>5</td>\n",
       "      <td>3.0</td>\n",
       "    </tr>\n",
       "    <tr>\n",
       "      <th>2013-01-05</th>\n",
       "      <td>0.190870</td>\n",
       "      <td>0.014951</td>\n",
       "      <td>1.385638</td>\n",
       "      <td>5</td>\n",
       "      <td>4.0</td>\n",
       "    </tr>\n",
       "    <tr>\n",
       "      <th>2013-01-06</th>\n",
       "      <td>1.157023</td>\n",
       "      <td>-1.366114</td>\n",
       "      <td>-0.138423</td>\n",
       "      <td>5</td>\n",
       "      <td>5.0</td>\n",
       "    </tr>\n",
       "  </tbody>\n",
       "</table>\n",
       "</div>"
      ],
      "text/plain": [
       "                   A         B         C  D    F\n",
       "2013-01-01  0.000000  0.000000  0.606874  5  NaN\n",
       "2013-01-02  0.070036  0.574490  0.553327  5  1.0\n",
       "2013-01-03 -0.317880  1.301240  0.096299  5  2.0\n",
       "2013-01-04 -1.142865  0.164893  0.929743  5  3.0\n",
       "2013-01-05  0.190870  0.014951  1.385638  5  4.0\n",
       "2013-01-06  1.157023 -1.366114 -0.138423  5  5.0"
      ]
     },
     "execution_count": 63,
     "metadata": {},
     "output_type": "execute_result"
    }
   ],
   "source": [
    "df"
   ]
  },
  {
   "cell_type": "markdown",
   "metadata": {},
   "source": [
    "1.reindex()方法可以对指定轴上的索引进行改变/增加/删除操作，这将返回原始数据的一个拷贝："
   ]
  },
  {
   "cell_type": "code",
   "execution_count": 64,
   "metadata": {},
   "outputs": [],
   "source": [
    "df1 = df.reindex(index=dates[0:4],columns=list(df.columns) + ['E'])"
   ]
  },
  {
   "cell_type": "code",
   "execution_count": 65,
   "metadata": {},
   "outputs": [],
   "source": [
    "df1.loc[dates[0]:dates[1], 'E'] = 1"
   ]
  },
  {
   "cell_type": "code",
   "execution_count": 66,
   "metadata": {},
   "outputs": [
    {
     "data": {
      "text/html": [
       "<div>\n",
       "<style scoped>\n",
       "    .dataframe tbody tr th:only-of-type {\n",
       "        vertical-align: middle;\n",
       "    }\n",
       "\n",
       "    .dataframe tbody tr th {\n",
       "        vertical-align: top;\n",
       "    }\n",
       "\n",
       "    .dataframe thead th {\n",
       "        text-align: right;\n",
       "    }\n",
       "</style>\n",
       "<table border=\"1\" class=\"dataframe\">\n",
       "  <thead>\n",
       "    <tr style=\"text-align: right;\">\n",
       "      <th></th>\n",
       "      <th>A</th>\n",
       "      <th>B</th>\n",
       "      <th>C</th>\n",
       "      <th>D</th>\n",
       "      <th>F</th>\n",
       "      <th>E</th>\n",
       "    </tr>\n",
       "  </thead>\n",
       "  <tbody>\n",
       "    <tr>\n",
       "      <th>2013-01-01</th>\n",
       "      <td>0.000000</td>\n",
       "      <td>0.000000</td>\n",
       "      <td>0.606874</td>\n",
       "      <td>5</td>\n",
       "      <td>NaN</td>\n",
       "      <td>1.0</td>\n",
       "    </tr>\n",
       "    <tr>\n",
       "      <th>2013-01-02</th>\n",
       "      <td>0.070036</td>\n",
       "      <td>0.574490</td>\n",
       "      <td>0.553327</td>\n",
       "      <td>5</td>\n",
       "      <td>1.0</td>\n",
       "      <td>1.0</td>\n",
       "    </tr>\n",
       "    <tr>\n",
       "      <th>2013-01-03</th>\n",
       "      <td>-0.317880</td>\n",
       "      <td>1.301240</td>\n",
       "      <td>0.096299</td>\n",
       "      <td>5</td>\n",
       "      <td>2.0</td>\n",
       "      <td>NaN</td>\n",
       "    </tr>\n",
       "    <tr>\n",
       "      <th>2013-01-04</th>\n",
       "      <td>-1.142865</td>\n",
       "      <td>0.164893</td>\n",
       "      <td>0.929743</td>\n",
       "      <td>5</td>\n",
       "      <td>3.0</td>\n",
       "      <td>NaN</td>\n",
       "    </tr>\n",
       "  </tbody>\n",
       "</table>\n",
       "</div>"
      ],
      "text/plain": [
       "                   A         B         C  D    F    E\n",
       "2013-01-01  0.000000  0.000000  0.606874  5  NaN  1.0\n",
       "2013-01-02  0.070036  0.574490  0.553327  5  1.0  1.0\n",
       "2013-01-03 -0.317880  1.301240  0.096299  5  2.0  NaN\n",
       "2013-01-04 -1.142865  0.164893  0.929743  5  3.0  NaN"
      ]
     },
     "execution_count": 66,
     "metadata": {},
     "output_type": "execute_result"
    }
   ],
   "source": [
    "df1"
   ]
  },
  {
   "cell_type": "markdown",
   "metadata": {},
   "source": [
    "2.去掉包含缺失值的行："
   ]
  },
  {
   "cell_type": "code",
   "execution_count": 67,
   "metadata": {},
   "outputs": [
    {
     "data": {
      "text/html": [
       "<div>\n",
       "<style scoped>\n",
       "    .dataframe tbody tr th:only-of-type {\n",
       "        vertical-align: middle;\n",
       "    }\n",
       "\n",
       "    .dataframe tbody tr th {\n",
       "        vertical-align: top;\n",
       "    }\n",
       "\n",
       "    .dataframe thead th {\n",
       "        text-align: right;\n",
       "    }\n",
       "</style>\n",
       "<table border=\"1\" class=\"dataframe\">\n",
       "  <thead>\n",
       "    <tr style=\"text-align: right;\">\n",
       "      <th></th>\n",
       "      <th>A</th>\n",
       "      <th>B</th>\n",
       "      <th>C</th>\n",
       "      <th>D</th>\n",
       "      <th>F</th>\n",
       "      <th>E</th>\n",
       "    </tr>\n",
       "  </thead>\n",
       "  <tbody>\n",
       "    <tr>\n",
       "      <th>2013-01-02</th>\n",
       "      <td>0.070036</td>\n",
       "      <td>0.57449</td>\n",
       "      <td>0.553327</td>\n",
       "      <td>5</td>\n",
       "      <td>1.0</td>\n",
       "      <td>1.0</td>\n",
       "    </tr>\n",
       "  </tbody>\n",
       "</table>\n",
       "</div>"
      ],
      "text/plain": [
       "                   A        B         C  D    F    E\n",
       "2013-01-02  0.070036  0.57449  0.553327  5  1.0  1.0"
      ]
     },
     "execution_count": 67,
     "metadata": {},
     "output_type": "execute_result"
    }
   ],
   "source": [
    "df1.dropna(how='any')"
   ]
  },
  {
   "cell_type": "markdown",
   "metadata": {},
   "source": [
    "3.对缺失值进行填充："
   ]
  },
  {
   "cell_type": "code",
   "execution_count": 68,
   "metadata": {},
   "outputs": [
    {
     "data": {
      "text/html": [
       "<div>\n",
       "<style scoped>\n",
       "    .dataframe tbody tr th:only-of-type {\n",
       "        vertical-align: middle;\n",
       "    }\n",
       "\n",
       "    .dataframe tbody tr th {\n",
       "        vertical-align: top;\n",
       "    }\n",
       "\n",
       "    .dataframe thead th {\n",
       "        text-align: right;\n",
       "    }\n",
       "</style>\n",
       "<table border=\"1\" class=\"dataframe\">\n",
       "  <thead>\n",
       "    <tr style=\"text-align: right;\">\n",
       "      <th></th>\n",
       "      <th>A</th>\n",
       "      <th>B</th>\n",
       "      <th>C</th>\n",
       "      <th>D</th>\n",
       "      <th>F</th>\n",
       "      <th>E</th>\n",
       "    </tr>\n",
       "  </thead>\n",
       "  <tbody>\n",
       "    <tr>\n",
       "      <th>2013-01-01</th>\n",
       "      <td>0.000000</td>\n",
       "      <td>0.000000</td>\n",
       "      <td>0.606874</td>\n",
       "      <td>5</td>\n",
       "      <td>5.0</td>\n",
       "      <td>1.0</td>\n",
       "    </tr>\n",
       "    <tr>\n",
       "      <th>2013-01-02</th>\n",
       "      <td>0.070036</td>\n",
       "      <td>0.574490</td>\n",
       "      <td>0.553327</td>\n",
       "      <td>5</td>\n",
       "      <td>1.0</td>\n",
       "      <td>1.0</td>\n",
       "    </tr>\n",
       "    <tr>\n",
       "      <th>2013-01-03</th>\n",
       "      <td>-0.317880</td>\n",
       "      <td>1.301240</td>\n",
       "      <td>0.096299</td>\n",
       "      <td>5</td>\n",
       "      <td>2.0</td>\n",
       "      <td>5.0</td>\n",
       "    </tr>\n",
       "    <tr>\n",
       "      <th>2013-01-04</th>\n",
       "      <td>-1.142865</td>\n",
       "      <td>0.164893</td>\n",
       "      <td>0.929743</td>\n",
       "      <td>5</td>\n",
       "      <td>3.0</td>\n",
       "      <td>5.0</td>\n",
       "    </tr>\n",
       "  </tbody>\n",
       "</table>\n",
       "</div>"
      ],
      "text/plain": [
       "                   A         B         C  D    F    E\n",
       "2013-01-01  0.000000  0.000000  0.606874  5  5.0  1.0\n",
       "2013-01-02  0.070036  0.574490  0.553327  5  1.0  1.0\n",
       "2013-01-03 -0.317880  1.301240  0.096299  5  2.0  5.0\n",
       "2013-01-04 -1.142865  0.164893  0.929743  5  3.0  5.0"
      ]
     },
     "execution_count": 68,
     "metadata": {},
     "output_type": "execute_result"
    }
   ],
   "source": [
    "df1.fillna(value=5)"
   ]
  },
  {
   "cell_type": "markdown",
   "metadata": {},
   "source": [
    "4.对数据进行布尔填充："
   ]
  },
  {
   "cell_type": "code",
   "execution_count": 69,
   "metadata": {},
   "outputs": [
    {
     "data": {
      "text/html": [
       "<div>\n",
       "<style scoped>\n",
       "    .dataframe tbody tr th:only-of-type {\n",
       "        vertical-align: middle;\n",
       "    }\n",
       "\n",
       "    .dataframe tbody tr th {\n",
       "        vertical-align: top;\n",
       "    }\n",
       "\n",
       "    .dataframe thead th {\n",
       "        text-align: right;\n",
       "    }\n",
       "</style>\n",
       "<table border=\"1\" class=\"dataframe\">\n",
       "  <thead>\n",
       "    <tr style=\"text-align: right;\">\n",
       "      <th></th>\n",
       "      <th>A</th>\n",
       "      <th>B</th>\n",
       "      <th>C</th>\n",
       "      <th>D</th>\n",
       "      <th>F</th>\n",
       "      <th>E</th>\n",
       "    </tr>\n",
       "  </thead>\n",
       "  <tbody>\n",
       "    <tr>\n",
       "      <th>2013-01-01</th>\n",
       "      <td>False</td>\n",
       "      <td>False</td>\n",
       "      <td>False</td>\n",
       "      <td>False</td>\n",
       "      <td>True</td>\n",
       "      <td>False</td>\n",
       "    </tr>\n",
       "    <tr>\n",
       "      <th>2013-01-02</th>\n",
       "      <td>False</td>\n",
       "      <td>False</td>\n",
       "      <td>False</td>\n",
       "      <td>False</td>\n",
       "      <td>False</td>\n",
       "      <td>False</td>\n",
       "    </tr>\n",
       "    <tr>\n",
       "      <th>2013-01-03</th>\n",
       "      <td>False</td>\n",
       "      <td>False</td>\n",
       "      <td>False</td>\n",
       "      <td>False</td>\n",
       "      <td>False</td>\n",
       "      <td>True</td>\n",
       "    </tr>\n",
       "    <tr>\n",
       "      <th>2013-01-04</th>\n",
       "      <td>False</td>\n",
       "      <td>False</td>\n",
       "      <td>False</td>\n",
       "      <td>False</td>\n",
       "      <td>False</td>\n",
       "      <td>True</td>\n",
       "    </tr>\n",
       "  </tbody>\n",
       "</table>\n",
       "</div>"
      ],
      "text/plain": [
       "                A      B      C      D      F      E\n",
       "2013-01-01  False  False  False  False   True  False\n",
       "2013-01-02  False  False  False  False  False  False\n",
       "2013-01-03  False  False  False  False  False   True\n",
       "2013-01-04  False  False  False  False  False   True"
      ]
     },
     "execution_count": 69,
     "metadata": {},
     "output_type": "execute_result"
    }
   ],
   "source": [
    "pd.isnull(df1)"
   ]
  },
  {
   "cell_type": "markdown",
   "metadata": {},
   "source": [
    "# 五、相关操作"
   ]
  },
  {
   "cell_type": "markdown",
   "metadata": {},
   "source": [
    "详情请参与[Basic Section On Binary Ops](http://pandas.pydata.org/pandas-docs/stable/basics.html#basics-binop)"
   ]
  },
  {
   "cell_type": "markdown",
   "metadata": {},
   "source": [
    "### 统计（相关操作通常情况下不包括缺失值）"
   ]
  },
  {
   "cell_type": "code",
   "execution_count": 70,
   "metadata": {},
   "outputs": [
    {
     "data": {
      "text/html": [
       "<div>\n",
       "<style scoped>\n",
       "    .dataframe tbody tr th:only-of-type {\n",
       "        vertical-align: middle;\n",
       "    }\n",
       "\n",
       "    .dataframe tbody tr th {\n",
       "        vertical-align: top;\n",
       "    }\n",
       "\n",
       "    .dataframe thead th {\n",
       "        text-align: right;\n",
       "    }\n",
       "</style>\n",
       "<table border=\"1\" class=\"dataframe\">\n",
       "  <thead>\n",
       "    <tr style=\"text-align: right;\">\n",
       "      <th></th>\n",
       "      <th>A</th>\n",
       "      <th>B</th>\n",
       "      <th>C</th>\n",
       "      <th>D</th>\n",
       "      <th>F</th>\n",
       "    </tr>\n",
       "  </thead>\n",
       "  <tbody>\n",
       "    <tr>\n",
       "      <th>2013-01-01</th>\n",
       "      <td>0.000000</td>\n",
       "      <td>0.000000</td>\n",
       "      <td>0.606874</td>\n",
       "      <td>5</td>\n",
       "      <td>NaN</td>\n",
       "    </tr>\n",
       "    <tr>\n",
       "      <th>2013-01-02</th>\n",
       "      <td>0.070036</td>\n",
       "      <td>0.574490</td>\n",
       "      <td>0.553327</td>\n",
       "      <td>5</td>\n",
       "      <td>1.0</td>\n",
       "    </tr>\n",
       "    <tr>\n",
       "      <th>2013-01-03</th>\n",
       "      <td>-0.317880</td>\n",
       "      <td>1.301240</td>\n",
       "      <td>0.096299</td>\n",
       "      <td>5</td>\n",
       "      <td>2.0</td>\n",
       "    </tr>\n",
       "    <tr>\n",
       "      <th>2013-01-04</th>\n",
       "      <td>-1.142865</td>\n",
       "      <td>0.164893</td>\n",
       "      <td>0.929743</td>\n",
       "      <td>5</td>\n",
       "      <td>3.0</td>\n",
       "    </tr>\n",
       "    <tr>\n",
       "      <th>2013-01-05</th>\n",
       "      <td>0.190870</td>\n",
       "      <td>0.014951</td>\n",
       "      <td>1.385638</td>\n",
       "      <td>5</td>\n",
       "      <td>4.0</td>\n",
       "    </tr>\n",
       "    <tr>\n",
       "      <th>2013-01-06</th>\n",
       "      <td>1.157023</td>\n",
       "      <td>-1.366114</td>\n",
       "      <td>-0.138423</td>\n",
       "      <td>5</td>\n",
       "      <td>5.0</td>\n",
       "    </tr>\n",
       "  </tbody>\n",
       "</table>\n",
       "</div>"
      ],
      "text/plain": [
       "                   A         B         C  D    F\n",
       "2013-01-01  0.000000  0.000000  0.606874  5  NaN\n",
       "2013-01-02  0.070036  0.574490  0.553327  5  1.0\n",
       "2013-01-03 -0.317880  1.301240  0.096299  5  2.0\n",
       "2013-01-04 -1.142865  0.164893  0.929743  5  3.0\n",
       "2013-01-05  0.190870  0.014951  1.385638  5  4.0\n",
       "2013-01-06  1.157023 -1.366114 -0.138423  5  5.0"
      ]
     },
     "execution_count": 70,
     "metadata": {},
     "output_type": "execute_result"
    }
   ],
   "source": [
    "df"
   ]
  },
  {
   "cell_type": "markdown",
   "metadata": {},
   "source": [
    "1.执行描述性统计："
   ]
  },
  {
   "cell_type": "code",
   "execution_count": 71,
   "metadata": {},
   "outputs": [
    {
     "data": {
      "text/plain": [
       "A   -0.007136\n",
       "B    0.114910\n",
       "C    0.572243\n",
       "D    5.000000\n",
       "F    3.000000\n",
       "dtype: float64"
      ]
     },
     "execution_count": 71,
     "metadata": {},
     "output_type": "execute_result"
    }
   ],
   "source": [
    "df.mean()"
   ]
  },
  {
   "cell_type": "markdown",
   "metadata": {},
   "source": [
    "2.在其他轴上进行相同的操作："
   ]
  },
  {
   "cell_type": "code",
   "execution_count": 72,
   "metadata": {},
   "outputs": [
    {
     "data": {
      "text/plain": [
       "2013-01-01    1.401718\n",
       "2013-01-02    1.439571\n",
       "2013-01-03    1.615932\n",
       "2013-01-04    1.590354\n",
       "2013-01-05    2.118292\n",
       "2013-01-06    1.930497\n",
       "Freq: D, dtype: float64"
      ]
     },
     "execution_count": 72,
     "metadata": {},
     "output_type": "execute_result"
    }
   ],
   "source": [
    "df.mean(1)"
   ]
  },
  {
   "cell_type": "markdown",
   "metadata": {},
   "source": [
    "3.对于拥有不同维度，需要对齐的对象进行操作，pandas会自动的沿着指定的维度进行广播"
   ]
  },
  {
   "cell_type": "code",
   "execution_count": 73,
   "metadata": {},
   "outputs": [
    {
     "data": {
      "text/plain": [
       "DatetimeIndex(['2013-01-01', '2013-01-02', '2013-01-03', '2013-01-04',\n",
       "               '2013-01-05', '2013-01-06'],\n",
       "              dtype='datetime64[ns]', freq='D')"
      ]
     },
     "execution_count": 73,
     "metadata": {},
     "output_type": "execute_result"
    }
   ],
   "source": [
    "dates"
   ]
  },
  {
   "cell_type": "code",
   "execution_count": 74,
   "metadata": {},
   "outputs": [],
   "source": [
    "s = pd.Series([1,3,4,np.nan,6,8], index=dates).shift(2)"
   ]
  },
  {
   "cell_type": "code",
   "execution_count": 75,
   "metadata": {},
   "outputs": [
    {
     "data": {
      "text/plain": [
       "2013-01-01    NaN\n",
       "2013-01-02    NaN\n",
       "2013-01-03    1.0\n",
       "2013-01-04    3.0\n",
       "2013-01-05    4.0\n",
       "2013-01-06    NaN\n",
       "Freq: D, dtype: float64"
      ]
     },
     "execution_count": 75,
     "metadata": {},
     "output_type": "execute_result"
    }
   ],
   "source": [
    "s"
   ]
  },
  {
   "cell_type": "markdown",
   "metadata": {},
   "source": [
    "### Apply"
   ]
  },
  {
   "cell_type": "markdown",
   "metadata": {},
   "source": [
    "1.对数据应用函数："
   ]
  },
  {
   "cell_type": "code",
   "execution_count": 78,
   "metadata": {},
   "outputs": [
    {
     "data": {
      "text/html": [
       "<div>\n",
       "<style scoped>\n",
       "    .dataframe tbody tr th:only-of-type {\n",
       "        vertical-align: middle;\n",
       "    }\n",
       "\n",
       "    .dataframe tbody tr th {\n",
       "        vertical-align: top;\n",
       "    }\n",
       "\n",
       "    .dataframe thead th {\n",
       "        text-align: right;\n",
       "    }\n",
       "</style>\n",
       "<table border=\"1\" class=\"dataframe\">\n",
       "  <thead>\n",
       "    <tr style=\"text-align: right;\">\n",
       "      <th></th>\n",
       "      <th>A</th>\n",
       "      <th>B</th>\n",
       "      <th>C</th>\n",
       "      <th>D</th>\n",
       "      <th>F</th>\n",
       "    </tr>\n",
       "  </thead>\n",
       "  <tbody>\n",
       "    <tr>\n",
       "      <th>2013-01-01</th>\n",
       "      <td>0.000000</td>\n",
       "      <td>0.000000</td>\n",
       "      <td>0.606874</td>\n",
       "      <td>5</td>\n",
       "      <td>NaN</td>\n",
       "    </tr>\n",
       "    <tr>\n",
       "      <th>2013-01-02</th>\n",
       "      <td>0.070036</td>\n",
       "      <td>0.574490</td>\n",
       "      <td>0.553327</td>\n",
       "      <td>5</td>\n",
       "      <td>1.0</td>\n",
       "    </tr>\n",
       "    <tr>\n",
       "      <th>2013-01-03</th>\n",
       "      <td>-0.317880</td>\n",
       "      <td>1.301240</td>\n",
       "      <td>0.096299</td>\n",
       "      <td>5</td>\n",
       "      <td>2.0</td>\n",
       "    </tr>\n",
       "    <tr>\n",
       "      <th>2013-01-04</th>\n",
       "      <td>-1.142865</td>\n",
       "      <td>0.164893</td>\n",
       "      <td>0.929743</td>\n",
       "      <td>5</td>\n",
       "      <td>3.0</td>\n",
       "    </tr>\n",
       "    <tr>\n",
       "      <th>2013-01-05</th>\n",
       "      <td>0.190870</td>\n",
       "      <td>0.014951</td>\n",
       "      <td>1.385638</td>\n",
       "      <td>5</td>\n",
       "      <td>4.0</td>\n",
       "    </tr>\n",
       "    <tr>\n",
       "      <th>2013-01-06</th>\n",
       "      <td>1.157023</td>\n",
       "      <td>-1.366114</td>\n",
       "      <td>-0.138423</td>\n",
       "      <td>5</td>\n",
       "      <td>5.0</td>\n",
       "    </tr>\n",
       "  </tbody>\n",
       "</table>\n",
       "</div>"
      ],
      "text/plain": [
       "                   A         B         C  D    F\n",
       "2013-01-01  0.000000  0.000000  0.606874  5  NaN\n",
       "2013-01-02  0.070036  0.574490  0.553327  5  1.0\n",
       "2013-01-03 -0.317880  1.301240  0.096299  5  2.0\n",
       "2013-01-04 -1.142865  0.164893  0.929743  5  3.0\n",
       "2013-01-05  0.190870  0.014951  1.385638  5  4.0\n",
       "2013-01-06  1.157023 -1.366114 -0.138423  5  5.0"
      ]
     },
     "execution_count": 78,
     "metadata": {},
     "output_type": "execute_result"
    }
   ],
   "source": [
    "df"
   ]
  },
  {
   "cell_type": "code",
   "execution_count": 79,
   "metadata": {},
   "outputs": [
    {
     "data": {
      "text/html": [
       "<div>\n",
       "<style scoped>\n",
       "    .dataframe tbody tr th:only-of-type {\n",
       "        vertical-align: middle;\n",
       "    }\n",
       "\n",
       "    .dataframe tbody tr th {\n",
       "        vertical-align: top;\n",
       "    }\n",
       "\n",
       "    .dataframe thead th {\n",
       "        text-align: right;\n",
       "    }\n",
       "</style>\n",
       "<table border=\"1\" class=\"dataframe\">\n",
       "  <thead>\n",
       "    <tr style=\"text-align: right;\">\n",
       "      <th></th>\n",
       "      <th>A</th>\n",
       "      <th>B</th>\n",
       "      <th>C</th>\n",
       "      <th>D</th>\n",
       "      <th>F</th>\n",
       "    </tr>\n",
       "  </thead>\n",
       "  <tbody>\n",
       "    <tr>\n",
       "      <th>2013-01-01</th>\n",
       "      <td>0.000000</td>\n",
       "      <td>0.000000</td>\n",
       "      <td>0.606874</td>\n",
       "      <td>5</td>\n",
       "      <td>NaN</td>\n",
       "    </tr>\n",
       "    <tr>\n",
       "      <th>2013-01-02</th>\n",
       "      <td>0.070036</td>\n",
       "      <td>0.574490</td>\n",
       "      <td>1.160201</td>\n",
       "      <td>10</td>\n",
       "      <td>1.0</td>\n",
       "    </tr>\n",
       "    <tr>\n",
       "      <th>2013-01-03</th>\n",
       "      <td>-0.247844</td>\n",
       "      <td>1.875730</td>\n",
       "      <td>1.256500</td>\n",
       "      <td>15</td>\n",
       "      <td>3.0</td>\n",
       "    </tr>\n",
       "    <tr>\n",
       "      <th>2013-01-04</th>\n",
       "      <td>-1.390709</td>\n",
       "      <td>2.040623</td>\n",
       "      <td>2.186243</td>\n",
       "      <td>20</td>\n",
       "      <td>6.0</td>\n",
       "    </tr>\n",
       "    <tr>\n",
       "      <th>2013-01-05</th>\n",
       "      <td>-1.199839</td>\n",
       "      <td>2.055573</td>\n",
       "      <td>3.571881</td>\n",
       "      <td>25</td>\n",
       "      <td>10.0</td>\n",
       "    </tr>\n",
       "    <tr>\n",
       "      <th>2013-01-06</th>\n",
       "      <td>-0.042815</td>\n",
       "      <td>0.689459</td>\n",
       "      <td>3.433458</td>\n",
       "      <td>30</td>\n",
       "      <td>15.0</td>\n",
       "    </tr>\n",
       "  </tbody>\n",
       "</table>\n",
       "</div>"
      ],
      "text/plain": [
       "                   A         B         C   D     F\n",
       "2013-01-01  0.000000  0.000000  0.606874   5   NaN\n",
       "2013-01-02  0.070036  0.574490  1.160201  10   1.0\n",
       "2013-01-03 -0.247844  1.875730  1.256500  15   3.0\n",
       "2013-01-04 -1.390709  2.040623  2.186243  20   6.0\n",
       "2013-01-05 -1.199839  2.055573  3.571881  25  10.0\n",
       "2013-01-06 -0.042815  0.689459  3.433458  30  15.0"
      ]
     },
     "execution_count": 79,
     "metadata": {},
     "output_type": "execute_result"
    }
   ],
   "source": [
    "df.apply(np.cumsum)"
   ]
  },
  {
   "cell_type": "code",
   "execution_count": 80,
   "metadata": {},
   "outputs": [
    {
     "data": {
      "text/plain": [
       "A    2.299888\n",
       "B    2.667354\n",
       "C    1.524062\n",
       "D    0.000000\n",
       "F    4.000000\n",
       "dtype: float64"
      ]
     },
     "execution_count": 80,
     "metadata": {},
     "output_type": "execute_result"
    }
   ],
   "source": [
    "df.apply(lambda x: x.max() - x.min())"
   ]
  },
  {
   "cell_type": "markdown",
   "metadata": {},
   "source": [
    "### 频数统计"
   ]
  },
  {
   "cell_type": "markdown",
   "metadata": {},
   "source": [
    "具体请参照: [Histogramming and Discretization](http://pandas.pydata.org/pandas-docs/stable/basics.html#basics-discretization)"
   ]
  },
  {
   "cell_type": "code",
   "execution_count": 81,
   "metadata": {},
   "outputs": [],
   "source": [
    "s = pd.Series(np.random.randint(0, 7, size=10))"
   ]
  },
  {
   "cell_type": "code",
   "execution_count": 82,
   "metadata": {},
   "outputs": [
    {
     "data": {
      "text/plain": [
       "0    0\n",
       "1    0\n",
       "2    6\n",
       "3    5\n",
       "4    2\n",
       "5    3\n",
       "6    2\n",
       "7    6\n",
       "8    2\n",
       "9    2\n",
       "dtype: int32"
      ]
     },
     "execution_count": 82,
     "metadata": {},
     "output_type": "execute_result"
    }
   ],
   "source": [
    "s"
   ]
  },
  {
   "cell_type": "code",
   "execution_count": 83,
   "metadata": {},
   "outputs": [
    {
     "data": {
      "text/plain": [
       "2    4\n",
       "6    2\n",
       "0    2\n",
       "5    1\n",
       "3    1\n",
       "dtype: int64"
      ]
     },
     "execution_count": 83,
     "metadata": {},
     "output_type": "execute_result"
    }
   ],
   "source": [
    "s.value_counts()"
   ]
  },
  {
   "cell_type": "markdown",
   "metadata": {},
   "source": [
    "### 字符串方法"
   ]
  },
  {
   "cell_type": "markdown",
   "metadata": {},
   "source": [
    "Series对象在其str属性中配备了一组字符串处理方法，可以很容易的应用到数组中的每个元素，如下段代码所示。\n",
    "更多详情请参考：[Vectorized String Methods](http://pandas.pydata.org/pandas-docs/stable/text.html#text-string-methods)"
   ]
  },
  {
   "cell_type": "code",
   "execution_count": 84,
   "metadata": {},
   "outputs": [],
   "source": [
    "s = pd.Series(['A', 'B', 'C', 'Aaba', 'Baca', np.nan, 'CABA', 'dog', 'cat'])"
   ]
  },
  {
   "cell_type": "code",
   "execution_count": 85,
   "metadata": {},
   "outputs": [
    {
     "data": {
      "text/plain": [
       "0       a\n",
       "1       b\n",
       "2       c\n",
       "3    aaba\n",
       "4    baca\n",
       "5     NaN\n",
       "6    caba\n",
       "7     dog\n",
       "8     cat\n",
       "dtype: object"
      ]
     },
     "execution_count": 85,
     "metadata": {},
     "output_type": "execute_result"
    }
   ],
   "source": [
    "s.str.lower()"
   ]
  },
  {
   "cell_type": "markdown",
   "metadata": {},
   "source": [
    "# 六、合并"
   ]
  },
  {
   "cell_type": "markdown",
   "metadata": {},
   "source": [
    "pandas提供了大量的方法能够轻松的对Series、DataFrame和Panel对象进行各种符合各种逻辑关系的合并操作。具体请参阅：[Merging Section](http://pandas.pydata.org/pandas-docs/stable/merging.html#merging)"
   ]
  },
  {
   "cell_type": "markdown",
   "metadata": {},
   "source": [
    "### Concat"
   ]
  },
  {
   "cell_type": "code",
   "execution_count": 86,
   "metadata": {},
   "outputs": [],
   "source": [
    "df = pd.DataFrame(np.random.randn(10, 4))"
   ]
  },
  {
   "cell_type": "code",
   "execution_count": 87,
   "metadata": {},
   "outputs": [
    {
     "data": {
      "text/html": [
       "<div>\n",
       "<style scoped>\n",
       "    .dataframe tbody tr th:only-of-type {\n",
       "        vertical-align: middle;\n",
       "    }\n",
       "\n",
       "    .dataframe tbody tr th {\n",
       "        vertical-align: top;\n",
       "    }\n",
       "\n",
       "    .dataframe thead th {\n",
       "        text-align: right;\n",
       "    }\n",
       "</style>\n",
       "<table border=\"1\" class=\"dataframe\">\n",
       "  <thead>\n",
       "    <tr style=\"text-align: right;\">\n",
       "      <th></th>\n",
       "      <th>0</th>\n",
       "      <th>1</th>\n",
       "      <th>2</th>\n",
       "      <th>3</th>\n",
       "    </tr>\n",
       "  </thead>\n",
       "  <tbody>\n",
       "    <tr>\n",
       "      <th>0</th>\n",
       "      <td>-0.185631</td>\n",
       "      <td>0.290835</td>\n",
       "      <td>-0.457782</td>\n",
       "      <td>0.467207</td>\n",
       "    </tr>\n",
       "    <tr>\n",
       "      <th>1</th>\n",
       "      <td>1.415523</td>\n",
       "      <td>1.694694</td>\n",
       "      <td>-1.306985</td>\n",
       "      <td>1.049414</td>\n",
       "    </tr>\n",
       "    <tr>\n",
       "      <th>2</th>\n",
       "      <td>0.109817</td>\n",
       "      <td>-0.495336</td>\n",
       "      <td>-0.409282</td>\n",
       "      <td>-0.203610</td>\n",
       "    </tr>\n",
       "    <tr>\n",
       "      <th>3</th>\n",
       "      <td>0.397764</td>\n",
       "      <td>-0.574468</td>\n",
       "      <td>0.329085</td>\n",
       "      <td>-1.452041</td>\n",
       "    </tr>\n",
       "    <tr>\n",
       "      <th>4</th>\n",
       "      <td>-0.987020</td>\n",
       "      <td>-0.835218</td>\n",
       "      <td>-0.563764</td>\n",
       "      <td>1.291368</td>\n",
       "    </tr>\n",
       "    <tr>\n",
       "      <th>5</th>\n",
       "      <td>0.197714</td>\n",
       "      <td>-0.860849</td>\n",
       "      <td>-1.115435</td>\n",
       "      <td>-0.716618</td>\n",
       "    </tr>\n",
       "    <tr>\n",
       "      <th>6</th>\n",
       "      <td>0.405207</td>\n",
       "      <td>-0.630097</td>\n",
       "      <td>-1.492251</td>\n",
       "      <td>0.933828</td>\n",
       "    </tr>\n",
       "    <tr>\n",
       "      <th>7</th>\n",
       "      <td>0.078883</td>\n",
       "      <td>1.896740</td>\n",
       "      <td>-0.750019</td>\n",
       "      <td>-0.211459</td>\n",
       "    </tr>\n",
       "    <tr>\n",
       "      <th>8</th>\n",
       "      <td>0.024058</td>\n",
       "      <td>-2.159775</td>\n",
       "      <td>0.795340</td>\n",
       "      <td>-0.068052</td>\n",
       "    </tr>\n",
       "    <tr>\n",
       "      <th>9</th>\n",
       "      <td>0.386329</td>\n",
       "      <td>1.637350</td>\n",
       "      <td>1.359194</td>\n",
       "      <td>0.284931</td>\n",
       "    </tr>\n",
       "  </tbody>\n",
       "</table>\n",
       "</div>"
      ],
      "text/plain": [
       "          0         1         2         3\n",
       "0 -0.185631  0.290835 -0.457782  0.467207\n",
       "1  1.415523  1.694694 -1.306985  1.049414\n",
       "2  0.109817 -0.495336 -0.409282 -0.203610\n",
       "3  0.397764 -0.574468  0.329085 -1.452041\n",
       "4 -0.987020 -0.835218 -0.563764  1.291368\n",
       "5  0.197714 -0.860849 -1.115435 -0.716618\n",
       "6  0.405207 -0.630097 -1.492251  0.933828\n",
       "7  0.078883  1.896740 -0.750019 -0.211459\n",
       "8  0.024058 -2.159775  0.795340 -0.068052\n",
       "9  0.386329  1.637350  1.359194  0.284931"
      ]
     },
     "execution_count": 87,
     "metadata": {},
     "output_type": "execute_result"
    }
   ],
   "source": [
    "df"
   ]
  },
  {
   "cell_type": "code",
   "execution_count": 88,
   "metadata": {},
   "outputs": [],
   "source": [
    "pieces = [df[:3], df[3:7], df[7:]]"
   ]
  },
  {
   "cell_type": "code",
   "execution_count": 89,
   "metadata": {},
   "outputs": [
    {
     "data": {
      "text/plain": [
       "[          0         1         2         3\n",
       " 0 -0.185631  0.290835 -0.457782  0.467207\n",
       " 1  1.415523  1.694694 -1.306985  1.049414\n",
       " 2  0.109817 -0.495336 -0.409282 -0.203610,\n",
       "           0         1         2         3\n",
       " 3  0.397764 -0.574468  0.329085 -1.452041\n",
       " 4 -0.987020 -0.835218 -0.563764  1.291368\n",
       " 5  0.197714 -0.860849 -1.115435 -0.716618\n",
       " 6  0.405207 -0.630097 -1.492251  0.933828,\n",
       "           0         1         2         3\n",
       " 7  0.078883  1.896740 -0.750019 -0.211459\n",
       " 8  0.024058 -2.159775  0.795340 -0.068052\n",
       " 9  0.386329  1.637350  1.359194  0.284931]"
      ]
     },
     "execution_count": 89,
     "metadata": {},
     "output_type": "execute_result"
    }
   ],
   "source": [
    "# break it into pieces\n",
    "pieces"
   ]
  },
  {
   "cell_type": "code",
   "execution_count": 90,
   "metadata": {},
   "outputs": [
    {
     "data": {
      "text/plain": [
       "list"
      ]
     },
     "execution_count": 90,
     "metadata": {},
     "output_type": "execute_result"
    }
   ],
   "source": [
    "type(pieces)"
   ]
  },
  {
   "cell_type": "code",
   "execution_count": 91,
   "metadata": {},
   "outputs": [
    {
     "data": {
      "text/html": [
       "<div>\n",
       "<style scoped>\n",
       "    .dataframe tbody tr th:only-of-type {\n",
       "        vertical-align: middle;\n",
       "    }\n",
       "\n",
       "    .dataframe tbody tr th {\n",
       "        vertical-align: top;\n",
       "    }\n",
       "\n",
       "    .dataframe thead th {\n",
       "        text-align: right;\n",
       "    }\n",
       "</style>\n",
       "<table border=\"1\" class=\"dataframe\">\n",
       "  <thead>\n",
       "    <tr style=\"text-align: right;\">\n",
       "      <th></th>\n",
       "      <th>0</th>\n",
       "      <th>1</th>\n",
       "      <th>2</th>\n",
       "      <th>3</th>\n",
       "    </tr>\n",
       "  </thead>\n",
       "  <tbody>\n",
       "    <tr>\n",
       "      <th>0</th>\n",
       "      <td>-0.185631</td>\n",
       "      <td>0.290835</td>\n",
       "      <td>-0.457782</td>\n",
       "      <td>0.467207</td>\n",
       "    </tr>\n",
       "    <tr>\n",
       "      <th>1</th>\n",
       "      <td>1.415523</td>\n",
       "      <td>1.694694</td>\n",
       "      <td>-1.306985</td>\n",
       "      <td>1.049414</td>\n",
       "    </tr>\n",
       "    <tr>\n",
       "      <th>2</th>\n",
       "      <td>0.109817</td>\n",
       "      <td>-0.495336</td>\n",
       "      <td>-0.409282</td>\n",
       "      <td>-0.203610</td>\n",
       "    </tr>\n",
       "    <tr>\n",
       "      <th>3</th>\n",
       "      <td>0.397764</td>\n",
       "      <td>-0.574468</td>\n",
       "      <td>0.329085</td>\n",
       "      <td>-1.452041</td>\n",
       "    </tr>\n",
       "    <tr>\n",
       "      <th>4</th>\n",
       "      <td>-0.987020</td>\n",
       "      <td>-0.835218</td>\n",
       "      <td>-0.563764</td>\n",
       "      <td>1.291368</td>\n",
       "    </tr>\n",
       "    <tr>\n",
       "      <th>5</th>\n",
       "      <td>0.197714</td>\n",
       "      <td>-0.860849</td>\n",
       "      <td>-1.115435</td>\n",
       "      <td>-0.716618</td>\n",
       "    </tr>\n",
       "    <tr>\n",
       "      <th>6</th>\n",
       "      <td>0.405207</td>\n",
       "      <td>-0.630097</td>\n",
       "      <td>-1.492251</td>\n",
       "      <td>0.933828</td>\n",
       "    </tr>\n",
       "    <tr>\n",
       "      <th>7</th>\n",
       "      <td>0.078883</td>\n",
       "      <td>1.896740</td>\n",
       "      <td>-0.750019</td>\n",
       "      <td>-0.211459</td>\n",
       "    </tr>\n",
       "    <tr>\n",
       "      <th>8</th>\n",
       "      <td>0.024058</td>\n",
       "      <td>-2.159775</td>\n",
       "      <td>0.795340</td>\n",
       "      <td>-0.068052</td>\n",
       "    </tr>\n",
       "    <tr>\n",
       "      <th>9</th>\n",
       "      <td>0.386329</td>\n",
       "      <td>1.637350</td>\n",
       "      <td>1.359194</td>\n",
       "      <td>0.284931</td>\n",
       "    </tr>\n",
       "  </tbody>\n",
       "</table>\n",
       "</div>"
      ],
      "text/plain": [
       "          0         1         2         3\n",
       "0 -0.185631  0.290835 -0.457782  0.467207\n",
       "1  1.415523  1.694694 -1.306985  1.049414\n",
       "2  0.109817 -0.495336 -0.409282 -0.203610\n",
       "3  0.397764 -0.574468  0.329085 -1.452041\n",
       "4 -0.987020 -0.835218 -0.563764  1.291368\n",
       "5  0.197714 -0.860849 -1.115435 -0.716618\n",
       "6  0.405207 -0.630097 -1.492251  0.933828\n",
       "7  0.078883  1.896740 -0.750019 -0.211459\n",
       "8  0.024058 -2.159775  0.795340 -0.068052\n",
       "9  0.386329  1.637350  1.359194  0.284931"
      ]
     },
     "execution_count": 91,
     "metadata": {},
     "output_type": "execute_result"
    }
   ],
   "source": [
    "pd.concat(pieces)"
   ]
  },
  {
   "cell_type": "markdown",
   "metadata": {},
   "source": [
    "### Join类似于SQL类型的合并，具体请参阅：[Database Style Joining](http://pandas.pydata.org/pandas-docs/stable/merging.html#merging-join)"
   ]
  },
  {
   "cell_type": "code",
   "execution_count": 92,
   "metadata": {},
   "outputs": [],
   "source": [
    "left = pd.DataFrame({'key': ['foo', 'foo'], 'lval': [1,2]})"
   ]
  },
  {
   "cell_type": "code",
   "execution_count": 93,
   "metadata": {},
   "outputs": [],
   "source": [
    "right = pd.DataFrame({'key': ['foo', 'foo'], 'rval': [4, 5]})"
   ]
  },
  {
   "cell_type": "code",
   "execution_count": 94,
   "metadata": {},
   "outputs": [
    {
     "data": {
      "text/html": [
       "<div>\n",
       "<style scoped>\n",
       "    .dataframe tbody tr th:only-of-type {\n",
       "        vertical-align: middle;\n",
       "    }\n",
       "\n",
       "    .dataframe tbody tr th {\n",
       "        vertical-align: top;\n",
       "    }\n",
       "\n",
       "    .dataframe thead th {\n",
       "        text-align: right;\n",
       "    }\n",
       "</style>\n",
       "<table border=\"1\" class=\"dataframe\">\n",
       "  <thead>\n",
       "    <tr style=\"text-align: right;\">\n",
       "      <th></th>\n",
       "      <th>key</th>\n",
       "      <th>lval</th>\n",
       "    </tr>\n",
       "  </thead>\n",
       "  <tbody>\n",
       "    <tr>\n",
       "      <th>0</th>\n",
       "      <td>foo</td>\n",
       "      <td>1</td>\n",
       "    </tr>\n",
       "    <tr>\n",
       "      <th>1</th>\n",
       "      <td>foo</td>\n",
       "      <td>2</td>\n",
       "    </tr>\n",
       "  </tbody>\n",
       "</table>\n",
       "</div>"
      ],
      "text/plain": [
       "   key  lval\n",
       "0  foo     1\n",
       "1  foo     2"
      ]
     },
     "execution_count": 94,
     "metadata": {},
     "output_type": "execute_result"
    }
   ],
   "source": [
    "left"
   ]
  },
  {
   "cell_type": "code",
   "execution_count": 95,
   "metadata": {},
   "outputs": [
    {
     "data": {
      "text/html": [
       "<div>\n",
       "<style scoped>\n",
       "    .dataframe tbody tr th:only-of-type {\n",
       "        vertical-align: middle;\n",
       "    }\n",
       "\n",
       "    .dataframe tbody tr th {\n",
       "        vertical-align: top;\n",
       "    }\n",
       "\n",
       "    .dataframe thead th {\n",
       "        text-align: right;\n",
       "    }\n",
       "</style>\n",
       "<table border=\"1\" class=\"dataframe\">\n",
       "  <thead>\n",
       "    <tr style=\"text-align: right;\">\n",
       "      <th></th>\n",
       "      <th>key</th>\n",
       "      <th>rval</th>\n",
       "    </tr>\n",
       "  </thead>\n",
       "  <tbody>\n",
       "    <tr>\n",
       "      <th>0</th>\n",
       "      <td>foo</td>\n",
       "      <td>4</td>\n",
       "    </tr>\n",
       "    <tr>\n",
       "      <th>1</th>\n",
       "      <td>foo</td>\n",
       "      <td>5</td>\n",
       "    </tr>\n",
       "  </tbody>\n",
       "</table>\n",
       "</div>"
      ],
      "text/plain": [
       "   key  rval\n",
       "0  foo     4\n",
       "1  foo     5"
      ]
     },
     "execution_count": 95,
     "metadata": {},
     "output_type": "execute_result"
    }
   ],
   "source": [
    "right"
   ]
  },
  {
   "cell_type": "code",
   "execution_count": 96,
   "metadata": {},
   "outputs": [
    {
     "data": {
      "text/html": [
       "<div>\n",
       "<style scoped>\n",
       "    .dataframe tbody tr th:only-of-type {\n",
       "        vertical-align: middle;\n",
       "    }\n",
       "\n",
       "    .dataframe tbody tr th {\n",
       "        vertical-align: top;\n",
       "    }\n",
       "\n",
       "    .dataframe thead th {\n",
       "        text-align: right;\n",
       "    }\n",
       "</style>\n",
       "<table border=\"1\" class=\"dataframe\">\n",
       "  <thead>\n",
       "    <tr style=\"text-align: right;\">\n",
       "      <th></th>\n",
       "      <th>key</th>\n",
       "      <th>lval</th>\n",
       "      <th>rval</th>\n",
       "    </tr>\n",
       "  </thead>\n",
       "  <tbody>\n",
       "    <tr>\n",
       "      <th>0</th>\n",
       "      <td>foo</td>\n",
       "      <td>1</td>\n",
       "      <td>4</td>\n",
       "    </tr>\n",
       "    <tr>\n",
       "      <th>1</th>\n",
       "      <td>foo</td>\n",
       "      <td>1</td>\n",
       "      <td>5</td>\n",
       "    </tr>\n",
       "    <tr>\n",
       "      <th>2</th>\n",
       "      <td>foo</td>\n",
       "      <td>2</td>\n",
       "      <td>4</td>\n",
       "    </tr>\n",
       "    <tr>\n",
       "      <th>3</th>\n",
       "      <td>foo</td>\n",
       "      <td>2</td>\n",
       "      <td>5</td>\n",
       "    </tr>\n",
       "  </tbody>\n",
       "</table>\n",
       "</div>"
      ],
      "text/plain": [
       "   key  lval  rval\n",
       "0  foo     1     4\n",
       "1  foo     1     5\n",
       "2  foo     2     4\n",
       "3  foo     2     5"
      ]
     },
     "execution_count": 96,
     "metadata": {},
     "output_type": "execute_result"
    }
   ],
   "source": [
    "pd.merge(left, right, on='key')"
   ]
  },
  {
   "cell_type": "markdown",
   "metadata": {},
   "source": [
    "### Append将一行连接到一个DataFrame上，具体请参阅[Appending](http://pandas.pydata.org/pandas-docs/stable/merging.html#merging-concatenation)"
   ]
  },
  {
   "cell_type": "code",
   "execution_count": 97,
   "metadata": {},
   "outputs": [],
   "source": [
    "df = pd.DataFrame(np.random.randn(8, 4), columns=['A', 'B', 'C', 'D'])"
   ]
  },
  {
   "cell_type": "code",
   "execution_count": 98,
   "metadata": {},
   "outputs": [
    {
     "data": {
      "text/html": [
       "<div>\n",
       "<style scoped>\n",
       "    .dataframe tbody tr th:only-of-type {\n",
       "        vertical-align: middle;\n",
       "    }\n",
       "\n",
       "    .dataframe tbody tr th {\n",
       "        vertical-align: top;\n",
       "    }\n",
       "\n",
       "    .dataframe thead th {\n",
       "        text-align: right;\n",
       "    }\n",
       "</style>\n",
       "<table border=\"1\" class=\"dataframe\">\n",
       "  <thead>\n",
       "    <tr style=\"text-align: right;\">\n",
       "      <th></th>\n",
       "      <th>A</th>\n",
       "      <th>B</th>\n",
       "      <th>C</th>\n",
       "      <th>D</th>\n",
       "    </tr>\n",
       "  </thead>\n",
       "  <tbody>\n",
       "    <tr>\n",
       "      <th>0</th>\n",
       "      <td>-0.247919</td>\n",
       "      <td>0.743378</td>\n",
       "      <td>-0.332463</td>\n",
       "      <td>-1.227421</td>\n",
       "    </tr>\n",
       "    <tr>\n",
       "      <th>1</th>\n",
       "      <td>-1.309986</td>\n",
       "      <td>-1.404077</td>\n",
       "      <td>0.855409</td>\n",
       "      <td>0.589514</td>\n",
       "    </tr>\n",
       "    <tr>\n",
       "      <th>2</th>\n",
       "      <td>-0.873589</td>\n",
       "      <td>-1.256506</td>\n",
       "      <td>-1.423444</td>\n",
       "      <td>0.681833</td>\n",
       "    </tr>\n",
       "    <tr>\n",
       "      <th>3</th>\n",
       "      <td>-0.485809</td>\n",
       "      <td>0.450620</td>\n",
       "      <td>0.963807</td>\n",
       "      <td>-1.064427</td>\n",
       "    </tr>\n",
       "    <tr>\n",
       "      <th>4</th>\n",
       "      <td>0.486585</td>\n",
       "      <td>0.214806</td>\n",
       "      <td>-0.492064</td>\n",
       "      <td>-0.151867</td>\n",
       "    </tr>\n",
       "    <tr>\n",
       "      <th>5</th>\n",
       "      <td>0.638092</td>\n",
       "      <td>2.178389</td>\n",
       "      <td>-2.155842</td>\n",
       "      <td>0.152928</td>\n",
       "    </tr>\n",
       "    <tr>\n",
       "      <th>6</th>\n",
       "      <td>1.320044</td>\n",
       "      <td>2.266866</td>\n",
       "      <td>0.491190</td>\n",
       "      <td>-2.458745</td>\n",
       "    </tr>\n",
       "    <tr>\n",
       "      <th>7</th>\n",
       "      <td>0.729340</td>\n",
       "      <td>-0.971806</td>\n",
       "      <td>1.198744</td>\n",
       "      <td>-1.927681</td>\n",
       "    </tr>\n",
       "  </tbody>\n",
       "</table>\n",
       "</div>"
      ],
      "text/plain": [
       "          A         B         C         D\n",
       "0 -0.247919  0.743378 -0.332463 -1.227421\n",
       "1 -1.309986 -1.404077  0.855409  0.589514\n",
       "2 -0.873589 -1.256506 -1.423444  0.681833\n",
       "3 -0.485809  0.450620  0.963807 -1.064427\n",
       "4  0.486585  0.214806 -0.492064 -0.151867\n",
       "5  0.638092  2.178389 -2.155842  0.152928\n",
       "6  1.320044  2.266866  0.491190 -2.458745\n",
       "7  0.729340 -0.971806  1.198744 -1.927681"
      ]
     },
     "execution_count": 98,
     "metadata": {},
     "output_type": "execute_result"
    }
   ],
   "source": [
    "df"
   ]
  },
  {
   "cell_type": "code",
   "execution_count": 99,
   "metadata": {},
   "outputs": [],
   "source": [
    "s = df.iloc[3]"
   ]
  },
  {
   "cell_type": "code",
   "execution_count": 100,
   "metadata": {},
   "outputs": [
    {
     "data": {
      "text/html": [
       "<div>\n",
       "<style scoped>\n",
       "    .dataframe tbody tr th:only-of-type {\n",
       "        vertical-align: middle;\n",
       "    }\n",
       "\n",
       "    .dataframe tbody tr th {\n",
       "        vertical-align: top;\n",
       "    }\n",
       "\n",
       "    .dataframe thead th {\n",
       "        text-align: right;\n",
       "    }\n",
       "</style>\n",
       "<table border=\"1\" class=\"dataframe\">\n",
       "  <thead>\n",
       "    <tr style=\"text-align: right;\">\n",
       "      <th></th>\n",
       "      <th>A</th>\n",
       "      <th>B</th>\n",
       "      <th>C</th>\n",
       "      <th>D</th>\n",
       "    </tr>\n",
       "  </thead>\n",
       "  <tbody>\n",
       "    <tr>\n",
       "      <th>0</th>\n",
       "      <td>-0.247919</td>\n",
       "      <td>0.743378</td>\n",
       "      <td>-0.332463</td>\n",
       "      <td>-1.227421</td>\n",
       "    </tr>\n",
       "    <tr>\n",
       "      <th>1</th>\n",
       "      <td>-1.309986</td>\n",
       "      <td>-1.404077</td>\n",
       "      <td>0.855409</td>\n",
       "      <td>0.589514</td>\n",
       "    </tr>\n",
       "    <tr>\n",
       "      <th>2</th>\n",
       "      <td>-0.873589</td>\n",
       "      <td>-1.256506</td>\n",
       "      <td>-1.423444</td>\n",
       "      <td>0.681833</td>\n",
       "    </tr>\n",
       "    <tr>\n",
       "      <th>3</th>\n",
       "      <td>-0.485809</td>\n",
       "      <td>0.450620</td>\n",
       "      <td>0.963807</td>\n",
       "      <td>-1.064427</td>\n",
       "    </tr>\n",
       "    <tr>\n",
       "      <th>4</th>\n",
       "      <td>0.486585</td>\n",
       "      <td>0.214806</td>\n",
       "      <td>-0.492064</td>\n",
       "      <td>-0.151867</td>\n",
       "    </tr>\n",
       "    <tr>\n",
       "      <th>5</th>\n",
       "      <td>0.638092</td>\n",
       "      <td>2.178389</td>\n",
       "      <td>-2.155842</td>\n",
       "      <td>0.152928</td>\n",
       "    </tr>\n",
       "    <tr>\n",
       "      <th>6</th>\n",
       "      <td>1.320044</td>\n",
       "      <td>2.266866</td>\n",
       "      <td>0.491190</td>\n",
       "      <td>-2.458745</td>\n",
       "    </tr>\n",
       "    <tr>\n",
       "      <th>7</th>\n",
       "      <td>0.729340</td>\n",
       "      <td>-0.971806</td>\n",
       "      <td>1.198744</td>\n",
       "      <td>-1.927681</td>\n",
       "    </tr>\n",
       "    <tr>\n",
       "      <th>8</th>\n",
       "      <td>-0.485809</td>\n",
       "      <td>0.450620</td>\n",
       "      <td>0.963807</td>\n",
       "      <td>-1.064427</td>\n",
       "    </tr>\n",
       "  </tbody>\n",
       "</table>\n",
       "</div>"
      ],
      "text/plain": [
       "          A         B         C         D\n",
       "0 -0.247919  0.743378 -0.332463 -1.227421\n",
       "1 -1.309986 -1.404077  0.855409  0.589514\n",
       "2 -0.873589 -1.256506 -1.423444  0.681833\n",
       "3 -0.485809  0.450620  0.963807 -1.064427\n",
       "4  0.486585  0.214806 -0.492064 -0.151867\n",
       "5  0.638092  2.178389 -2.155842  0.152928\n",
       "6  1.320044  2.266866  0.491190 -2.458745\n",
       "7  0.729340 -0.971806  1.198744 -1.927681\n",
       "8 -0.485809  0.450620  0.963807 -1.064427"
      ]
     },
     "execution_count": 100,
     "metadata": {},
     "output_type": "execute_result"
    }
   ],
   "source": [
    "df.append(s, ignore_index=True)"
   ]
  },
  {
   "cell_type": "markdown",
   "metadata": {},
   "source": [
    "# 七、分组"
   ]
  },
  {
   "cell_type": "markdown",
   "metadata": {},
   "source": [
    "对于“group by”操作，我们通常是指以下一个或多个操作步骤：\n",
    "+ （Splitting）按照一些规则将数据分为不同的组\n",
    "+ （Applying）对于每组数据分别执行一个函数\n",
    "+ （Combining）将结果组合刀一个数据结构中\n",
    "详情请参阅：[Grouping Section](http://pandas.pydata.org/pandas-docs/stable/groupby.html#groupby)"
   ]
  },
  {
   "cell_type": "code",
   "execution_count": 101,
   "metadata": {},
   "outputs": [],
   "source": [
    "df = pd.DataFrame({\n",
    "        'A': ['foo', 'bar', 'foo', 'bar', 'foo', 'bar', 'foo', 'foo'],\n",
    "        'B': ['one', 'one', 'two', 'three', 'two', 'two', 'one', 'three'],\n",
    "        'C': np.random.randn(8),\n",
    "        'D': np.random.randn(8)\n",
    "    })"
   ]
  },
  {
   "cell_type": "code",
   "execution_count": 102,
   "metadata": {},
   "outputs": [
    {
     "data": {
      "text/html": [
       "<div>\n",
       "<style scoped>\n",
       "    .dataframe tbody tr th:only-of-type {\n",
       "        vertical-align: middle;\n",
       "    }\n",
       "\n",
       "    .dataframe tbody tr th {\n",
       "        vertical-align: top;\n",
       "    }\n",
       "\n",
       "    .dataframe thead th {\n",
       "        text-align: right;\n",
       "    }\n",
       "</style>\n",
       "<table border=\"1\" class=\"dataframe\">\n",
       "  <thead>\n",
       "    <tr style=\"text-align: right;\">\n",
       "      <th></th>\n",
       "      <th>A</th>\n",
       "      <th>B</th>\n",
       "      <th>C</th>\n",
       "      <th>D</th>\n",
       "    </tr>\n",
       "  </thead>\n",
       "  <tbody>\n",
       "    <tr>\n",
       "      <th>0</th>\n",
       "      <td>foo</td>\n",
       "      <td>one</td>\n",
       "      <td>-0.356470</td>\n",
       "      <td>0.360681</td>\n",
       "    </tr>\n",
       "    <tr>\n",
       "      <th>1</th>\n",
       "      <td>bar</td>\n",
       "      <td>one</td>\n",
       "      <td>0.376530</td>\n",
       "      <td>-0.171957</td>\n",
       "    </tr>\n",
       "    <tr>\n",
       "      <th>2</th>\n",
       "      <td>foo</td>\n",
       "      <td>two</td>\n",
       "      <td>0.983412</td>\n",
       "      <td>1.356620</td>\n",
       "    </tr>\n",
       "    <tr>\n",
       "      <th>3</th>\n",
       "      <td>bar</td>\n",
       "      <td>three</td>\n",
       "      <td>0.648342</td>\n",
       "      <td>-0.253405</td>\n",
       "    </tr>\n",
       "    <tr>\n",
       "      <th>4</th>\n",
       "      <td>foo</td>\n",
       "      <td>two</td>\n",
       "      <td>0.356558</td>\n",
       "      <td>0.923867</td>\n",
       "    </tr>\n",
       "    <tr>\n",
       "      <th>5</th>\n",
       "      <td>bar</td>\n",
       "      <td>two</td>\n",
       "      <td>-0.443483</td>\n",
       "      <td>-1.038152</td>\n",
       "    </tr>\n",
       "    <tr>\n",
       "      <th>6</th>\n",
       "      <td>foo</td>\n",
       "      <td>one</td>\n",
       "      <td>0.840260</td>\n",
       "      <td>0.356336</td>\n",
       "    </tr>\n",
       "    <tr>\n",
       "      <th>7</th>\n",
       "      <td>foo</td>\n",
       "      <td>three</td>\n",
       "      <td>-0.296354</td>\n",
       "      <td>-0.526268</td>\n",
       "    </tr>\n",
       "  </tbody>\n",
       "</table>\n",
       "</div>"
      ],
      "text/plain": [
       "     A      B         C         D\n",
       "0  foo    one -0.356470  0.360681\n",
       "1  bar    one  0.376530 -0.171957\n",
       "2  foo    two  0.983412  1.356620\n",
       "3  bar  three  0.648342 -0.253405\n",
       "4  foo    two  0.356558  0.923867\n",
       "5  bar    two -0.443483 -1.038152\n",
       "6  foo    one  0.840260  0.356336\n",
       "7  foo  three -0.296354 -0.526268"
      ]
     },
     "execution_count": 102,
     "metadata": {},
     "output_type": "execute_result"
    }
   ],
   "source": [
    "df"
   ]
  },
  {
   "cell_type": "markdown",
   "metadata": {},
   "source": [
    "1.分组并对每个分组执行sum函数："
   ]
  },
  {
   "cell_type": "code",
   "execution_count": 103,
   "metadata": {},
   "outputs": [
    {
     "data": {
      "text/html": [
       "<div>\n",
       "<style scoped>\n",
       "    .dataframe tbody tr th:only-of-type {\n",
       "        vertical-align: middle;\n",
       "    }\n",
       "\n",
       "    .dataframe tbody tr th {\n",
       "        vertical-align: top;\n",
       "    }\n",
       "\n",
       "    .dataframe thead th {\n",
       "        text-align: right;\n",
       "    }\n",
       "</style>\n",
       "<table border=\"1\" class=\"dataframe\">\n",
       "  <thead>\n",
       "    <tr style=\"text-align: right;\">\n",
       "      <th></th>\n",
       "      <th>C</th>\n",
       "      <th>D</th>\n",
       "    </tr>\n",
       "    <tr>\n",
       "      <th>A</th>\n",
       "      <th></th>\n",
       "      <th></th>\n",
       "    </tr>\n",
       "  </thead>\n",
       "  <tbody>\n",
       "    <tr>\n",
       "      <th>bar</th>\n",
       "      <td>0.581389</td>\n",
       "      <td>-1.463514</td>\n",
       "    </tr>\n",
       "    <tr>\n",
       "      <th>foo</th>\n",
       "      <td>1.527407</td>\n",
       "      <td>2.471236</td>\n",
       "    </tr>\n",
       "  </tbody>\n",
       "</table>\n",
       "</div>"
      ],
      "text/plain": [
       "            C         D\n",
       "A                      \n",
       "bar  0.581389 -1.463514\n",
       "foo  1.527407  2.471236"
      ]
     },
     "execution_count": 103,
     "metadata": {},
     "output_type": "execute_result"
    }
   ],
   "source": [
    "df.groupby('A').sum()"
   ]
  },
  {
   "cell_type": "markdown",
   "metadata": {},
   "source": [
    "2.通过多个列进行分组形成一个层次索引，然后执行函数："
   ]
  },
  {
   "cell_type": "code",
   "execution_count": 104,
   "metadata": {},
   "outputs": [
    {
     "data": {
      "text/html": [
       "<div>\n",
       "<style scoped>\n",
       "    .dataframe tbody tr th:only-of-type {\n",
       "        vertical-align: middle;\n",
       "    }\n",
       "\n",
       "    .dataframe tbody tr th {\n",
       "        vertical-align: top;\n",
       "    }\n",
       "\n",
       "    .dataframe thead th {\n",
       "        text-align: right;\n",
       "    }\n",
       "</style>\n",
       "<table border=\"1\" class=\"dataframe\">\n",
       "  <thead>\n",
       "    <tr style=\"text-align: right;\">\n",
       "      <th></th>\n",
       "      <th></th>\n",
       "      <th>C</th>\n",
       "      <th>D</th>\n",
       "    </tr>\n",
       "    <tr>\n",
       "      <th>A</th>\n",
       "      <th>B</th>\n",
       "      <th></th>\n",
       "      <th></th>\n",
       "    </tr>\n",
       "  </thead>\n",
       "  <tbody>\n",
       "    <tr>\n",
       "      <th rowspan=\"3\" valign=\"top\">bar</th>\n",
       "      <th>one</th>\n",
       "      <td>0.376530</td>\n",
       "      <td>-0.171957</td>\n",
       "    </tr>\n",
       "    <tr>\n",
       "      <th>three</th>\n",
       "      <td>0.648342</td>\n",
       "      <td>-0.253405</td>\n",
       "    </tr>\n",
       "    <tr>\n",
       "      <th>two</th>\n",
       "      <td>-0.443483</td>\n",
       "      <td>-1.038152</td>\n",
       "    </tr>\n",
       "    <tr>\n",
       "      <th rowspan=\"3\" valign=\"top\">foo</th>\n",
       "      <th>one</th>\n",
       "      <td>0.483790</td>\n",
       "      <td>0.717017</td>\n",
       "    </tr>\n",
       "    <tr>\n",
       "      <th>three</th>\n",
       "      <td>-0.296354</td>\n",
       "      <td>-0.526268</td>\n",
       "    </tr>\n",
       "    <tr>\n",
       "      <th>two</th>\n",
       "      <td>1.339970</td>\n",
       "      <td>2.280488</td>\n",
       "    </tr>\n",
       "  </tbody>\n",
       "</table>\n",
       "</div>"
      ],
      "text/plain": [
       "                  C         D\n",
       "A   B                        \n",
       "bar one    0.376530 -0.171957\n",
       "    three  0.648342 -0.253405\n",
       "    two   -0.443483 -1.038152\n",
       "foo one    0.483790  0.717017\n",
       "    three -0.296354 -0.526268\n",
       "    two    1.339970  2.280488"
      ]
     },
     "execution_count": 104,
     "metadata": {},
     "output_type": "execute_result"
    }
   ],
   "source": [
    "df.groupby(['A', 'B']).sum()"
   ]
  },
  {
   "cell_type": "markdown",
   "metadata": {},
   "source": [
    "# 八、Reshaping"
   ]
  },
  {
   "cell_type": "markdown",
   "metadata": {},
   "source": [
    "详情请参阅[Hierachical Indexing](http://pandas.pydata.org/pandas-docs/stable/advanced.html#advanced-hierarchical)和[Reshaping](http://pandas.pydata.org/pandas-docs/stable/reshaping.html#reshaping-stacking)"
   ]
  },
  {
   "cell_type": "markdown",
   "metadata": {},
   "source": [
    "### Stack"
   ]
  },
  {
   "cell_type": "code",
   "execution_count": 116,
   "metadata": {},
   "outputs": [],
   "source": [
    "tuples = list(zip(*[['bar', 'bar', 'baz', 'baz',\n",
    "                     'foo', 'foo', 'qux', 'qux'],\n",
    "                    ['one', 'two', 'one', 'two',\n",
    "                     'one', 'two', 'one', 'two']]))"
   ]
  },
  {
   "cell_type": "code",
   "execution_count": 117,
   "metadata": {},
   "outputs": [
    {
     "data": {
      "text/plain": [
       "[('bar', 'one'),\n",
       " ('bar', 'two'),\n",
       " ('baz', 'one'),\n",
       " ('baz', 'two'),\n",
       " ('foo', 'one'),\n",
       " ('foo', 'two'),\n",
       " ('qux', 'one'),\n",
       " ('qux', 'two')]"
      ]
     },
     "execution_count": 117,
     "metadata": {},
     "output_type": "execute_result"
    }
   ],
   "source": [
    "tuples"
   ]
  },
  {
   "cell_type": "code",
   "execution_count": 118,
   "metadata": {},
   "outputs": [],
   "source": [
    "index = pd.MultiIndex.from_tuples(tuples, names=['first', 'second'])"
   ]
  },
  {
   "cell_type": "code",
   "execution_count": 119,
   "metadata": {},
   "outputs": [
    {
     "data": {
      "text/plain": [
       "MultiIndex(levels=[['bar', 'baz', 'foo', 'qux'], ['one', 'two']],\n",
       "           codes=[[0, 0, 1, 1, 2, 2, 3, 3], [0, 1, 0, 1, 0, 1, 0, 1]],\n",
       "           names=['first', 'second'])"
      ]
     },
     "execution_count": 119,
     "metadata": {},
     "output_type": "execute_result"
    }
   ],
   "source": [
    "index"
   ]
  },
  {
   "cell_type": "code",
   "execution_count": 120,
   "metadata": {},
   "outputs": [],
   "source": [
    "df = pd.DataFrame(np.random.randn(8, 2), index=index, columns=['A', 'B'])"
   ]
  },
  {
   "cell_type": "code",
   "execution_count": 121,
   "metadata": {},
   "outputs": [],
   "source": [
    "df2 = df[:4]"
   ]
  },
  {
   "cell_type": "code",
   "execution_count": 122,
   "metadata": {},
   "outputs": [
    {
     "data": {
      "text/html": [
       "<div>\n",
       "<style scoped>\n",
       "    .dataframe tbody tr th:only-of-type {\n",
       "        vertical-align: middle;\n",
       "    }\n",
       "\n",
       "    .dataframe tbody tr th {\n",
       "        vertical-align: top;\n",
       "    }\n",
       "\n",
       "    .dataframe thead th {\n",
       "        text-align: right;\n",
       "    }\n",
       "</style>\n",
       "<table border=\"1\" class=\"dataframe\">\n",
       "  <thead>\n",
       "    <tr style=\"text-align: right;\">\n",
       "      <th></th>\n",
       "      <th></th>\n",
       "      <th>A</th>\n",
       "      <th>B</th>\n",
       "    </tr>\n",
       "    <tr>\n",
       "      <th>first</th>\n",
       "      <th>second</th>\n",
       "      <th></th>\n",
       "      <th></th>\n",
       "    </tr>\n",
       "  </thead>\n",
       "  <tbody>\n",
       "    <tr>\n",
       "      <th rowspan=\"2\" valign=\"top\">bar</th>\n",
       "      <th>one</th>\n",
       "      <td>-0.359112</td>\n",
       "      <td>1.320053</td>\n",
       "    </tr>\n",
       "    <tr>\n",
       "      <th>two</th>\n",
       "      <td>-1.882604</td>\n",
       "      <td>0.997227</td>\n",
       "    </tr>\n",
       "    <tr>\n",
       "      <th rowspan=\"2\" valign=\"top\">baz</th>\n",
       "      <th>one</th>\n",
       "      <td>-3.855058</td>\n",
       "      <td>0.014692</td>\n",
       "    </tr>\n",
       "    <tr>\n",
       "      <th>two</th>\n",
       "      <td>-0.592265</td>\n",
       "      <td>1.018117</td>\n",
       "    </tr>\n",
       "  </tbody>\n",
       "</table>\n",
       "</div>"
      ],
      "text/plain": [
       "                     A         B\n",
       "first second                    \n",
       "bar   one    -0.359112  1.320053\n",
       "      two    -1.882604  0.997227\n",
       "baz   one    -3.855058  0.014692\n",
       "      two    -0.592265  1.018117"
      ]
     },
     "execution_count": 122,
     "metadata": {},
     "output_type": "execute_result"
    }
   ],
   "source": [
    "df2"
   ]
  },
  {
   "cell_type": "code",
   "execution_count": 123,
   "metadata": {},
   "outputs": [],
   "source": [
    "stacked = df2.stack()"
   ]
  },
  {
   "cell_type": "code",
   "execution_count": 124,
   "metadata": {},
   "outputs": [
    {
     "data": {
      "text/plain": [
       "first  second   \n",
       "bar    one     A   -0.359112\n",
       "               B    1.320053\n",
       "       two     A   -1.882604\n",
       "               B    0.997227\n",
       "baz    one     A   -3.855058\n",
       "               B    0.014692\n",
       "       two     A   -0.592265\n",
       "               B    1.018117\n",
       "dtype: float64"
      ]
     },
     "execution_count": 124,
     "metadata": {},
     "output_type": "execute_result"
    }
   ],
   "source": [
    "stacked"
   ]
  },
  {
   "cell_type": "code",
   "execution_count": 125,
   "metadata": {},
   "outputs": [
    {
     "data": {
      "text/plain": [
       "pandas.core.series.Series"
      ]
     },
     "execution_count": 125,
     "metadata": {},
     "output_type": "execute_result"
    }
   ],
   "source": [
    "type(stacked)"
   ]
  },
  {
   "cell_type": "code",
   "execution_count": 126,
   "metadata": {},
   "outputs": [
    {
     "data": {
      "text/html": [
       "<div>\n",
       "<style scoped>\n",
       "    .dataframe tbody tr th:only-of-type {\n",
       "        vertical-align: middle;\n",
       "    }\n",
       "\n",
       "    .dataframe tbody tr th {\n",
       "        vertical-align: top;\n",
       "    }\n",
       "\n",
       "    .dataframe thead th {\n",
       "        text-align: right;\n",
       "    }\n",
       "</style>\n",
       "<table border=\"1\" class=\"dataframe\">\n",
       "  <thead>\n",
       "    <tr style=\"text-align: right;\">\n",
       "      <th></th>\n",
       "      <th></th>\n",
       "      <th>A</th>\n",
       "      <th>B</th>\n",
       "    </tr>\n",
       "    <tr>\n",
       "      <th>first</th>\n",
       "      <th>second</th>\n",
       "      <th></th>\n",
       "      <th></th>\n",
       "    </tr>\n",
       "  </thead>\n",
       "  <tbody>\n",
       "    <tr>\n",
       "      <th rowspan=\"2\" valign=\"top\">bar</th>\n",
       "      <th>one</th>\n",
       "      <td>-0.359112</td>\n",
       "      <td>1.320053</td>\n",
       "    </tr>\n",
       "    <tr>\n",
       "      <th>two</th>\n",
       "      <td>-1.882604</td>\n",
       "      <td>0.997227</td>\n",
       "    </tr>\n",
       "    <tr>\n",
       "      <th rowspan=\"2\" valign=\"top\">baz</th>\n",
       "      <th>one</th>\n",
       "      <td>-3.855058</td>\n",
       "      <td>0.014692</td>\n",
       "    </tr>\n",
       "    <tr>\n",
       "      <th>two</th>\n",
       "      <td>-0.592265</td>\n",
       "      <td>1.018117</td>\n",
       "    </tr>\n",
       "  </tbody>\n",
       "</table>\n",
       "</div>"
      ],
      "text/plain": [
       "                     A         B\n",
       "first second                    \n",
       "bar   one    -0.359112  1.320053\n",
       "      two    -1.882604  0.997227\n",
       "baz   one    -3.855058  0.014692\n",
       "      two    -0.592265  1.018117"
      ]
     },
     "execution_count": 126,
     "metadata": {},
     "output_type": "execute_result"
    }
   ],
   "source": [
    "stacked.unstack()"
   ]
  },
  {
   "cell_type": "code",
   "execution_count": 127,
   "metadata": {},
   "outputs": [
    {
     "data": {
      "text/html": [
       "<div>\n",
       "<style scoped>\n",
       "    .dataframe tbody tr th:only-of-type {\n",
       "        vertical-align: middle;\n",
       "    }\n",
       "\n",
       "    .dataframe tbody tr th {\n",
       "        vertical-align: top;\n",
       "    }\n",
       "\n",
       "    .dataframe thead th {\n",
       "        text-align: right;\n",
       "    }\n",
       "</style>\n",
       "<table border=\"1\" class=\"dataframe\">\n",
       "  <thead>\n",
       "    <tr style=\"text-align: right;\">\n",
       "      <th></th>\n",
       "      <th>second</th>\n",
       "      <th>one</th>\n",
       "      <th>two</th>\n",
       "    </tr>\n",
       "    <tr>\n",
       "      <th>first</th>\n",
       "      <th></th>\n",
       "      <th></th>\n",
       "      <th></th>\n",
       "    </tr>\n",
       "  </thead>\n",
       "  <tbody>\n",
       "    <tr>\n",
       "      <th rowspan=\"2\" valign=\"top\">bar</th>\n",
       "      <th>A</th>\n",
       "      <td>-0.359112</td>\n",
       "      <td>-1.882604</td>\n",
       "    </tr>\n",
       "    <tr>\n",
       "      <th>B</th>\n",
       "      <td>1.320053</td>\n",
       "      <td>0.997227</td>\n",
       "    </tr>\n",
       "    <tr>\n",
       "      <th rowspan=\"2\" valign=\"top\">baz</th>\n",
       "      <th>A</th>\n",
       "      <td>-3.855058</td>\n",
       "      <td>-0.592265</td>\n",
       "    </tr>\n",
       "    <tr>\n",
       "      <th>B</th>\n",
       "      <td>0.014692</td>\n",
       "      <td>1.018117</td>\n",
       "    </tr>\n",
       "  </tbody>\n",
       "</table>\n",
       "</div>"
      ],
      "text/plain": [
       "second        one       two\n",
       "first                      \n",
       "bar   A -0.359112 -1.882604\n",
       "      B  1.320053  0.997227\n",
       "baz   A -3.855058 -0.592265\n",
       "      B  0.014692  1.018117"
      ]
     },
     "execution_count": 127,
     "metadata": {},
     "output_type": "execute_result"
    }
   ],
   "source": [
    "stacked.unstack(1)"
   ]
  },
  {
   "cell_type": "code",
   "execution_count": 128,
   "metadata": {},
   "outputs": [
    {
     "data": {
      "text/html": [
       "<div>\n",
       "<style scoped>\n",
       "    .dataframe tbody tr th:only-of-type {\n",
       "        vertical-align: middle;\n",
       "    }\n",
       "\n",
       "    .dataframe tbody tr th {\n",
       "        vertical-align: top;\n",
       "    }\n",
       "\n",
       "    .dataframe thead th {\n",
       "        text-align: right;\n",
       "    }\n",
       "</style>\n",
       "<table border=\"1\" class=\"dataframe\">\n",
       "  <thead>\n",
       "    <tr style=\"text-align: right;\">\n",
       "      <th></th>\n",
       "      <th>first</th>\n",
       "      <th>bar</th>\n",
       "      <th>baz</th>\n",
       "    </tr>\n",
       "    <tr>\n",
       "      <th>second</th>\n",
       "      <th></th>\n",
       "      <th></th>\n",
       "      <th></th>\n",
       "    </tr>\n",
       "  </thead>\n",
       "  <tbody>\n",
       "    <tr>\n",
       "      <th rowspan=\"2\" valign=\"top\">one</th>\n",
       "      <th>A</th>\n",
       "      <td>-0.359112</td>\n",
       "      <td>-3.855058</td>\n",
       "    </tr>\n",
       "    <tr>\n",
       "      <th>B</th>\n",
       "      <td>1.320053</td>\n",
       "      <td>0.014692</td>\n",
       "    </tr>\n",
       "    <tr>\n",
       "      <th rowspan=\"2\" valign=\"top\">two</th>\n",
       "      <th>A</th>\n",
       "      <td>-1.882604</td>\n",
       "      <td>-0.592265</td>\n",
       "    </tr>\n",
       "    <tr>\n",
       "      <th>B</th>\n",
       "      <td>0.997227</td>\n",
       "      <td>1.018117</td>\n",
       "    </tr>\n",
       "  </tbody>\n",
       "</table>\n",
       "</div>"
      ],
      "text/plain": [
       "first          bar       baz\n",
       "second                      \n",
       "one    A -0.359112 -3.855058\n",
       "       B  1.320053  0.014692\n",
       "two    A -1.882604 -0.592265\n",
       "       B  0.997227  1.018117"
      ]
     },
     "execution_count": 128,
     "metadata": {},
     "output_type": "execute_result"
    }
   ],
   "source": [
    "stacked.unstack(0)"
   ]
  },
  {
   "cell_type": "markdown",
   "metadata": {},
   "source": [
    "### 数据透视表，详情请参阅：[Pivot Tables](http://pandas.pydata.org/pandas-docs/stable/reshaping.html#reshaping-pivot)"
   ]
  },
  {
   "cell_type": "code",
   "execution_count": 129,
   "metadata": {},
   "outputs": [],
   "source": [
    "df = pd.DataFrame({\n",
    "        'A': ['one', 'one', 'two', 'three'] * 3,\n",
    "        'B': ['A', 'B', 'C'] * 4,\n",
    "        'C': ['foo', 'foo', 'foo', 'bar', 'bar', 'bar'] * 2,\n",
    "        'D': np.random.randn(12),\n",
    "        'E': np.random.randn(12)\n",
    "    })"
   ]
  },
  {
   "cell_type": "code",
   "execution_count": 130,
   "metadata": {},
   "outputs": [
    {
     "data": {
      "text/html": [
       "<div>\n",
       "<style scoped>\n",
       "    .dataframe tbody tr th:only-of-type {\n",
       "        vertical-align: middle;\n",
       "    }\n",
       "\n",
       "    .dataframe tbody tr th {\n",
       "        vertical-align: top;\n",
       "    }\n",
       "\n",
       "    .dataframe thead th {\n",
       "        text-align: right;\n",
       "    }\n",
       "</style>\n",
       "<table border=\"1\" class=\"dataframe\">\n",
       "  <thead>\n",
       "    <tr style=\"text-align: right;\">\n",
       "      <th></th>\n",
       "      <th>A</th>\n",
       "      <th>B</th>\n",
       "      <th>C</th>\n",
       "      <th>D</th>\n",
       "      <th>E</th>\n",
       "    </tr>\n",
       "  </thead>\n",
       "  <tbody>\n",
       "    <tr>\n",
       "      <th>0</th>\n",
       "      <td>one</td>\n",
       "      <td>A</td>\n",
       "      <td>foo</td>\n",
       "      <td>-0.545865</td>\n",
       "      <td>1.924384</td>\n",
       "    </tr>\n",
       "    <tr>\n",
       "      <th>1</th>\n",
       "      <td>one</td>\n",
       "      <td>B</td>\n",
       "      <td>foo</td>\n",
       "      <td>-0.053291</td>\n",
       "      <td>0.653302</td>\n",
       "    </tr>\n",
       "    <tr>\n",
       "      <th>2</th>\n",
       "      <td>two</td>\n",
       "      <td>C</td>\n",
       "      <td>foo</td>\n",
       "      <td>-0.505194</td>\n",
       "      <td>-0.039108</td>\n",
       "    </tr>\n",
       "    <tr>\n",
       "      <th>3</th>\n",
       "      <td>three</td>\n",
       "      <td>A</td>\n",
       "      <td>bar</td>\n",
       "      <td>0.135928</td>\n",
       "      <td>1.001558</td>\n",
       "    </tr>\n",
       "    <tr>\n",
       "      <th>4</th>\n",
       "      <td>one</td>\n",
       "      <td>B</td>\n",
       "      <td>bar</td>\n",
       "      <td>0.419323</td>\n",
       "      <td>1.139918</td>\n",
       "    </tr>\n",
       "    <tr>\n",
       "      <th>5</th>\n",
       "      <td>one</td>\n",
       "      <td>C</td>\n",
       "      <td>bar</td>\n",
       "      <td>-1.015480</td>\n",
       "      <td>-0.998569</td>\n",
       "    </tr>\n",
       "    <tr>\n",
       "      <th>6</th>\n",
       "      <td>two</td>\n",
       "      <td>A</td>\n",
       "      <td>foo</td>\n",
       "      <td>0.449688</td>\n",
       "      <td>-0.641829</td>\n",
       "    </tr>\n",
       "    <tr>\n",
       "      <th>7</th>\n",
       "      <td>three</td>\n",
       "      <td>B</td>\n",
       "      <td>foo</td>\n",
       "      <td>0.240647</td>\n",
       "      <td>-0.510110</td>\n",
       "    </tr>\n",
       "    <tr>\n",
       "      <th>8</th>\n",
       "      <td>one</td>\n",
       "      <td>C</td>\n",
       "      <td>foo</td>\n",
       "      <td>1.349185</td>\n",
       "      <td>-0.773073</td>\n",
       "    </tr>\n",
       "    <tr>\n",
       "      <th>9</th>\n",
       "      <td>one</td>\n",
       "      <td>A</td>\n",
       "      <td>bar</td>\n",
       "      <td>0.168223</td>\n",
       "      <td>0.443646</td>\n",
       "    </tr>\n",
       "    <tr>\n",
       "      <th>10</th>\n",
       "      <td>two</td>\n",
       "      <td>B</td>\n",
       "      <td>bar</td>\n",
       "      <td>0.375086</td>\n",
       "      <td>-0.154169</td>\n",
       "    </tr>\n",
       "    <tr>\n",
       "      <th>11</th>\n",
       "      <td>three</td>\n",
       "      <td>C</td>\n",
       "      <td>bar</td>\n",
       "      <td>-0.018163</td>\n",
       "      <td>0.423304</td>\n",
       "    </tr>\n",
       "  </tbody>\n",
       "</table>\n",
       "</div>"
      ],
      "text/plain": [
       "        A  B    C         D         E\n",
       "0     one  A  foo -0.545865  1.924384\n",
       "1     one  B  foo -0.053291  0.653302\n",
       "2     two  C  foo -0.505194 -0.039108\n",
       "3   three  A  bar  0.135928  1.001558\n",
       "4     one  B  bar  0.419323  1.139918\n",
       "5     one  C  bar -1.015480 -0.998569\n",
       "6     two  A  foo  0.449688 -0.641829\n",
       "7   three  B  foo  0.240647 -0.510110\n",
       "8     one  C  foo  1.349185 -0.773073\n",
       "9     one  A  bar  0.168223  0.443646\n",
       "10    two  B  bar  0.375086 -0.154169\n",
       "11  three  C  bar -0.018163  0.423304"
      ]
     },
     "execution_count": 130,
     "metadata": {},
     "output_type": "execute_result"
    }
   ],
   "source": [
    "df"
   ]
  },
  {
   "cell_type": "markdown",
   "metadata": {},
   "source": [
    "可以从这个数据中轻松的生成数据透视表："
   ]
  },
  {
   "cell_type": "code",
   "execution_count": 131,
   "metadata": {},
   "outputs": [
    {
     "data": {
      "text/html": [
       "<div>\n",
       "<style scoped>\n",
       "    .dataframe tbody tr th:only-of-type {\n",
       "        vertical-align: middle;\n",
       "    }\n",
       "\n",
       "    .dataframe tbody tr th {\n",
       "        vertical-align: top;\n",
       "    }\n",
       "\n",
       "    .dataframe thead th {\n",
       "        text-align: right;\n",
       "    }\n",
       "</style>\n",
       "<table border=\"1\" class=\"dataframe\">\n",
       "  <thead>\n",
       "    <tr style=\"text-align: right;\">\n",
       "      <th></th>\n",
       "      <th>C</th>\n",
       "      <th>bar</th>\n",
       "      <th>foo</th>\n",
       "    </tr>\n",
       "    <tr>\n",
       "      <th>A</th>\n",
       "      <th>B</th>\n",
       "      <th></th>\n",
       "      <th></th>\n",
       "    </tr>\n",
       "  </thead>\n",
       "  <tbody>\n",
       "    <tr>\n",
       "      <th rowspan=\"3\" valign=\"top\">one</th>\n",
       "      <th>A</th>\n",
       "      <td>0.168223</td>\n",
       "      <td>-0.545865</td>\n",
       "    </tr>\n",
       "    <tr>\n",
       "      <th>B</th>\n",
       "      <td>0.419323</td>\n",
       "      <td>-0.053291</td>\n",
       "    </tr>\n",
       "    <tr>\n",
       "      <th>C</th>\n",
       "      <td>-1.015480</td>\n",
       "      <td>1.349185</td>\n",
       "    </tr>\n",
       "    <tr>\n",
       "      <th rowspan=\"3\" valign=\"top\">three</th>\n",
       "      <th>A</th>\n",
       "      <td>0.135928</td>\n",
       "      <td>NaN</td>\n",
       "    </tr>\n",
       "    <tr>\n",
       "      <th>B</th>\n",
       "      <td>NaN</td>\n",
       "      <td>0.240647</td>\n",
       "    </tr>\n",
       "    <tr>\n",
       "      <th>C</th>\n",
       "      <td>-0.018163</td>\n",
       "      <td>NaN</td>\n",
       "    </tr>\n",
       "    <tr>\n",
       "      <th rowspan=\"3\" valign=\"top\">two</th>\n",
       "      <th>A</th>\n",
       "      <td>NaN</td>\n",
       "      <td>0.449688</td>\n",
       "    </tr>\n",
       "    <tr>\n",
       "      <th>B</th>\n",
       "      <td>0.375086</td>\n",
       "      <td>NaN</td>\n",
       "    </tr>\n",
       "    <tr>\n",
       "      <th>C</th>\n",
       "      <td>NaN</td>\n",
       "      <td>-0.505194</td>\n",
       "    </tr>\n",
       "  </tbody>\n",
       "</table>\n",
       "</div>"
      ],
      "text/plain": [
       "C             bar       foo\n",
       "A     B                    \n",
       "one   A  0.168223 -0.545865\n",
       "      B  0.419323 -0.053291\n",
       "      C -1.015480  1.349185\n",
       "three A  0.135928       NaN\n",
       "      B       NaN  0.240647\n",
       "      C -0.018163       NaN\n",
       "two   A       NaN  0.449688\n",
       "      B  0.375086       NaN\n",
       "      C       NaN -0.505194"
      ]
     },
     "execution_count": 131,
     "metadata": {},
     "output_type": "execute_result"
    }
   ],
   "source": [
    "pd.pivot_table(df, values='D', index=['A', 'B'], columns=['C'])"
   ]
  },
  {
   "cell_type": "markdown",
   "metadata": {},
   "source": [
    "# 九、时间序列"
   ]
  },
  {
   "cell_type": "markdown",
   "metadata": {},
   "source": [
    "pandas在对频率转换进行重新采样时拥有简单、强大且高效的功能（如将按秒采样的数据转换为按5分钟为单位进行采样的数据）。这种操作在金融领域非常常见。具体参考：[Time Series Section](http://pandas.pydata.org/pandas-docs/stable/timeseries.html#timeseries)"
   ]
  },
  {
   "cell_type": "code",
   "execution_count": 132,
   "metadata": {},
   "outputs": [],
   "source": [
    "rng = pd.date_range('1/1/2012', periods=100, freq='S')"
   ]
  },
  {
   "cell_type": "code",
   "execution_count": 139,
   "metadata": {},
   "outputs": [],
   "source": [
    "ts = pd.Series(np.random.randint(0, 500, len(rng)), index=rng)"
   ]
  },
  {
   "cell_type": "code",
   "execution_count": 150,
   "metadata": {},
   "outputs": [
    {
     "data": {
      "text/plain": [
       "2012-01-01 00:00:00    185\n",
       "2012-01-01 00:00:01    302\n",
       "2012-01-01 00:00:02    201\n",
       "2012-01-01 00:00:03    341\n",
       "2012-01-01 00:00:04    250\n",
       "2012-01-01 00:00:05    162\n",
       "2012-01-01 00:00:06    462\n",
       "2012-01-01 00:00:07    262\n",
       "2012-01-01 00:00:08    149\n",
       "2012-01-01 00:00:09     76\n",
       "Freq: S, dtype: int32"
      ]
     },
     "execution_count": 150,
     "metadata": {},
     "output_type": "execute_result"
    }
   ],
   "source": [
    "ts.head(10)"
   ]
  },
  {
   "cell_type": "code",
   "execution_count": 149,
   "metadata": {},
   "outputs": [
    {
     "name": "stderr",
     "output_type": "stream",
     "text": [
      "C:\\Users\\wxc\\Anaconda3\\lib\\site-packages\\ipykernel_launcher.py:1: FutureWarning: how in .resample() is deprecated\n",
      "the new syntax is .resample(...).sum()\n",
      "  \"\"\"Entry point for launching an IPython kernel.\n"
     ]
    },
    {
     "data": {
      "text/plain": [
       "2012-01-01 00:00:00    1279\n",
       "2012-01-01 00:00:05    1111\n",
       "2012-01-01 00:00:10     863\n",
       "2012-01-01 00:00:15     943\n",
       "2012-01-01 00:00:20    1421\n",
       "2012-01-01 00:00:25    1152\n",
       "2012-01-01 00:00:30    2122\n",
       "2012-01-01 00:00:35    1249\n",
       "2012-01-01 00:00:40    1371\n",
       "2012-01-01 00:00:45    1302\n",
       "2012-01-01 00:00:50     755\n",
       "2012-01-01 00:00:55    2012\n",
       "2012-01-01 00:01:00    1056\n",
       "2012-01-01 00:01:05    1422\n",
       "2012-01-01 00:01:10    1652\n",
       "2012-01-01 00:01:15     782\n",
       "2012-01-01 00:01:20    1820\n",
       "2012-01-01 00:01:25    1401\n",
       "2012-01-01 00:01:30     951\n",
       "2012-01-01 00:01:35    1366\n",
       "Freq: 5S, dtype: int32"
      ]
     },
     "execution_count": 149,
     "metadata": {},
     "output_type": "execute_result"
    }
   ],
   "source": [
    "new_ts = ts.resample('5s', how='sum')\n",
    "new_ts"
   ]
  },
  {
   "cell_type": "markdown",
   "metadata": {},
   "source": [
    "1.时区表示："
   ]
  },
  {
   "cell_type": "code",
   "execution_count": 151,
   "metadata": {},
   "outputs": [],
   "source": [
    "rng = pd.date_range('3/6/2012 00:00', periods=5, freq='D')"
   ]
  },
  {
   "cell_type": "code",
   "execution_count": 152,
   "metadata": {},
   "outputs": [],
   "source": [
    "ts = pd.Series(np.random.randn(len(rng)), rng)"
   ]
  },
  {
   "cell_type": "code",
   "execution_count": 153,
   "metadata": {},
   "outputs": [
    {
     "data": {
      "text/plain": [
       "2012-03-06   -0.726591\n",
       "2012-03-07   -0.483617\n",
       "2012-03-08   -0.439935\n",
       "2012-03-09    1.091977\n",
       "2012-03-10    1.367520\n",
       "Freq: D, dtype: float64"
      ]
     },
     "execution_count": 153,
     "metadata": {},
     "output_type": "execute_result"
    }
   ],
   "source": [
    "ts"
   ]
  },
  {
   "cell_type": "code",
   "execution_count": 154,
   "metadata": {},
   "outputs": [],
   "source": [
    "ts_utc = ts.tz_localize('UTC')"
   ]
  },
  {
   "cell_type": "code",
   "execution_count": 156,
   "metadata": {},
   "outputs": [
    {
     "data": {
      "text/plain": [
       "2012-03-06 00:00:00+00:00   -0.726591\n",
       "2012-03-07 00:00:00+00:00   -0.483617\n",
       "2012-03-08 00:00:00+00:00   -0.439935\n",
       "2012-03-09 00:00:00+00:00    1.091977\n",
       "2012-03-10 00:00:00+00:00    1.367520\n",
       "Freq: D, dtype: float64"
      ]
     },
     "execution_count": 156,
     "metadata": {},
     "output_type": "execute_result"
    }
   ],
   "source": [
    "ts_utc"
   ]
  },
  {
   "cell_type": "markdown",
   "metadata": {},
   "source": [
    "2.时区转换："
   ]
  },
  {
   "cell_type": "code",
   "execution_count": 157,
   "metadata": {},
   "outputs": [
    {
     "data": {
      "text/plain": [
       "2012-03-05 19:00:00-05:00   -0.726591\n",
       "2012-03-06 19:00:00-05:00   -0.483617\n",
       "2012-03-07 19:00:00-05:00   -0.439935\n",
       "2012-03-08 19:00:00-05:00    1.091977\n",
       "2012-03-09 19:00:00-05:00    1.367520\n",
       "Freq: D, dtype: float64"
      ]
     },
     "execution_count": 157,
     "metadata": {},
     "output_type": "execute_result"
    }
   ],
   "source": [
    "ts_utc.tz_convert('US/Eastern')"
   ]
  },
  {
   "cell_type": "markdown",
   "metadata": {},
   "source": [
    "# 十、Categorical"
   ]
  },
  {
   "cell_type": "markdown",
   "metadata": {},
   "source": [
    "从0.15版本开始，pandas可以在DataFrame中支持Categorical类型的数据，详细介绍参考：[categorical introduction](http://pandas.pydata.org/pandas-docs/stable/categorical.html#categorical) and [API Documentation](http://pandas.pydata.org/pandas-docs/stable/api.html#api-categorical)"
   ]
  },
  {
   "cell_type": "code",
   "execution_count": 187,
   "metadata": {},
   "outputs": [],
   "source": [
    "df = pd.DataFrame({\n",
    "        'id':[1,2,3,4,5,6],\n",
    "        'raw_grade':['a','b','b','a','a','e']\n",
    "    })"
   ]
  },
  {
   "cell_type": "markdown",
   "metadata": {},
   "source": [
    "1.将原始的grade转换为Categorical数据类型："
   ]
  },
  {
   "cell_type": "code",
   "execution_count": 197,
   "metadata": {},
   "outputs": [],
   "source": [
    "df['grade'] = df['raw_grade'].astype('category', ordered=True)"
   ]
  },
  {
   "cell_type": "code",
   "execution_count": 198,
   "metadata": {},
   "outputs": [
    {
     "data": {
      "text/plain": [
       "0    a\n",
       "1    b\n",
       "2    b\n",
       "3    a\n",
       "4    a\n",
       "5    e\n",
       "Name: grade, dtype: category\n",
       "Categories (3, object): [a < b < e]"
      ]
     },
     "execution_count": 198,
     "metadata": {},
     "output_type": "execute_result"
    }
   ],
   "source": [
    "df['grade']"
   ]
  },
  {
   "cell_type": "markdown",
   "metadata": {},
   "source": [
    "2.将Categorical类型数据重命名为更有意义的名称："
   ]
  },
  {
   "cell_type": "code",
   "execution_count": 199,
   "metadata": {},
   "outputs": [],
   "source": [
    "df['grade'].cat.categories = ['very good', 'good', 'very bad']"
   ]
  },
  {
   "cell_type": "markdown",
   "metadata": {},
   "source": [
    "3.对类别进行重新排序，增加缺失的类别："
   ]
  },
  {
   "cell_type": "code",
   "execution_count": 200,
   "metadata": {},
   "outputs": [],
   "source": [
    "df['grade'] = df['grade'].cat.set_categories(['very bad', 'bad', 'medium', 'good', 'very good'])"
   ]
  },
  {
   "cell_type": "code",
   "execution_count": 201,
   "metadata": {},
   "outputs": [
    {
     "data": {
      "text/plain": [
       "0    very good\n",
       "1         good\n",
       "2         good\n",
       "3    very good\n",
       "4    very good\n",
       "5     very bad\n",
       "Name: grade, dtype: category\n",
       "Categories (5, object): [very bad < bad < medium < good < very good]"
      ]
     },
     "execution_count": 201,
     "metadata": {},
     "output_type": "execute_result"
    }
   ],
   "source": [
    "df['grade']"
   ]
  },
  {
   "cell_type": "markdown",
   "metadata": {},
   "source": [
    "4.排序是按照Categorical的顺序进行的而不是按照字典顺序进行："
   ]
  },
  {
   "cell_type": "code",
   "execution_count": 203,
   "metadata": {},
   "outputs": [
    {
     "data": {
      "text/html": [
       "<div>\n",
       "<style scoped>\n",
       "    .dataframe tbody tr th:only-of-type {\n",
       "        vertical-align: middle;\n",
       "    }\n",
       "\n",
       "    .dataframe tbody tr th {\n",
       "        vertical-align: top;\n",
       "    }\n",
       "\n",
       "    .dataframe thead th {\n",
       "        text-align: right;\n",
       "    }\n",
       "</style>\n",
       "<table border=\"1\" class=\"dataframe\">\n",
       "  <thead>\n",
       "    <tr style=\"text-align: right;\">\n",
       "      <th></th>\n",
       "      <th>id</th>\n",
       "      <th>raw_grade</th>\n",
       "      <th>grade</th>\n",
       "    </tr>\n",
       "  </thead>\n",
       "  <tbody>\n",
       "    <tr>\n",
       "      <th>5</th>\n",
       "      <td>6</td>\n",
       "      <td>e</td>\n",
       "      <td>very bad</td>\n",
       "    </tr>\n",
       "    <tr>\n",
       "      <th>1</th>\n",
       "      <td>2</td>\n",
       "      <td>b</td>\n",
       "      <td>good</td>\n",
       "    </tr>\n",
       "    <tr>\n",
       "      <th>2</th>\n",
       "      <td>3</td>\n",
       "      <td>b</td>\n",
       "      <td>good</td>\n",
       "    </tr>\n",
       "    <tr>\n",
       "      <th>0</th>\n",
       "      <td>1</td>\n",
       "      <td>a</td>\n",
       "      <td>very good</td>\n",
       "    </tr>\n",
       "    <tr>\n",
       "      <th>3</th>\n",
       "      <td>4</td>\n",
       "      <td>a</td>\n",
       "      <td>very good</td>\n",
       "    </tr>\n",
       "    <tr>\n",
       "      <th>4</th>\n",
       "      <td>5</td>\n",
       "      <td>a</td>\n",
       "      <td>very good</td>\n",
       "    </tr>\n",
       "  </tbody>\n",
       "</table>\n",
       "</div>"
      ],
      "text/plain": [
       "   id raw_grade      grade\n",
       "5   6         e   very bad\n",
       "1   2         b       good\n",
       "2   3         b       good\n",
       "0   1         a  very good\n",
       "3   4         a  very good\n",
       "4   5         a  very good"
      ]
     },
     "execution_count": 203,
     "metadata": {},
     "output_type": "execute_result"
    }
   ],
   "source": [
    "df.sort_values('grade')"
   ]
  },
  {
   "cell_type": "markdown",
   "metadata": {},
   "source": [
    "5.对Categorical列进行排序时存在空的类别："
   ]
  },
  {
   "cell_type": "code",
   "execution_count": 204,
   "metadata": {},
   "outputs": [
    {
     "data": {
      "text/plain": [
       "grade\n",
       "very bad     1\n",
       "bad          0\n",
       "medium       0\n",
       "good         2\n",
       "very good    3\n",
       "dtype: int64"
      ]
     },
     "execution_count": 204,
     "metadata": {},
     "output_type": "execute_result"
    }
   ],
   "source": [
    "df.groupby(\"grade\").size()"
   ]
  },
  {
   "cell_type": "markdown",
   "metadata": {},
   "source": [
    "# 十一、画图"
   ]
  },
  {
   "cell_type": "markdown",
   "metadata": {},
   "source": [
    "具体文档参考：[Plotting Docs](http://pandas.pydata.org/pandas-docs/stable/visualization.html#visualization)"
   ]
  },
  {
   "cell_type": "code",
   "execution_count": 205,
   "metadata": {},
   "outputs": [],
   "source": [
    "ts = pd.Series(np.random.randn(1000), index=pd.date_range('1/1/2000', periods=1000))"
   ]
  },
  {
   "cell_type": "code",
   "execution_count": 206,
   "metadata": {},
   "outputs": [],
   "source": [
    "ts = ts.cumsum()"
   ]
  },
  {
   "cell_type": "code",
   "execution_count": 207,
   "metadata": {},
   "outputs": [
    {
     "data": {
      "text/plain": [
       "<matplotlib.axes._subplots.AxesSubplot at 0x186d7e84048>"
      ]
     },
     "execution_count": 207,
     "metadata": {},
     "output_type": "execute_result"
    },
    {
     "data": {
      "image/png": "[encoded data removed]",
      "text/plain": [
       "<Figure size 432x288 with 1 Axes>"
      ]
     },
     "metadata": {
      "needs_background": "light"
     },
     "output_type": "display_data"
    }
   ],
   "source": [
    "ts.plot()"
   ]
  },
  {
   "cell_type": "markdown",
   "metadata": {},
   "source": [
    "对于DataFrame来说，plot是一种将所有列及其标签进行绘制的简便方法："
   ]
  },
  {
   "cell_type": "code",
   "execution_count": 208,
   "metadata": {},
   "outputs": [],
   "source": [
    "df = pd.DataFrame(np.random.randn(1000, 4), index=ts.index, columns=['A', 'B', 'C', 'D'])"
   ]
  },
  {
   "cell_type": "code",
   "execution_count": 209,
   "metadata": {},
   "outputs": [],
   "source": [
    "df = df.cumsum()"
   ]
  },
  {
   "cell_type": "code",
   "execution_count": 210,
   "metadata": {},
   "outputs": [
    {
     "data": {
      "text/html": [
       "<div>\n",
       "<style scoped>\n",
       "    .dataframe tbody tr th:only-of-type {\n",
       "        vertical-align: middle;\n",
       "    }\n",
       "\n",
       "    .dataframe tbody tr th {\n",
       "        vertical-align: top;\n",
       "    }\n",
       "\n",
       "    .dataframe thead th {\n",
       "        text-align: right;\n",
       "    }\n",
       "</style>\n",
       "<table border=\"1\" class=\"dataframe\">\n",
       "  <thead>\n",
       "    <tr style=\"text-align: right;\">\n",
       "      <th></th>\n",
       "      <th>A</th>\n",
       "      <th>B</th>\n",
       "      <th>C</th>\n",
       "      <th>D</th>\n",
       "    </tr>\n",
       "  </thead>\n",
       "  <tbody>\n",
       "    <tr>\n",
       "      <th>2000-01-01</th>\n",
       "      <td>1.110462</td>\n",
       "      <td>-1.057161</td>\n",
       "      <td>0.603814</td>\n",
       "      <td>0.510942</td>\n",
       "    </tr>\n",
       "    <tr>\n",
       "      <th>2000-01-02</th>\n",
       "      <td>-0.254878</td>\n",
       "      <td>-1.334043</td>\n",
       "      <td>1.114364</td>\n",
       "      <td>0.802894</td>\n",
       "    </tr>\n",
       "    <tr>\n",
       "      <th>2000-01-03</th>\n",
       "      <td>0.654421</td>\n",
       "      <td>-0.542519</td>\n",
       "      <td>0.141968</td>\n",
       "      <td>0.650010</td>\n",
       "    </tr>\n",
       "    <tr>\n",
       "      <th>2000-01-04</th>\n",
       "      <td>1.099925</td>\n",
       "      <td>-1.386124</td>\n",
       "      <td>-1.021756</td>\n",
       "      <td>-0.853298</td>\n",
       "    </tr>\n",
       "    <tr>\n",
       "      <th>2000-01-05</th>\n",
       "      <td>1.465917</td>\n",
       "      <td>0.973620</td>\n",
       "      <td>-1.496278</td>\n",
       "      <td>-1.336777</td>\n",
       "    </tr>\n",
       "    <tr>\n",
       "      <th>2000-01-06</th>\n",
       "      <td>1.799886</td>\n",
       "      <td>1.280329</td>\n",
       "      <td>-2.444955</td>\n",
       "      <td>-1.759220</td>\n",
       "    </tr>\n",
       "    <tr>\n",
       "      <th>2000-01-07</th>\n",
       "      <td>2.864489</td>\n",
       "      <td>1.759882</td>\n",
       "      <td>-1.380810</td>\n",
       "      <td>-2.089434</td>\n",
       "    </tr>\n",
       "    <tr>\n",
       "      <th>2000-01-08</th>\n",
       "      <td>4.319111</td>\n",
       "      <td>0.566430</td>\n",
       "      <td>-0.606309</td>\n",
       "      <td>-2.584673</td>\n",
       "    </tr>\n",
       "    <tr>\n",
       "      <th>2000-01-09</th>\n",
       "      <td>4.209268</td>\n",
       "      <td>-0.263162</td>\n",
       "      <td>-1.174834</td>\n",
       "      <td>-2.331877</td>\n",
       "    </tr>\n",
       "    <tr>\n",
       "      <th>2000-01-10</th>\n",
       "      <td>3.443977</td>\n",
       "      <td>0.866722</td>\n",
       "      <td>0.463231</td>\n",
       "      <td>-2.528206</td>\n",
       "    </tr>\n",
       "    <tr>\n",
       "      <th>2000-01-11</th>\n",
       "      <td>2.542012</td>\n",
       "      <td>1.568767</td>\n",
       "      <td>1.200003</td>\n",
       "      <td>-3.230610</td>\n",
       "    </tr>\n",
       "    <tr>\n",
       "      <th>2000-01-12</th>\n",
       "      <td>2.773173</td>\n",
       "      <td>1.237994</td>\n",
       "      <td>0.563272</td>\n",
       "      <td>-1.704829</td>\n",
       "    </tr>\n",
       "    <tr>\n",
       "      <th>2000-01-13</th>\n",
       "      <td>2.776984</td>\n",
       "      <td>0.735861</td>\n",
       "      <td>2.418432</td>\n",
       "      <td>-2.761334</td>\n",
       "    </tr>\n",
       "    <tr>\n",
       "      <th>2000-01-14</th>\n",
       "      <td>3.541736</td>\n",
       "      <td>3.179040</td>\n",
       "      <td>1.093674</td>\n",
       "      <td>-2.465381</td>\n",
       "    </tr>\n",
       "    <tr>\n",
       "      <th>2000-01-15</th>\n",
       "      <td>4.632817</td>\n",
       "      <td>3.300458</td>\n",
       "      <td>3.808489</td>\n",
       "      <td>-2.686189</td>\n",
       "    </tr>\n",
       "    <tr>\n",
       "      <th>2000-01-16</th>\n",
       "      <td>2.535754</td>\n",
       "      <td>2.881684</td>\n",
       "      <td>4.327796</td>\n",
       "      <td>-2.728043</td>\n",
       "    </tr>\n",
       "    <tr>\n",
       "      <th>2000-01-17</th>\n",
       "      <td>3.626397</td>\n",
       "      <td>2.982279</td>\n",
       "      <td>4.313731</td>\n",
       "      <td>-1.958256</td>\n",
       "    </tr>\n",
       "    <tr>\n",
       "      <th>2000-01-18</th>\n",
       "      <td>4.105778</td>\n",
       "      <td>2.116170</td>\n",
       "      <td>4.158566</td>\n",
       "      <td>-2.646494</td>\n",
       "    </tr>\n",
       "    <tr>\n",
       "      <th>2000-01-19</th>\n",
       "      <td>4.695216</td>\n",
       "      <td>2.130308</td>\n",
       "      <td>4.524767</td>\n",
       "      <td>-2.639688</td>\n",
       "    </tr>\n",
       "    <tr>\n",
       "      <th>2000-01-20</th>\n",
       "      <td>3.915752</td>\n",
       "      <td>2.840922</td>\n",
       "      <td>2.193731</td>\n",
       "      <td>-2.629365</td>\n",
       "    </tr>\n",
       "    <tr>\n",
       "      <th>2000-01-21</th>\n",
       "      <td>4.296051</td>\n",
       "      <td>4.307801</td>\n",
       "      <td>3.504547</td>\n",
       "      <td>-2.465275</td>\n",
       "    </tr>\n",
       "    <tr>\n",
       "      <th>2000-01-22</th>\n",
       "      <td>3.770410</td>\n",
       "      <td>3.617410</td>\n",
       "      <td>4.350162</td>\n",
       "      <td>-0.060890</td>\n",
       "    </tr>\n",
       "    <tr>\n",
       "      <th>2000-01-23</th>\n",
       "      <td>4.103896</td>\n",
       "      <td>3.546261</td>\n",
       "      <td>3.703307</td>\n",
       "      <td>-1.610163</td>\n",
       "    </tr>\n",
       "    <tr>\n",
       "      <th>2000-01-24</th>\n",
       "      <td>4.959277</td>\n",
       "      <td>2.461990</td>\n",
       "      <td>1.998834</td>\n",
       "      <td>-1.862651</td>\n",
       "    </tr>\n",
       "    <tr>\n",
       "      <th>2000-01-25</th>\n",
       "      <td>4.275752</td>\n",
       "      <td>2.194517</td>\n",
       "      <td>1.306127</td>\n",
       "      <td>-1.477984</td>\n",
       "    </tr>\n",
       "    <tr>\n",
       "      <th>2000-01-26</th>\n",
       "      <td>3.561327</td>\n",
       "      <td>2.189202</td>\n",
       "      <td>1.425502</td>\n",
       "      <td>-0.250941</td>\n",
       "    </tr>\n",
       "    <tr>\n",
       "      <th>2000-01-27</th>\n",
       "      <td>3.712027</td>\n",
       "      <td>1.925689</td>\n",
       "      <td>2.606864</td>\n",
       "      <td>-1.151564</td>\n",
       "    </tr>\n",
       "    <tr>\n",
       "      <th>2000-01-28</th>\n",
       "      <td>3.462348</td>\n",
       "      <td>0.696379</td>\n",
       "      <td>0.865728</td>\n",
       "      <td>0.291294</td>\n",
       "    </tr>\n",
       "    <tr>\n",
       "      <th>2000-01-29</th>\n",
       "      <td>2.770449</td>\n",
       "      <td>1.266414</td>\n",
       "      <td>-0.031748</td>\n",
       "      <td>0.532172</td>\n",
       "    </tr>\n",
       "    <tr>\n",
       "      <th>2000-01-30</th>\n",
       "      <td>2.011839</td>\n",
       "      <td>3.086300</td>\n",
       "      <td>-0.234731</td>\n",
       "      <td>0.033381</td>\n",
       "    </tr>\n",
       "    <tr>\n",
       "      <th>...</th>\n",
       "      <td>...</td>\n",
       "      <td>...</td>\n",
       "      <td>...</td>\n",
       "      <td>...</td>\n",
       "    </tr>\n",
       "    <tr>\n",
       "      <th>2002-08-28</th>\n",
       "      <td>-41.554560</td>\n",
       "      <td>51.604172</td>\n",
       "      <td>0.708071</td>\n",
       "      <td>-31.950674</td>\n",
       "    </tr>\n",
       "    <tr>\n",
       "      <th>2002-08-29</th>\n",
       "      <td>-43.026325</td>\n",
       "      <td>51.064007</td>\n",
       "      <td>2.673286</td>\n",
       "      <td>-31.377687</td>\n",
       "    </tr>\n",
       "    <tr>\n",
       "      <th>2002-08-30</th>\n",
       "      <td>-42.083156</td>\n",
       "      <td>49.126746</td>\n",
       "      <td>3.382624</td>\n",
       "      <td>-30.984946</td>\n",
       "    </tr>\n",
       "    <tr>\n",
       "      <th>2002-08-31</th>\n",
       "      <td>-41.393868</td>\n",
       "      <td>48.876364</td>\n",
       "      <td>3.335021</td>\n",
       "      <td>-30.676655</td>\n",
       "    </tr>\n",
       "    <tr>\n",
       "      <th>2002-09-01</th>\n",
       "      <td>-41.335487</td>\n",
       "      <td>49.796341</td>\n",
       "      <td>2.397880</td>\n",
       "      <td>-32.015189</td>\n",
       "    </tr>\n",
       "    <tr>\n",
       "      <th>2002-09-02</th>\n",
       "      <td>-41.521702</td>\n",
       "      <td>50.159744</td>\n",
       "      <td>0.177464</td>\n",
       "      <td>-32.564364</td>\n",
       "    </tr>\n",
       "    <tr>\n",
       "      <th>2002-09-03</th>\n",
       "      <td>-42.799438</td>\n",
       "      <td>50.283296</td>\n",
       "      <td>-0.908710</td>\n",
       "      <td>-34.680068</td>\n",
       "    </tr>\n",
       "    <tr>\n",
       "      <th>2002-09-04</th>\n",
       "      <td>-43.211849</td>\n",
       "      <td>50.748143</td>\n",
       "      <td>-1.115716</td>\n",
       "      <td>-34.216122</td>\n",
       "    </tr>\n",
       "    <tr>\n",
       "      <th>2002-09-05</th>\n",
       "      <td>-44.780650</td>\n",
       "      <td>51.907560</td>\n",
       "      <td>-0.572214</td>\n",
       "      <td>-33.906441</td>\n",
       "    </tr>\n",
       "    <tr>\n",
       "      <th>2002-09-06</th>\n",
       "      <td>-44.766084</td>\n",
       "      <td>51.957469</td>\n",
       "      <td>-1.004701</td>\n",
       "      <td>-33.399630</td>\n",
       "    </tr>\n",
       "    <tr>\n",
       "      <th>2002-09-07</th>\n",
       "      <td>-42.860984</td>\n",
       "      <td>51.487669</td>\n",
       "      <td>-2.492728</td>\n",
       "      <td>-33.880286</td>\n",
       "    </tr>\n",
       "    <tr>\n",
       "      <th>2002-09-08</th>\n",
       "      <td>-42.020921</td>\n",
       "      <td>51.234816</td>\n",
       "      <td>-4.164469</td>\n",
       "      <td>-34.677511</td>\n",
       "    </tr>\n",
       "    <tr>\n",
       "      <th>2002-09-09</th>\n",
       "      <td>-42.084246</td>\n",
       "      <td>52.397047</td>\n",
       "      <td>-4.365170</td>\n",
       "      <td>-35.039329</td>\n",
       "    </tr>\n",
       "    <tr>\n",
       "      <th>2002-09-10</th>\n",
       "      <td>-43.530438</td>\n",
       "      <td>51.883390</td>\n",
       "      <td>-5.189025</td>\n",
       "      <td>-36.121115</td>\n",
       "    </tr>\n",
       "    <tr>\n",
       "      <th>2002-09-11</th>\n",
       "      <td>-43.483749</td>\n",
       "      <td>53.153654</td>\n",
       "      <td>-5.099863</td>\n",
       "      <td>-36.115505</td>\n",
       "    </tr>\n",
       "    <tr>\n",
       "      <th>2002-09-12</th>\n",
       "      <td>-42.934200</td>\n",
       "      <td>52.766545</td>\n",
       "      <td>-4.101221</td>\n",
       "      <td>-36.767513</td>\n",
       "    </tr>\n",
       "    <tr>\n",
       "      <th>2002-09-13</th>\n",
       "      <td>-42.923758</td>\n",
       "      <td>52.956359</td>\n",
       "      <td>-4.500491</td>\n",
       "      <td>-35.772960</td>\n",
       "    </tr>\n",
       "    <tr>\n",
       "      <th>2002-09-14</th>\n",
       "      <td>-41.625313</td>\n",
       "      <td>53.780591</td>\n",
       "      <td>-3.903298</td>\n",
       "      <td>-36.538118</td>\n",
       "    </tr>\n",
       "    <tr>\n",
       "      <th>2002-09-15</th>\n",
       "      <td>-41.700387</td>\n",
       "      <td>54.062336</td>\n",
       "      <td>-4.745201</td>\n",
       "      <td>-37.242577</td>\n",
       "    </tr>\n",
       "    <tr>\n",
       "      <th>2002-09-16</th>\n",
       "      <td>-41.989054</td>\n",
       "      <td>53.113753</td>\n",
       "      <td>-4.821170</td>\n",
       "      <td>-36.748334</td>\n",
       "    </tr>\n",
       "    <tr>\n",
       "      <th>2002-09-17</th>\n",
       "      <td>-40.730028</td>\n",
       "      <td>53.125301</td>\n",
       "      <td>-5.699096</td>\n",
       "      <td>-36.583614</td>\n",
       "    </tr>\n",
       "    <tr>\n",
       "      <th>2002-09-18</th>\n",
       "      <td>-40.226381</td>\n",
       "      <td>54.521631</td>\n",
       "      <td>-5.447989</td>\n",
       "      <td>-34.150210</td>\n",
       "    </tr>\n",
       "    <tr>\n",
       "      <th>2002-09-19</th>\n",
       "      <td>-40.807019</td>\n",
       "      <td>53.091232</td>\n",
       "      <td>-3.772262</td>\n",
       "      <td>-33.988261</td>\n",
       "    </tr>\n",
       "    <tr>\n",
       "      <th>2002-09-20</th>\n",
       "      <td>-41.088578</td>\n",
       "      <td>53.453436</td>\n",
       "      <td>-4.856732</td>\n",
       "      <td>-34.011951</td>\n",
       "    </tr>\n",
       "    <tr>\n",
       "      <th>2002-09-21</th>\n",
       "      <td>-40.674046</td>\n",
       "      <td>55.000642</td>\n",
       "      <td>-5.855977</td>\n",
       "      <td>-31.977169</td>\n",
       "    </tr>\n",
       "    <tr>\n",
       "      <th>2002-09-22</th>\n",
       "      <td>-41.588232</td>\n",
       "      <td>53.337614</td>\n",
       "      <td>-5.152857</td>\n",
       "      <td>-33.049606</td>\n",
       "    </tr>\n",
       "    <tr>\n",
       "      <th>2002-09-23</th>\n",
       "      <td>-40.853188</td>\n",
       "      <td>52.246296</td>\n",
       "      <td>-5.323466</td>\n",
       "      <td>-32.700816</td>\n",
       "    </tr>\n",
       "    <tr>\n",
       "      <th>2002-09-24</th>\n",
       "      <td>-41.327140</td>\n",
       "      <td>50.564886</td>\n",
       "      <td>-5.123278</td>\n",
       "      <td>-33.874465</td>\n",
       "    </tr>\n",
       "    <tr>\n",
       "      <th>2002-09-25</th>\n",
       "      <td>-41.789507</td>\n",
       "      <td>50.850509</td>\n",
       "      <td>-5.343833</td>\n",
       "      <td>-33.866932</td>\n",
       "    </tr>\n",
       "    <tr>\n",
       "      <th>2002-09-26</th>\n",
       "      <td>-41.467431</td>\n",
       "      <td>47.884807</td>\n",
       "      <td>-7.087286</td>\n",
       "      <td>-32.340816</td>\n",
       "    </tr>\n",
       "  </tbody>\n",
       "</table>\n",
       "<p>1000 rows × 4 columns</p>\n",
       "</div>"
      ],
      "text/plain": [
       "                    A          B         C          D\n",
       "2000-01-01   1.110462  -1.057161  0.603814   0.510942\n",
       "2000-01-02  -0.254878  -1.334043  1.114364   0.802894\n",
       "2000-01-03   0.654421  -0.542519  0.141968   0.650010\n",
       "2000-01-04   1.099925  -1.386124 -1.021756  -0.853298\n",
       "2000-01-05   1.465917   0.973620 -1.496278  -1.336777\n",
       "2000-01-06   1.799886   1.280329 -2.444955  -1.759220\n",
       "2000-01-07   2.864489   1.759882 -1.380810  -2.089434\n",
       "2000-01-08   4.319111   0.566430 -0.606309  -2.584673\n",
       "2000-01-09   4.209268  -0.263162 -1.174834  -2.331877\n",
       "2000-01-10   3.443977   0.866722  0.463231  -2.528206\n",
       "2000-01-11   2.542012   1.568767  1.200003  -3.230610\n",
       "2000-01-12   2.773173   1.237994  0.563272  -1.704829\n",
       "2000-01-13   2.776984   0.735861  2.418432  -2.761334\n",
       "2000-01-14   3.541736   3.179040  1.093674  -2.465381\n",
       "2000-01-15   4.632817   3.300458  3.808489  -2.686189\n",
       "2000-01-16   2.535754   2.881684  4.327796  -2.728043\n",
       "2000-01-17   3.626397   2.982279  4.313731  -1.958256\n",
       "2000-01-18   4.105778   2.116170  4.158566  -2.646494\n",
       "2000-01-19   4.695216   2.130308  4.524767  -2.639688\n",
       "2000-01-20   3.915752   2.840922  2.193731  -2.629365\n",
       "2000-01-21   4.296051   4.307801  3.504547  -2.465275\n",
       "2000-01-22   3.770410   3.617410  4.350162  -0.060890\n",
       "2000-01-23   4.103896   3.546261  3.703307  -1.610163\n",
       "2000-01-24   4.959277   2.461990  1.998834  -1.862651\n",
       "2000-01-25   4.275752   2.194517  1.306127  -1.477984\n",
       "2000-01-26   3.561327   2.189202  1.425502  -0.250941\n",
       "2000-01-27   3.712027   1.925689  2.606864  -1.151564\n",
       "2000-01-28   3.462348   0.696379  0.865728   0.291294\n",
       "2000-01-29   2.770449   1.266414 -0.031748   0.532172\n",
       "2000-01-30   2.011839   3.086300 -0.234731   0.033381\n",
       "...               ...        ...       ...        ...\n",
       "2002-08-28 -41.554560  51.604172  0.708071 -31.950674\n",
       "2002-08-29 -43.026325  51.064007  2.673286 -31.377687\n",
       "2002-08-30 -42.083156  49.126746  3.382624 -30.984946\n",
       "2002-08-31 -41.393868  48.876364  3.335021 -30.676655\n",
       "2002-09-01 -41.335487  49.796341  2.397880 -32.015189\n",
       "2002-09-02 -41.521702  50.159744  0.177464 -32.564364\n",
       "2002-09-03 -42.799438  50.283296 -0.908710 -34.680068\n",
       "2002-09-04 -43.211849  50.748143 -1.115716 -34.216122\n",
       "2002-09-05 -44.780650  51.907560 -0.572214 -33.906441\n",
       "2002-09-06 -44.766084  51.957469 -1.004701 -33.399630\n",
       "2002-09-07 -42.860984  51.487669 -2.492728 -33.880286\n",
       "2002-09-08 -42.020921  51.234816 -4.164469 -34.677511\n",
       "2002-09-09 -42.084246  52.397047 -4.365170 -35.039329\n",
       "2002-09-10 -43.530438  51.883390 -5.189025 -36.121115\n",
       "2002-09-11 -43.483749  53.153654 -5.099863 -36.115505\n",
       "2002-09-12 -42.934200  52.766545 -4.101221 -36.767513\n",
       "2002-09-13 -42.923758  52.956359 -4.500491 -35.772960\n",
       "2002-09-14 -41.625313  53.780591 -3.903298 -36.538118\n",
       "2002-09-15 -41.700387  54.062336 -4.745201 -37.242577\n",
       "2002-09-16 -41.989054  53.113753 -4.821170 -36.748334\n",
       "2002-09-17 -40.730028  53.125301 -5.699096 -36.583614\n",
       "2002-09-18 -40.226381  54.521631 -5.447989 -34.150210\n",
       "2002-09-19 -40.807019  53.091232 -3.772262 -33.988261\n",
       "2002-09-20 -41.088578  53.453436 -4.856732 -34.011951\n",
       "2002-09-21 -40.674046  55.000642 -5.855977 -31.977169\n",
       "2002-09-22 -41.588232  53.337614 -5.152857 -33.049606\n",
       "2002-09-23 -40.853188  52.246296 -5.323466 -32.700816\n",
       "2002-09-24 -41.327140  50.564886 -5.123278 -33.874465\n",
       "2002-09-25 -41.789507  50.850509 -5.343833 -33.866932\n",
       "2002-09-26 -41.467431  47.884807 -7.087286 -32.340816\n",
       "\n",
       "[1000 rows x 4 columns]"
      ]
     },
     "execution_count": 210,
     "metadata": {},
     "output_type": "execute_result"
    }
   ],
   "source": [
    "df"
   ]
  },
  {
   "cell_type": "code",
   "execution_count": 211,
   "metadata": {},
   "outputs": [
    {
     "data": {
      "text/plain": [
       "<matplotlib.legend.Legend at 0x186d81c25f8>"
      ]
     },
     "execution_count": 211,
     "metadata": {},
     "output_type": "execute_result"
    },
    {
     "data": {
      "image/png": "[encoded data removed]",
      "text/plain": [
       "<Figure size 432x288 with 1 Axes>"
      ]
     },
     "metadata": {
      "needs_background": "light"
     },
     "output_type": "display_data"
    }
   ],
   "source": [
    "plt.figure;df.plot();plt.legend(loc='best')"
   ]
  },
  {
   "cell_type": "markdown",
   "metadata": {},
   "source": [
    "# 导入和保存数据"
   ]
  },
  {
   "cell_type": "markdown",
   "metadata": {},
   "source": [
    "### CSV，参考：[Writing to a csv file](http://pandas.pydata.org/pandas-docs/stable/io.html#io-store-in-csv)"
   ]
  },
  {
   "cell_type": "markdown",
   "metadata": {},
   "source": [
    "1.写入csv文件"
   ]
  },
  {
   "cell_type": "code",
   "execution_count": 212,
   "metadata": {},
   "outputs": [],
   "source": [
    "df.to_csv('foo.csv')"
   ]
  },
  {
   "cell_type": "markdown",
   "metadata": {},
   "source": [
    "2.从csv文件中读取："
   ]
  },
  {
   "cell_type": "code",
   "execution_count": 213,
   "metadata": {},
   "outputs": [
    {
     "data": {
      "text/html": [
       "<div>\n",
       "<style scoped>\n",
       "    .dataframe tbody tr th:only-of-type {\n",
       "        vertical-align: middle;\n",
       "    }\n",
       "\n",
       "    .dataframe tbody tr th {\n",
       "        vertical-align: top;\n",
       "    }\n",
       "\n",
       "    .dataframe thead th {\n",
       "        text-align: right;\n",
       "    }\n",
       "</style>\n",
       "<table border=\"1\" class=\"dataframe\">\n",
       "  <thead>\n",
       "    <tr style=\"text-align: right;\">\n",
       "      <th></th>\n",
       "      <th>Unnamed: 0</th>\n",
       "      <th>A</th>\n",
       "      <th>B</th>\n",
       "      <th>C</th>\n",
       "      <th>D</th>\n",
       "    </tr>\n",
       "  </thead>\n",
       "  <tbody>\n",
       "    <tr>\n",
       "      <th>0</th>\n",
       "      <td>2000-01-01</td>\n",
       "      <td>1.110462</td>\n",
       "      <td>-1.057161</td>\n",
       "      <td>0.603814</td>\n",
       "      <td>0.510942</td>\n",
       "    </tr>\n",
       "    <tr>\n",
       "      <th>1</th>\n",
       "      <td>2000-01-02</td>\n",
       "      <td>-0.254878</td>\n",
       "      <td>-1.334043</td>\n",
       "      <td>1.114364</td>\n",
       "      <td>0.802894</td>\n",
       "    </tr>\n",
       "    <tr>\n",
       "      <th>2</th>\n",
       "      <td>2000-01-03</td>\n",
       "      <td>0.654421</td>\n",
       "      <td>-0.542519</td>\n",
       "      <td>0.141968</td>\n",
       "      <td>0.650010</td>\n",
       "    </tr>\n",
       "    <tr>\n",
       "      <th>3</th>\n",
       "      <td>2000-01-04</td>\n",
       "      <td>1.099925</td>\n",
       "      <td>-1.386124</td>\n",
       "      <td>-1.021756</td>\n",
       "      <td>-0.853298</td>\n",
       "    </tr>\n",
       "    <tr>\n",
       "      <th>4</th>\n",
       "      <td>2000-01-05</td>\n",
       "      <td>1.465917</td>\n",
       "      <td>0.973620</td>\n",
       "      <td>-1.496278</td>\n",
       "      <td>-1.336777</td>\n",
       "    </tr>\n",
       "    <tr>\n",
       "      <th>5</th>\n",
       "      <td>2000-01-06</td>\n",
       "      <td>1.799886</td>\n",
       "      <td>1.280329</td>\n",
       "      <td>-2.444955</td>\n",
       "      <td>-1.759220</td>\n",
       "    </tr>\n",
       "    <tr>\n",
       "      <th>6</th>\n",
       "      <td>2000-01-07</td>\n",
       "      <td>2.864489</td>\n",
       "      <td>1.759882</td>\n",
       "      <td>-1.380810</td>\n",
       "      <td>-2.089434</td>\n",
       "    </tr>\n",
       "    <tr>\n",
       "      <th>7</th>\n",
       "      <td>2000-01-08</td>\n",
       "      <td>4.319111</td>\n",
       "      <td>0.566430</td>\n",
       "      <td>-0.606309</td>\n",
       "      <td>-2.584673</td>\n",
       "    </tr>\n",
       "    <tr>\n",
       "      <th>8</th>\n",
       "      <td>2000-01-09</td>\n",
       "      <td>4.209268</td>\n",
       "      <td>-0.263162</td>\n",
       "      <td>-1.174834</td>\n",
       "      <td>-2.331877</td>\n",
       "    </tr>\n",
       "    <tr>\n",
       "      <th>9</th>\n",
       "      <td>2000-01-10</td>\n",
       "      <td>3.443977</td>\n",
       "      <td>0.866722</td>\n",
       "      <td>0.463231</td>\n",
       "      <td>-2.528206</td>\n",
       "    </tr>\n",
       "    <tr>\n",
       "      <th>10</th>\n",
       "      <td>2000-01-11</td>\n",
       "      <td>2.542012</td>\n",
       "      <td>1.568767</td>\n",
       "      <td>1.200003</td>\n",
       "      <td>-3.230610</td>\n",
       "    </tr>\n",
       "    <tr>\n",
       "      <th>11</th>\n",
       "      <td>2000-01-12</td>\n",
       "      <td>2.773173</td>\n",
       "      <td>1.237994</td>\n",
       "      <td>0.563272</td>\n",
       "      <td>-1.704829</td>\n",
       "    </tr>\n",
       "    <tr>\n",
       "      <th>12</th>\n",
       "      <td>2000-01-13</td>\n",
       "      <td>2.776984</td>\n",
       "      <td>0.735861</td>\n",
       "      <td>2.418432</td>\n",
       "      <td>-2.761334</td>\n",
       "    </tr>\n",
       "    <tr>\n",
       "      <th>13</th>\n",
       "      <td>2000-01-14</td>\n",
       "      <td>3.541736</td>\n",
       "      <td>3.179040</td>\n",
       "      <td>1.093674</td>\n",
       "      <td>-2.465381</td>\n",
       "    </tr>\n",
       "    <tr>\n",
       "      <th>14</th>\n",
       "      <td>2000-01-15</td>\n",
       "      <td>4.632817</td>\n",
       "      <td>3.300458</td>\n",
       "      <td>3.808489</td>\n",
       "      <td>-2.686189</td>\n",
       "    </tr>\n",
       "    <tr>\n",
       "      <th>15</th>\n",
       "      <td>2000-01-16</td>\n",
       "      <td>2.535754</td>\n",
       "      <td>2.881684</td>\n",
       "      <td>4.327796</td>\n",
       "      <td>-2.728043</td>\n",
       "    </tr>\n",
       "    <tr>\n",
       "      <th>16</th>\n",
       "      <td>2000-01-17</td>\n",
       "      <td>3.626397</td>\n",
       "      <td>2.982279</td>\n",
       "      <td>4.313731</td>\n",
       "      <td>-1.958256</td>\n",
       "    </tr>\n",
       "    <tr>\n",
       "      <th>17</th>\n",
       "      <td>2000-01-18</td>\n",
       "      <td>4.105778</td>\n",
       "      <td>2.116170</td>\n",
       "      <td>4.158566</td>\n",
       "      <td>-2.646494</td>\n",
       "    </tr>\n",
       "    <tr>\n",
       "      <th>18</th>\n",
       "      <td>2000-01-19</td>\n",
       "      <td>4.695216</td>\n",
       "      <td>2.130308</td>\n",
       "      <td>4.524767</td>\n",
       "      <td>-2.639688</td>\n",
       "    </tr>\n",
       "    <tr>\n",
       "      <th>19</th>\n",
       "      <td>2000-01-20</td>\n",
       "      <td>3.915752</td>\n",
       "      <td>2.840922</td>\n",
       "      <td>2.193731</td>\n",
       "      <td>-2.629365</td>\n",
       "    </tr>\n",
       "    <tr>\n",
       "      <th>20</th>\n",
       "      <td>2000-01-21</td>\n",
       "      <td>4.296051</td>\n",
       "      <td>4.307801</td>\n",
       "      <td>3.504547</td>\n",
       "      <td>-2.465275</td>\n",
       "    </tr>\n",
       "    <tr>\n",
       "      <th>21</th>\n",
       "      <td>2000-01-22</td>\n",
       "      <td>3.770410</td>\n",
       "      <td>3.617410</td>\n",
       "      <td>4.350162</td>\n",
       "      <td>-0.060890</td>\n",
       "    </tr>\n",
       "    <tr>\n",
       "      <th>22</th>\n",
       "      <td>2000-01-23</td>\n",
       "      <td>4.103896</td>\n",
       "      <td>3.546261</td>\n",
       "      <td>3.703307</td>\n",
       "      <td>-1.610163</td>\n",
       "    </tr>\n",
       "    <tr>\n",
       "      <th>23</th>\n",
       "      <td>2000-01-24</td>\n",
       "      <td>4.959277</td>\n",
       "      <td>2.461990</td>\n",
       "      <td>1.998834</td>\n",
       "      <td>-1.862651</td>\n",
       "    </tr>\n",
       "    <tr>\n",
       "      <th>24</th>\n",
       "      <td>2000-01-25</td>\n",
       "      <td>4.275752</td>\n",
       "      <td>2.194517</td>\n",
       "      <td>1.306127</td>\n",
       "      <td>-1.477984</td>\n",
       "    </tr>\n",
       "    <tr>\n",
       "      <th>25</th>\n",
       "      <td>2000-01-26</td>\n",
       "      <td>3.561327</td>\n",
       "      <td>2.189202</td>\n",
       "      <td>1.425502</td>\n",
       "      <td>-0.250941</td>\n",
       "    </tr>\n",
       "    <tr>\n",
       "      <th>26</th>\n",
       "      <td>2000-01-27</td>\n",
       "      <td>3.712027</td>\n",
       "      <td>1.925689</td>\n",
       "      <td>2.606864</td>\n",
       "      <td>-1.151564</td>\n",
       "    </tr>\n",
       "    <tr>\n",
       "      <th>27</th>\n",
       "      <td>2000-01-28</td>\n",
       "      <td>3.462348</td>\n",
       "      <td>0.696379</td>\n",
       "      <td>0.865728</td>\n",
       "      <td>0.291294</td>\n",
       "    </tr>\n",
       "    <tr>\n",
       "      <th>28</th>\n",
       "      <td>2000-01-29</td>\n",
       "      <td>2.770449</td>\n",
       "      <td>1.266414</td>\n",
       "      <td>-0.031748</td>\n",
       "      <td>0.532172</td>\n",
       "    </tr>\n",
       "    <tr>\n",
       "      <th>29</th>\n",
       "      <td>2000-01-30</td>\n",
       "      <td>2.011839</td>\n",
       "      <td>3.086300</td>\n",
       "      <td>-0.234731</td>\n",
       "      <td>0.033381</td>\n",
       "    </tr>\n",
       "    <tr>\n",
       "      <th>...</th>\n",
       "      <td>...</td>\n",
       "      <td>...</td>\n",
       "      <td>...</td>\n",
       "      <td>...</td>\n",
       "      <td>...</td>\n",
       "    </tr>\n",
       "    <tr>\n",
       "      <th>970</th>\n",
       "      <td>2002-08-28</td>\n",
       "      <td>-41.554560</td>\n",
       "      <td>51.604172</td>\n",
       "      <td>0.708071</td>\n",
       "      <td>-31.950674</td>\n",
       "    </tr>\n",
       "    <tr>\n",
       "      <th>971</th>\n",
       "      <td>2002-08-29</td>\n",
       "      <td>-43.026325</td>\n",
       "      <td>51.064007</td>\n",
       "      <td>2.673286</td>\n",
       "      <td>-31.377687</td>\n",
       "    </tr>\n",
       "    <tr>\n",
       "      <th>972</th>\n",
       "      <td>2002-08-30</td>\n",
       "      <td>-42.083156</td>\n",
       "      <td>49.126746</td>\n",
       "      <td>3.382624</td>\n",
       "      <td>-30.984946</td>\n",
       "    </tr>\n",
       "    <tr>\n",
       "      <th>973</th>\n",
       "      <td>2002-08-31</td>\n",
       "      <td>-41.393868</td>\n",
       "      <td>48.876364</td>\n",
       "      <td>3.335021</td>\n",
       "      <td>-30.676655</td>\n",
       "    </tr>\n",
       "    <tr>\n",
       "      <th>974</th>\n",
       "      <td>2002-09-01</td>\n",
       "      <td>-41.335487</td>\n",
       "      <td>49.796341</td>\n",
       "      <td>2.397880</td>\n",
       "      <td>-32.015189</td>\n",
       "    </tr>\n",
       "    <tr>\n",
       "      <th>975</th>\n",
       "      <td>2002-09-02</td>\n",
       "      <td>-41.521702</td>\n",
       "      <td>50.159744</td>\n",
       "      <td>0.177464</td>\n",
       "      <td>-32.564364</td>\n",
       "    </tr>\n",
       "    <tr>\n",
       "      <th>976</th>\n",
       "      <td>2002-09-03</td>\n",
       "      <td>-42.799438</td>\n",
       "      <td>50.283296</td>\n",
       "      <td>-0.908710</td>\n",
       "      <td>-34.680068</td>\n",
       "    </tr>\n",
       "    <tr>\n",
       "      <th>977</th>\n",
       "      <td>2002-09-04</td>\n",
       "      <td>-43.211849</td>\n",
       "      <td>50.748143</td>\n",
       "      <td>-1.115716</td>\n",
       "      <td>-34.216122</td>\n",
       "    </tr>\n",
       "    <tr>\n",
       "      <th>978</th>\n",
       "      <td>2002-09-05</td>\n",
       "      <td>-44.780650</td>\n",
       "      <td>51.907560</td>\n",
       "      <td>-0.572214</td>\n",
       "      <td>-33.906441</td>\n",
       "    </tr>\n",
       "    <tr>\n",
       "      <th>979</th>\n",
       "      <td>2002-09-06</td>\n",
       "      <td>-44.766084</td>\n",
       "      <td>51.957469</td>\n",
       "      <td>-1.004701</td>\n",
       "      <td>-33.399630</td>\n",
       "    </tr>\n",
       "    <tr>\n",
       "      <th>980</th>\n",
       "      <td>2002-09-07</td>\n",
       "      <td>-42.860984</td>\n",
       "      <td>51.487669</td>\n",
       "      <td>-2.492728</td>\n",
       "      <td>-33.880286</td>\n",
       "    </tr>\n",
       "    <tr>\n",
       "      <th>981</th>\n",
       "      <td>2002-09-08</td>\n",
       "      <td>-42.020921</td>\n",
       "      <td>51.234816</td>\n",
       "      <td>-4.164469</td>\n",
       "      <td>-34.677511</td>\n",
       "    </tr>\n",
       "    <tr>\n",
       "      <th>982</th>\n",
       "      <td>2002-09-09</td>\n",
       "      <td>-42.084246</td>\n",
       "      <td>52.397047</td>\n",
       "      <td>-4.365170</td>\n",
       "      <td>-35.039329</td>\n",
       "    </tr>\n",
       "    <tr>\n",
       "      <th>983</th>\n",
       "      <td>2002-09-10</td>\n",
       "      <td>-43.530438</td>\n",
       "      <td>51.883390</td>\n",
       "      <td>-5.189025</td>\n",
       "      <td>-36.121115</td>\n",
       "    </tr>\n",
       "    <tr>\n",
       "      <th>984</th>\n",
       "      <td>2002-09-11</td>\n",
       "      <td>-43.483749</td>\n",
       "      <td>53.153654</td>\n",
       "      <td>-5.099863</td>\n",
       "      <td>-36.115505</td>\n",
       "    </tr>\n",
       "    <tr>\n",
       "      <th>985</th>\n",
       "      <td>2002-09-12</td>\n",
       "      <td>-42.934200</td>\n",
       "      <td>52.766545</td>\n",
       "      <td>-4.101221</td>\n",
       "      <td>-36.767513</td>\n",
       "    </tr>\n",
       "    <tr>\n",
       "      <th>986</th>\n",
       "      <td>2002-09-13</td>\n",
       "      <td>-42.923758</td>\n",
       "      <td>52.956359</td>\n",
       "      <td>-4.500491</td>\n",
       "      <td>-35.772960</td>\n",
       "    </tr>\n",
       "    <tr>\n",
       "      <th>987</th>\n",
       "      <td>2002-09-14</td>\n",
       "      <td>-41.625313</td>\n",
       "      <td>53.780591</td>\n",
       "      <td>-3.903298</td>\n",
       "      <td>-36.538118</td>\n",
       "    </tr>\n",
       "    <tr>\n",
       "      <th>988</th>\n",
       "      <td>2002-09-15</td>\n",
       "      <td>-41.700387</td>\n",
       "      <td>54.062336</td>\n",
       "      <td>-4.745201</td>\n",
       "      <td>-37.242577</td>\n",
       "    </tr>\n",
       "    <tr>\n",
       "      <th>989</th>\n",
       "      <td>2002-09-16</td>\n",
       "      <td>-41.989054</td>\n",
       "      <td>53.113753</td>\n",
       "      <td>-4.821170</td>\n",
       "      <td>-36.748334</td>\n",
       "    </tr>\n",
       "    <tr>\n",
       "      <th>990</th>\n",
       "      <td>2002-09-17</td>\n",
       "      <td>-40.730028</td>\n",
       "      <td>53.125301</td>\n",
       "      <td>-5.699096</td>\n",
       "      <td>-36.583614</td>\n",
       "    </tr>\n",
       "    <tr>\n",
       "      <th>991</th>\n",
       "      <td>2002-09-18</td>\n",
       "      <td>-40.226381</td>\n",
       "      <td>54.521631</td>\n",
       "      <td>-5.447989</td>\n",
       "      <td>-34.150210</td>\n",
       "    </tr>\n",
       "    <tr>\n",
       "      <th>992</th>\n",
       "      <td>2002-09-19</td>\n",
       "      <td>-40.807019</td>\n",
       "      <td>53.091232</td>\n",
       "      <td>-3.772262</td>\n",
       "      <td>-33.988261</td>\n",
       "    </tr>\n",
       "    <tr>\n",
       "      <th>993</th>\n",
       "      <td>2002-09-20</td>\n",
       "      <td>-41.088578</td>\n",
       "      <td>53.453436</td>\n",
       "      <td>-4.856732</td>\n",
       "      <td>-34.011951</td>\n",
       "    </tr>\n",
       "    <tr>\n",
       "      <th>994</th>\n",
       "      <td>2002-09-21</td>\n",
       "      <td>-40.674046</td>\n",
       "      <td>55.000642</td>\n",
       "      <td>-5.855977</td>\n",
       "      <td>-31.977169</td>\n",
       "    </tr>\n",
       "    <tr>\n",
       "      <th>995</th>\n",
       "      <td>2002-09-22</td>\n",
       "      <td>-41.588232</td>\n",
       "      <td>53.337614</td>\n",
       "      <td>-5.152857</td>\n",
       "      <td>-33.049606</td>\n",
       "    </tr>\n",
       "    <tr>\n",
       "      <th>996</th>\n",
       "      <td>2002-09-23</td>\n",
       "      <td>-40.853188</td>\n",
       "      <td>52.246296</td>\n",
       "      <td>-5.323466</td>\n",
       "      <td>-32.700816</td>\n",
       "    </tr>\n",
       "    <tr>\n",
       "      <th>997</th>\n",
       "      <td>2002-09-24</td>\n",
       "      <td>-41.327140</td>\n",
       "      <td>50.564886</td>\n",
       "      <td>-5.123278</td>\n",
       "      <td>-33.874465</td>\n",
       "    </tr>\n",
       "    <tr>\n",
       "      <th>998</th>\n",
       "      <td>2002-09-25</td>\n",
       "      <td>-41.789507</td>\n",
       "      <td>50.850509</td>\n",
       "      <td>-5.343833</td>\n",
       "      <td>-33.866932</td>\n",
       "    </tr>\n",
       "    <tr>\n",
       "      <th>999</th>\n",
       "      <td>2002-09-26</td>\n",
       "      <td>-41.467431</td>\n",
       "      <td>47.884807</td>\n",
       "      <td>-7.087286</td>\n",
       "      <td>-32.340816</td>\n",
       "    </tr>\n",
       "  </tbody>\n",
       "</table>\n",
       "<p>1000 rows × 5 columns</p>\n",
       "</div>"
      ],
      "text/plain": [
       "     Unnamed: 0          A          B         C          D\n",
       "0    2000-01-01   1.110462  -1.057161  0.603814   0.510942\n",
       "1    2000-01-02  -0.254878  -1.334043  1.114364   0.802894\n",
       "2    2000-01-03   0.654421  -0.542519  0.141968   0.650010\n",
       "3    2000-01-04   1.099925  -1.386124 -1.021756  -0.853298\n",
       "4    2000-01-05   1.465917   0.973620 -1.496278  -1.336777\n",
       "5    2000-01-06   1.799886   1.280329 -2.444955  -1.759220\n",
       "6    2000-01-07   2.864489   1.759882 -1.380810  -2.089434\n",
       "7    2000-01-08   4.319111   0.566430 -0.606309  -2.584673\n",
       "8    2000-01-09   4.209268  -0.263162 -1.174834  -2.331877\n",
       "9    2000-01-10   3.443977   0.866722  0.463231  -2.528206\n",
       "10   2000-01-11   2.542012   1.568767  1.200003  -3.230610\n",
       "11   2000-01-12   2.773173   1.237994  0.563272  -1.704829\n",
       "12   2000-01-13   2.776984   0.735861  2.418432  -2.761334\n",
       "13   2000-01-14   3.541736   3.179040  1.093674  -2.465381\n",
       "14   2000-01-15   4.632817   3.300458  3.808489  -2.686189\n",
       "15   2000-01-16   2.535754   2.881684  4.327796  -2.728043\n",
       "16   2000-01-17   3.626397   2.982279  4.313731  -1.958256\n",
       "17   2000-01-18   4.105778   2.116170  4.158566  -2.646494\n",
       "18   2000-01-19   4.695216   2.130308  4.524767  -2.639688\n",
       "19   2000-01-20   3.915752   2.840922  2.193731  -2.629365\n",
       "20   2000-01-21   4.296051   4.307801  3.504547  -2.465275\n",
       "21   2000-01-22   3.770410   3.617410  4.350162  -0.060890\n",
       "22   2000-01-23   4.103896   3.546261  3.703307  -1.610163\n",
       "23   2000-01-24   4.959277   2.461990  1.998834  -1.862651\n",
       "24   2000-01-25   4.275752   2.194517  1.306127  -1.477984\n",
       "25   2000-01-26   3.561327   2.189202  1.425502  -0.250941\n",
       "26   2000-01-27   3.712027   1.925689  2.606864  -1.151564\n",
       "27   2000-01-28   3.462348   0.696379  0.865728   0.291294\n",
       "28   2000-01-29   2.770449   1.266414 -0.031748   0.532172\n",
       "29   2000-01-30   2.011839   3.086300 -0.234731   0.033381\n",
       "..          ...        ...        ...       ...        ...\n",
       "970  2002-08-28 -41.554560  51.604172  0.708071 -31.950674\n",
       "971  2002-08-29 -43.026325  51.064007  2.673286 -31.377687\n",
       "972  2002-08-30 -42.083156  49.126746  3.382624 -30.984946\n",
       "973  2002-08-31 -41.393868  48.876364  3.335021 -30.676655\n",
       "974  2002-09-01 -41.335487  49.796341  2.397880 -32.015189\n",
       "975  2002-09-02 -41.521702  50.159744  0.177464 -32.564364\n",
       "976  2002-09-03 -42.799438  50.283296 -0.908710 -34.680068\n",
       "977  2002-09-04 -43.211849  50.748143 -1.115716 -34.216122\n",
       "978  2002-09-05 -44.780650  51.907560 -0.572214 -33.906441\n",
       "979  2002-09-06 -44.766084  51.957469 -1.004701 -33.399630\n",
       "980  2002-09-07 -42.860984  51.487669 -2.492728 -33.880286\n",
       "981  2002-09-08 -42.020921  51.234816 -4.164469 -34.677511\n",
       "982  2002-09-09 -42.084246  52.397047 -4.365170 -35.039329\n",
       "983  2002-09-10 -43.530438  51.883390 -5.189025 -36.121115\n",
       "984  2002-09-11 -43.483749  53.153654 -5.099863 -36.115505\n",
       "985  2002-09-12 -42.934200  52.766545 -4.101221 -36.767513\n",
       "986  2002-09-13 -42.923758  52.956359 -4.500491 -35.772960\n",
       "987  2002-09-14 -41.625313  53.780591 -3.903298 -36.538118\n",
       "988  2002-09-15 -41.700387  54.062336 -4.745201 -37.242577\n",
       "989  2002-09-16 -41.989054  53.113753 -4.821170 -36.748334\n",
       "990  2002-09-17 -40.730028  53.125301 -5.699096 -36.583614\n",
       "991  2002-09-18 -40.226381  54.521631 -5.447989 -34.150210\n",
       "992  2002-09-19 -40.807019  53.091232 -3.772262 -33.988261\n",
       "993  2002-09-20 -41.088578  53.453436 -4.856732 -34.011951\n",
       "994  2002-09-21 -40.674046  55.000642 -5.855977 -31.977169\n",
       "995  2002-09-22 -41.588232  53.337614 -5.152857 -33.049606\n",
       "996  2002-09-23 -40.853188  52.246296 -5.323466 -32.700816\n",
       "997  2002-09-24 -41.327140  50.564886 -5.123278 -33.874465\n",
       "998  2002-09-25 -41.789507  50.850509 -5.343833 -33.866932\n",
       "999  2002-09-26 -41.467431  47.884807 -7.087286 -32.340816\n",
       "\n",
       "[1000 rows x 5 columns]"
      ]
     },
     "execution_count": 213,
     "metadata": {},
     "output_type": "execute_result"
    }
   ],
   "source": [
    "pd.read_csv('foo.csv')"
   ]
  },
  {
   "cell_type": "markdown",
   "metadata": {},
   "source": [
    "### HDF5，参考：[HDFStores](http://pandas.pydata.org/pandas-docs/stable/io.html#io-hdf5)"
   ]
  },
  {
   "cell_type": "markdown",
   "metadata": {},
   "source": [
    "1.写入HDF5存储"
   ]
  },
  {
   "cell_type": "code",
   "execution_count": 214,
   "metadata": {},
   "outputs": [],
   "source": [
    "df.to_hdf('foo.h5', 'df')"
   ]
  },
  {
   "cell_type": "markdown",
   "metadata": {},
   "source": [
    "2.从HDF5存储中读取："
   ]
  },
  {
   "cell_type": "code",
   "execution_count": 215,
   "metadata": {},
   "outputs": [
    {
     "data": {
      "text/html": [
       "<div>\n",
       "<style scoped>\n",
       "    .dataframe tbody tr th:only-of-type {\n",
       "        vertical-align: middle;\n",
       "    }\n",
       "\n",
       "    .dataframe tbody tr th {\n",
       "        vertical-align: top;\n",
       "    }\n",
       "\n",
       "    .dataframe thead th {\n",
       "        text-align: right;\n",
       "    }\n",
       "</style>\n",
       "<table border=\"1\" class=\"dataframe\">\n",
       "  <thead>\n",
       "    <tr style=\"text-align: right;\">\n",
       "      <th></th>\n",
       "      <th>A</th>\n",
       "      <th>B</th>\n",
       "      <th>C</th>\n",
       "      <th>D</th>\n",
       "    </tr>\n",
       "  </thead>\n",
       "  <tbody>\n",
       "    <tr>\n",
       "      <th>2000-01-01</th>\n",
       "      <td>1.110462</td>\n",
       "      <td>-1.057161</td>\n",
       "      <td>0.603814</td>\n",
       "      <td>0.510942</td>\n",
       "    </tr>\n",
       "    <tr>\n",
       "      <th>2000-01-02</th>\n",
       "      <td>-0.254878</td>\n",
       "      <td>-1.334043</td>\n",
       "      <td>1.114364</td>\n",
       "      <td>0.802894</td>\n",
       "    </tr>\n",
       "    <tr>\n",
       "      <th>2000-01-03</th>\n",
       "      <td>0.654421</td>\n",
       "      <td>-0.542519</td>\n",
       "      <td>0.141968</td>\n",
       "      <td>0.650010</td>\n",
       "    </tr>\n",
       "    <tr>\n",
       "      <th>2000-01-04</th>\n",
       "      <td>1.099925</td>\n",
       "      <td>-1.386124</td>\n",
       "      <td>-1.021756</td>\n",
       "      <td>-0.853298</td>\n",
       "    </tr>\n",
       "    <tr>\n",
       "      <th>2000-01-05</th>\n",
       "      <td>1.465917</td>\n",
       "      <td>0.973620</td>\n",
       "      <td>-1.496278</td>\n",
       "      <td>-1.336777</td>\n",
       "    </tr>\n",
       "    <tr>\n",
       "      <th>2000-01-06</th>\n",
       "      <td>1.799886</td>\n",
       "      <td>1.280329</td>\n",
       "      <td>-2.444955</td>\n",
       "      <td>-1.759220</td>\n",
       "    </tr>\n",
       "    <tr>\n",
       "      <th>2000-01-07</th>\n",
       "      <td>2.864489</td>\n",
       "      <td>1.759882</td>\n",
       "      <td>-1.380810</td>\n",
       "      <td>-2.089434</td>\n",
       "    </tr>\n",
       "    <tr>\n",
       "      <th>2000-01-08</th>\n",
       "      <td>4.319111</td>\n",
       "      <td>0.566430</td>\n",
       "      <td>-0.606309</td>\n",
       "      <td>-2.584673</td>\n",
       "    </tr>\n",
       "    <tr>\n",
       "      <th>2000-01-09</th>\n",
       "      <td>4.209268</td>\n",
       "      <td>-0.263162</td>\n",
       "      <td>-1.174834</td>\n",
       "      <td>-2.331877</td>\n",
       "    </tr>\n",
       "    <tr>\n",
       "      <th>2000-01-10</th>\n",
       "      <td>3.443977</td>\n",
       "      <td>0.866722</td>\n",
       "      <td>0.463231</td>\n",
       "      <td>-2.528206</td>\n",
       "    </tr>\n",
       "    <tr>\n",
       "      <th>2000-01-11</th>\n",
       "      <td>2.542012</td>\n",
       "      <td>1.568767</td>\n",
       "      <td>1.200003</td>\n",
       "      <td>-3.230610</td>\n",
       "    </tr>\n",
       "    <tr>\n",
       "      <th>2000-01-12</th>\n",
       "      <td>2.773173</td>\n",
       "      <td>1.237994</td>\n",
       "      <td>0.563272</td>\n",
       "      <td>-1.704829</td>\n",
       "    </tr>\n",
       "    <tr>\n",
       "      <th>2000-01-13</th>\n",
       "      <td>2.776984</td>\n",
       "      <td>0.735861</td>\n",
       "      <td>2.418432</td>\n",
       "      <td>-2.761334</td>\n",
       "    </tr>\n",
       "    <tr>\n",
       "      <th>2000-01-14</th>\n",
       "      <td>3.541736</td>\n",
       "      <td>3.179040</td>\n",
       "      <td>1.093674</td>\n",
       "      <td>-2.465381</td>\n",
       "    </tr>\n",
       "    <tr>\n",
       "      <th>2000-01-15</th>\n",
       "      <td>4.632817</td>\n",
       "      <td>3.300458</td>\n",
       "      <td>3.808489</td>\n",
       "      <td>-2.686189</td>\n",
       "    </tr>\n",
       "    <tr>\n",
       "      <th>2000-01-16</th>\n",
       "      <td>2.535754</td>\n",
       "      <td>2.881684</td>\n",
       "      <td>4.327796</td>\n",
       "      <td>-2.728043</td>\n",
       "    </tr>\n",
       "    <tr>\n",
       "      <th>2000-01-17</th>\n",
       "      <td>3.626397</td>\n",
       "      <td>2.982279</td>\n",
       "      <td>4.313731</td>\n",
       "      <td>-1.958256</td>\n",
       "    </tr>\n",
       "    <tr>\n",
       "      <th>2000-01-18</th>\n",
       "      <td>4.105778</td>\n",
       "      <td>2.116170</td>\n",
       "      <td>4.158566</td>\n",
       "      <td>-2.646494</td>\n",
       "    </tr>\n",
       "    <tr>\n",
       "      <th>2000-01-19</th>\n",
       "      <td>4.695216</td>\n",
       "      <td>2.130308</td>\n",
       "      <td>4.524767</td>\n",
       "      <td>-2.639688</td>\n",
       "    </tr>\n",
       "    <tr>\n",
       "      <th>2000-01-20</th>\n",
       "      <td>3.915752</td>\n",
       "      <td>2.840922</td>\n",
       "      <td>2.193731</td>\n",
       "      <td>-2.629365</td>\n",
       "    </tr>\n",
       "    <tr>\n",
       "      <th>2000-01-21</th>\n",
       "      <td>4.296051</td>\n",
       "      <td>4.307801</td>\n",
       "      <td>3.504547</td>\n",
       "      <td>-2.465275</td>\n",
       "    </tr>\n",
       "    <tr>\n",
       "      <th>2000-01-22</th>\n",
       "      <td>3.770410</td>\n",
       "      <td>3.617410</td>\n",
       "      <td>4.350162</td>\n",
       "      <td>-0.060890</td>\n",
       "    </tr>\n",
       "    <tr>\n",
       "      <th>2000-01-23</th>\n",
       "      <td>4.103896</td>\n",
       "      <td>3.546261</td>\n",
       "      <td>3.703307</td>\n",
       "      <td>-1.610163</td>\n",
       "    </tr>\n",
       "    <tr>\n",
       "      <th>2000-01-24</th>\n",
       "      <td>4.959277</td>\n",
       "      <td>2.461990</td>\n",
       "      <td>1.998834</td>\n",
       "      <td>-1.862651</td>\n",
       "    </tr>\n",
       "    <tr>\n",
       "      <th>2000-01-25</th>\n",
       "      <td>4.275752</td>\n",
       "      <td>2.194517</td>\n",
       "      <td>1.306127</td>\n",
       "      <td>-1.477984</td>\n",
       "    </tr>\n",
       "    <tr>\n",
       "      <th>2000-01-26</th>\n",
       "      <td>3.561327</td>\n",
       "      <td>2.189202</td>\n",
       "      <td>1.425502</td>\n",
       "      <td>-0.250941</td>\n",
       "    </tr>\n",
       "    <tr>\n",
       "      <th>2000-01-27</th>\n",
       "      <td>3.712027</td>\n",
       "      <td>1.925689</td>\n",
       "      <td>2.606864</td>\n",
       "      <td>-1.151564</td>\n",
       "    </tr>\n",
       "    <tr>\n",
       "      <th>2000-01-28</th>\n",
       "      <td>3.462348</td>\n",
       "      <td>0.696379</td>\n",
       "      <td>0.865728</td>\n",
       "      <td>0.291294</td>\n",
       "    </tr>\n",
       "    <tr>\n",
       "      <th>2000-01-29</th>\n",
       "      <td>2.770449</td>\n",
       "      <td>1.266414</td>\n",
       "      <td>-0.031748</td>\n",
       "      <td>0.532172</td>\n",
       "    </tr>\n",
       "    <tr>\n",
       "      <th>2000-01-30</th>\n",
       "      <td>2.011839</td>\n",
       "      <td>3.086300</td>\n",
       "      <td>-0.234731</td>\n",
       "      <td>0.033381</td>\n",
       "    </tr>\n",
       "    <tr>\n",
       "      <th>...</th>\n",
       "      <td>...</td>\n",
       "      <td>...</td>\n",
       "      <td>...</td>\n",
       "      <td>...</td>\n",
       "    </tr>\n",
       "    <tr>\n",
       "      <th>2002-08-28</th>\n",
       "      <td>-41.554560</td>\n",
       "      <td>51.604172</td>\n",
       "      <td>0.708071</td>\n",
       "      <td>-31.950674</td>\n",
       "    </tr>\n",
       "    <tr>\n",
       "      <th>2002-08-29</th>\n",
       "      <td>-43.026325</td>\n",
       "      <td>51.064007</td>\n",
       "      <td>2.673286</td>\n",
       "      <td>-31.377687</td>\n",
       "    </tr>\n",
       "    <tr>\n",
       "      <th>2002-08-30</th>\n",
       "      <td>-42.083156</td>\n",
       "      <td>49.126746</td>\n",
       "      <td>3.382624</td>\n",
       "      <td>-30.984946</td>\n",
       "    </tr>\n",
       "    <tr>\n",
       "      <th>2002-08-31</th>\n",
       "      <td>-41.393868</td>\n",
       "      <td>48.876364</td>\n",
       "      <td>3.335021</td>\n",
       "      <td>-30.676655</td>\n",
       "    </tr>\n",
       "    <tr>\n",
       "      <th>2002-09-01</th>\n",
       "      <td>-41.335487</td>\n",
       "      <td>49.796341</td>\n",
       "      <td>2.397880</td>\n",
       "      <td>-32.015189</td>\n",
       "    </tr>\n",
       "    <tr>\n",
       "      <th>2002-09-02</th>\n",
       "      <td>-41.521702</td>\n",
       "      <td>50.159744</td>\n",
       "      <td>0.177464</td>\n",
       "      <td>-32.564364</td>\n",
       "    </tr>\n",
       "    <tr>\n",
       "      <th>2002-09-03</th>\n",
       "      <td>-42.799438</td>\n",
       "      <td>50.283296</td>\n",
       "      <td>-0.908710</td>\n",
       "      <td>-34.680068</td>\n",
       "    </tr>\n",
       "    <tr>\n",
       "      <th>2002-09-04</th>\n",
       "      <td>-43.211849</td>\n",
       "      <td>50.748143</td>\n",
       "      <td>-1.115716</td>\n",
       "      <td>-34.216122</td>\n",
       "    </tr>\n",
       "    <tr>\n",
       "      <th>2002-09-05</th>\n",
       "      <td>-44.780650</td>\n",
       "      <td>51.907560</td>\n",
       "      <td>-0.572214</td>\n",
       "      <td>-33.906441</td>\n",
       "    </tr>\n",
       "    <tr>\n",
       "      <th>2002-09-06</th>\n",
       "      <td>-44.766084</td>\n",
       "      <td>51.957469</td>\n",
       "      <td>-1.004701</td>\n",
       "      <td>-33.399630</td>\n",
       "    </tr>\n",
       "    <tr>\n",
       "      <th>2002-09-07</th>\n",
       "      <td>-42.860984</td>\n",
       "      <td>51.487669</td>\n",
       "      <td>-2.492728</td>\n",
       "      <td>-33.880286</td>\n",
       "    </tr>\n",
       "    <tr>\n",
       "      <th>2002-09-08</th>\n",
       "      <td>-42.020921</td>\n",
       "      <td>51.234816</td>\n",
       "      <td>-4.164469</td>\n",
       "      <td>-34.677511</td>\n",
       "    </tr>\n",
       "    <tr>\n",
       "      <th>2002-09-09</th>\n",
       "      <td>-42.084246</td>\n",
       "      <td>52.397047</td>\n",
       "      <td>-4.365170</td>\n",
       "      <td>-35.039329</td>\n",
       "    </tr>\n",
       "    <tr>\n",
       "      <th>2002-09-10</th>\n",
       "      <td>-43.530438</td>\n",
       "      <td>51.883390</td>\n",
       "      <td>-5.189025</td>\n",
       "      <td>-36.121115</td>\n",
       "    </tr>\n",
       "    <tr>\n",
       "      <th>2002-09-11</th>\n",
       "      <td>-43.483749</td>\n",
       "      <td>53.153654</td>\n",
       "      <td>-5.099863</td>\n",
       "      <td>-36.115505</td>\n",
       "    </tr>\n",
       "    <tr>\n",
       "      <th>2002-09-12</th>\n",
       "      <td>-42.934200</td>\n",
       "      <td>52.766545</td>\n",
       "      <td>-4.101221</td>\n",
       "      <td>-36.767513</td>\n",
       "    </tr>\n",
       "    <tr>\n",
       "      <th>2002-09-13</th>\n",
       "      <td>-42.923758</td>\n",
       "      <td>52.956359</td>\n",
       "      <td>-4.500491</td>\n",
       "      <td>-35.772960</td>\n",
       "    </tr>\n",
       "    <tr>\n",
       "      <th>2002-09-14</th>\n",
       "      <td>-41.625313</td>\n",
       "      <td>53.780591</td>\n",
       "      <td>-3.903298</td>\n",
       "      <td>-36.538118</td>\n",
       "    </tr>\n",
       "    <tr>\n",
       "      <th>2002-09-15</th>\n",
       "      <td>-41.700387</td>\n",
       "      <td>54.062336</td>\n",
       "      <td>-4.745201</td>\n",
       "      <td>-37.242577</td>\n",
       "    </tr>\n",
       "    <tr>\n",
       "      <th>2002-09-16</th>\n",
       "      <td>-41.989054</td>\n",
       "      <td>53.113753</td>\n",
       "      <td>-4.821170</td>\n",
       "      <td>-36.748334</td>\n",
       "    </tr>\n",
       "    <tr>\n",
       "      <th>2002-09-17</th>\n",
       "      <td>-40.730028</td>\n",
       "      <td>53.125301</td>\n",
       "      <td>-5.699096</td>\n",
       "      <td>-36.583614</td>\n",
       "    </tr>\n",
       "    <tr>\n",
       "      <th>2002-09-18</th>\n",
       "      <td>-40.226381</td>\n",
       "      <td>54.521631</td>\n",
       "      <td>-5.447989</td>\n",
       "      <td>-34.150210</td>\n",
       "    </tr>\n",
       "    <tr>\n",
       "      <th>2002-09-19</th>\n",
       "      <td>-40.807019</td>\n",
       "      <td>53.091232</td>\n",
       "      <td>-3.772262</td>\n",
       "      <td>-33.988261</td>\n",
       "    </tr>\n",
       "    <tr>\n",
       "      <th>2002-09-20</th>\n",
       "      <td>-41.088578</td>\n",
       "      <td>53.453436</td>\n",
       "      <td>-4.856732</td>\n",
       "      <td>-34.011951</td>\n",
       "    </tr>\n",
       "    <tr>\n",
       "      <th>2002-09-21</th>\n",
       "      <td>-40.674046</td>\n",
       "      <td>55.000642</td>\n",
       "      <td>-5.855977</td>\n",
       "      <td>-31.977169</td>\n",
       "    </tr>\n",
       "    <tr>\n",
       "      <th>2002-09-22</th>\n",
       "      <td>-41.588232</td>\n",
       "      <td>53.337614</td>\n",
       "      <td>-5.152857</td>\n",
       "      <td>-33.049606</td>\n",
       "    </tr>\n",
       "    <tr>\n",
       "      <th>2002-09-23</th>\n",
       "      <td>-40.853188</td>\n",
       "      <td>52.246296</td>\n",
       "      <td>-5.323466</td>\n",
       "      <td>-32.700816</td>\n",
       "    </tr>\n",
       "    <tr>\n",
       "      <th>2002-09-24</th>\n",
       "      <td>-41.327140</td>\n",
       "      <td>50.564886</td>\n",
       "      <td>-5.123278</td>\n",
       "      <td>-33.874465</td>\n",
       "    </tr>\n",
       "    <tr>\n",
       "      <th>2002-09-25</th>\n",
       "      <td>-41.789507</td>\n",
       "      <td>50.850509</td>\n",
       "      <td>-5.343833</td>\n",
       "      <td>-33.866932</td>\n",
       "    </tr>\n",
       "    <tr>\n",
       "      <th>2002-09-26</th>\n",
       "      <td>-41.467431</td>\n",
       "      <td>47.884807</td>\n",
       "      <td>-7.087286</td>\n",
       "      <td>-32.340816</td>\n",
       "    </tr>\n",
       "  </tbody>\n",
       "</table>\n",
       "<p>1000 rows × 4 columns</p>\n",
       "</div>"
      ],
      "text/plain": [
       "                    A          B         C          D\n",
       "2000-01-01   1.110462  -1.057161  0.603814   0.510942\n",
       "2000-01-02  -0.254878  -1.334043  1.114364   0.802894\n",
       "2000-01-03   0.654421  -0.542519  0.141968   0.650010\n",
       "2000-01-04   1.099925  -1.386124 -1.021756  -0.853298\n",
       "2000-01-05   1.465917   0.973620 -1.496278  -1.336777\n",
       "2000-01-06   1.799886   1.280329 -2.444955  -1.759220\n",
       "2000-01-07   2.864489   1.759882 -1.380810  -2.089434\n",
       "2000-01-08   4.319111   0.566430 -0.606309  -2.584673\n",
       "2000-01-09   4.209268  -0.263162 -1.174834  -2.331877\n",
       "2000-01-10   3.443977   0.866722  0.463231  -2.528206\n",
       "2000-01-11   2.542012   1.568767  1.200003  -3.230610\n",
       "2000-01-12   2.773173   1.237994  0.563272  -1.704829\n",
       "2000-01-13   2.776984   0.735861  2.418432  -2.761334\n",
       "2000-01-14   3.541736   3.179040  1.093674  -2.465381\n",
       "2000-01-15   4.632817   3.300458  3.808489  -2.686189\n",
       "2000-01-16   2.535754   2.881684  4.327796  -2.728043\n",
       "2000-01-17   3.626397   2.982279  4.313731  -1.958256\n",
       "2000-01-18   4.105778   2.116170  4.158566  -2.646494\n",
       "2000-01-19   4.695216   2.130308  4.524767  -2.639688\n",
       "2000-01-20   3.915752   2.840922  2.193731  -2.629365\n",
       "2000-01-21   4.296051   4.307801  3.504547  -2.465275\n",
       "2000-01-22   3.770410   3.617410  4.350162  -0.060890\n",
       "2000-01-23   4.103896   3.546261  3.703307  -1.610163\n",
       "2000-01-24   4.959277   2.461990  1.998834  -1.862651\n",
       "2000-01-25   4.275752   2.194517  1.306127  -1.477984\n",
       "2000-01-26   3.561327   2.189202  1.425502  -0.250941\n",
       "2000-01-27   3.712027   1.925689  2.606864  -1.151564\n",
       "2000-01-28   3.462348   0.696379  0.865728   0.291294\n",
       "2000-01-29   2.770449   1.266414 -0.031748   0.532172\n",
       "2000-01-30   2.011839   3.086300 -0.234731   0.033381\n",
       "...               ...        ...       ...        ...\n",
       "2002-08-28 -41.554560  51.604172  0.708071 -31.950674\n",
       "2002-08-29 -43.026325  51.064007  2.673286 -31.377687\n",
       "2002-08-30 -42.083156  49.126746  3.382624 -30.984946\n",
       "2002-08-31 -41.393868  48.876364  3.335021 -30.676655\n",
       "2002-09-01 -41.335487  49.796341  2.397880 -32.015189\n",
       "2002-09-02 -41.521702  50.159744  0.177464 -32.564364\n",
       "2002-09-03 -42.799438  50.283296 -0.908710 -34.680068\n",
       "2002-09-04 -43.211849  50.748143 -1.115716 -34.216122\n",
       "2002-09-05 -44.780650  51.907560 -0.572214 -33.906441\n",
       "2002-09-06 -44.766084  51.957469 -1.004701 -33.399630\n",
       "2002-09-07 -42.860984  51.487669 -2.492728 -33.880286\n",
       "2002-09-08 -42.020921  51.234816 -4.164469 -34.677511\n",
       "2002-09-09 -42.084246  52.397047 -4.365170 -35.039329\n",
       "2002-09-10 -43.530438  51.883390 -5.189025 -36.121115\n",
       "2002-09-11 -43.483749  53.153654 -5.099863 -36.115505\n",
       "2002-09-12 -42.934200  52.766545 -4.101221 -36.767513\n",
       "2002-09-13 -42.923758  52.956359 -4.500491 -35.772960\n",
       "2002-09-14 -41.625313  53.780591 -3.903298 -36.538118\n",
       "2002-09-15 -41.700387  54.062336 -4.745201 -37.242577\n",
       "2002-09-16 -41.989054  53.113753 -4.821170 -36.748334\n",
       "2002-09-17 -40.730028  53.125301 -5.699096 -36.583614\n",
       "2002-09-18 -40.226381  54.521631 -5.447989 -34.150210\n",
       "2002-09-19 -40.807019  53.091232 -3.772262 -33.988261\n",
       "2002-09-20 -41.088578  53.453436 -4.856732 -34.011951\n",
       "2002-09-21 -40.674046  55.000642 -5.855977 -31.977169\n",
       "2002-09-22 -41.588232  53.337614 -5.152857 -33.049606\n",
       "2002-09-23 -40.853188  52.246296 -5.323466 -32.700816\n",
       "2002-09-24 -41.327140  50.564886 -5.123278 -33.874465\n",
       "2002-09-25 -41.789507  50.850509 -5.343833 -33.866932\n",
       "2002-09-26 -41.467431  47.884807 -7.087286 -32.340816\n",
       "\n",
       "[1000 rows x 4 columns]"
      ]
     },
     "execution_count": 215,
     "metadata": {},
     "output_type": "execute_result"
    }
   ],
   "source": [
    "pd.read_hdf('foo.h5', 'df')"
   ]
  }
 ],
 "metadata": {
  "kernelspec": {
   "display_name": "Python 3",
   "language": "python",
   "name": "python3"
  },
  "language_info": {
   "codemirror_mode": {
    "name": "ipython",
    "version": 3
   },
   "file_extension": ".py",
   "mimetype": "text/x-python",
   "name": "python",
   "nbconvert_exporter": "python",
   "pygments_lexer": "ipython3",
   "version": "3.7.3"
  }
 },
 "nbformat": 4,
 "nbformat_minor": 1
}
